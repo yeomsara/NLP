{
 "cells": [
  {
   "cell_type": "markdown",
   "id": "13339fe7-b4b6-4be7-a8c1-c320c182233b",
   "metadata": {},
   "source": [
    "# Setting"
   ]
  },
  {
   "cell_type": "code",
   "execution_count": 16,
   "id": "959ac96a-ff8d-4de4-a048-113c1195558f",
   "metadata": {
    "execution": {
     "iopub.execute_input": "2021-07-14T07:46:38.608004Z",
     "iopub.status.busy": "2021-07-14T07:46:38.607777Z",
     "iopub.status.idle": "2021-07-14T07:46:38.610745Z",
     "shell.execute_reply": "2021-07-14T07:46:38.610331Z",
     "shell.execute_reply.started": "2021-07-14T07:46:38.607983Z"
    },
    "tags": []
   },
   "outputs": [],
   "source": [
    "import sys\n",
    "sys.path.append('/home/handeully/')\n",
    "sys.path.append('/home/yeomsara/YSR/python/')\n",
    "\n",
    "import bigquery_etl as bq\n",
    "import bigquery_sql_load as sql_loader\n",
    "\n",
    "import os\n",
    "import pandas as pd\n",
    "from nltk.stem     import WordNetLemmatizer"
   ]
  },
  {
   "cell_type": "code",
   "execution_count": 3,
   "id": "802edba5-0854-4edb-a6d8-b5e0555c48bc",
   "metadata": {
    "execution": {
     "iopub.execute_input": "2021-07-14T01:28:15.753199Z",
     "iopub.status.busy": "2021-07-14T01:28:15.752985Z",
     "iopub.status.idle": "2021-07-14T01:28:15.756804Z",
     "shell.execute_reply": "2021-07-14T01:28:15.756390Z",
     "shell.execute_reply.started": "2021-07-14T01:28:15.753170Z"
    },
    "tags": []
   },
   "outputs": [],
   "source": [
    "def convert_lowercase(df):\n",
    "    df_1 =  df.apply(lambda x: x.astype(str).str.lower() if(x.dtype == 'object') else x)\n",
    "    return df_1\n",
    "\n",
    "def lemmatize(x) : \n",
    "    if len(x.split(' ')) > 1 :\n",
    "        # MWE\n",
    "        tmp_x = x.split(' ')\n",
    "        tmp_x = [WordNetLemmatizer().lemmatize(y, pos='v') for y in tmp_x ]\n",
    "        tokenized_string = \" \".join(tmp_x)\n",
    "    else :\n",
    "        # Single\n",
    "        tokenized_string = WordNetLemmatizer().lemmatize(x, pos='v')    \n",
    "    return tokenized_string"
   ]
  },
  {
   "cell_type": "markdown",
   "id": "b957265a-08e5-4d93-9afe-9afb97a2ad09",
   "metadata": {},
   "source": [
    "# Load Data & Update DB Tale"
   ]
  },
  {
   "cell_type": "markdown",
   "id": "0e2095d4-553f-4c25-88e6-8e76ff6d4559",
   "metadata": {},
   "source": [
    "## Complain - CF1"
   ]
  },
  {
   "cell_type": "code",
   "execution_count": 46,
   "id": "74dde556-c404-4e99-b2f5-b33c6fe23647",
   "metadata": {
    "execution": {
     "iopub.execute_input": "2021-07-14T08:17:16.892079Z",
     "iopub.status.busy": "2021-07-14T08:17:16.891831Z",
     "iopub.status.idle": "2021-07-14T08:17:16.895622Z",
     "shell.execute_reply": "2021-07-14T08:17:16.895208Z",
     "shell.execute_reply.started": "2021-07-14T08:17:16.892053Z"
    },
    "tags": []
   },
   "outputs": [],
   "source": [
    "def update_cf1() :\n",
    "    print(\"---- Start Update Complain Factor Level 1 Dictionary Table\")\n",
    "    \n",
    "    try :\n",
    "        # Read Excel File\n",
    "        file_path = './update_dictionary/'\n",
    "        file_name = 'UpdateDictionary.xlsx'\n",
    "        sheetname = 'ComplainFactor1'\n",
    "        cf1_df = pd.read_excel(file_path+file_name, sheet_name = sheetname)\n",
    "        print(\"---- Excel File Load completed\")\n",
    "        \n",
    "        # Load Complain Factor 1 Keyword Table\n",
    "        sql = '''\n",
    "            select *\n",
    "            from taxonomy.cmpl_fc1_dic\n",
    "        '''\n",
    "        table = bq.select_query(sql)\n",
    "        print(\"---- Current Table Load completed\")\n",
    "        \n",
    "        # Update Shiny Keyword Table\n",
    "        new_table = pd.concat([table, cf1_df], ignore_index=True)\n",
    "        bq.insert_query('taxonomy.cmpl_fc1_dic', new_table)\n",
    "        print(\"---- Update Table completed\")\n",
    "        \n",
    "        # Delete Excel File\n",
    "        os.remove(file_path+file_name)\n",
    "        print(\"---- Deleted the Excel File\")\n",
    "        \n",
    "    except FileNotFoundError : \n",
    "        print(\"---- No such file or directory, Please check the file name\")\n",
    "        \n",
    "    print(\"---- Done\")"
   ]
  },
  {
   "cell_type": "markdown",
   "id": "df41a955-805a-4b0f-ad93-3fbd1088e95d",
   "metadata": {},
   "source": [
    "## Complain - CF2"
   ]
  },
  {
   "cell_type": "code",
   "execution_count": 53,
   "id": "ca815675-249d-4107-81a5-802a01d53020",
   "metadata": {
    "execution": {
     "iopub.execute_input": "2021-07-14T08:24:00.790695Z",
     "iopub.status.busy": "2021-07-14T08:24:00.790492Z",
     "iopub.status.idle": "2021-07-14T08:24:00.794153Z",
     "shell.execute_reply": "2021-07-14T08:24:00.793726Z",
     "shell.execute_reply.started": "2021-07-14T08:24:00.790674Z"
    },
    "tags": []
   },
   "outputs": [],
   "source": [
    "def update_cf2() :\n",
    "    print(\"---- Start Update Complain Factor Level 2 Dictionary Table\")\n",
    "    \n",
    "    try :\n",
    "        # Read Excel File\n",
    "        file_path = './update_dictionary/'\n",
    "        file_name = 'UpdateDictionary.xlsx'\n",
    "        sheetname = 'ComplainFactor2'\n",
    "        cf2_df = pd.read_excel(file_path+file_name)\n",
    "        print(\"---- Excel File Load completed\")\n",
    "        \n",
    "        # Load Complain Factor 2 Keyword Table\n",
    "        sql = '''\n",
    "            select *\n",
    "            from taxonomy.cmpl_fc2_dic\n",
    "        '''\n",
    "        table = bq.select_query(sql)\n",
    "        print(\"---- Current Table Load completed\")\n",
    "        \n",
    "        # Update Shiny Keyword Table\n",
    "        new_table = pd.concat([table, cf2_df], ignore_index=True)\n",
    "        bq.insert_query('taxonomy.cmpl_fc2_dic', new_table)\n",
    "        print(\"---- Update Table completed\")\n",
    "        \n",
    "        # Delete Excel File\n",
    "        os.remove(file_path+file_name)\n",
    "        print(\"---- Deleted the Excel File\")\n",
    "        \n",
    "    except FileNotFoundError : \n",
    "        print(\"---- No such file or directory, Please check the file name\")\n",
    "        \n",
    "    print(\"---- Done\")"
   ]
  },
  {
   "cell_type": "markdown",
   "id": "79c5d2a5-0d5b-4060-a233-303ea1da321b",
   "metadata": {},
   "source": [
    "## Complain - Synonym"
   ]
  },
  {
   "cell_type": "code",
   "execution_count": 62,
   "id": "15aba868-b23c-4f6e-96f3-78cf78e5104f",
   "metadata": {
    "execution": {
     "iopub.execute_input": "2021-07-14T08:31:14.422717Z",
     "iopub.status.busy": "2021-07-14T08:31:14.422515Z",
     "iopub.status.idle": "2021-07-14T08:31:14.427312Z",
     "shell.execute_reply": "2021-07-14T08:31:14.426900Z",
     "shell.execute_reply.started": "2021-07-14T08:31:14.422697Z"
    },
    "tags": []
   },
   "outputs": [],
   "source": [
    "def update_cf2_syn() :\n",
    "    print(\"---- Start Update Complain Factor Synonym Dictionary Table\")\n",
    "    \n",
    "    try :\n",
    "        # Read Excel File\n",
    "        file_path = './update_dictionary/' # EZ-flow \n",
    "        file_name = 'UpdateDictionary.xlsx'\n",
    "        sheetname = 'ComplainFactor2_Synonym'\n",
    "        cf2_syn_df = pd.read_excel(file_path+file_name, sheet_name = sheetname)\n",
    "        print(\"---- Excel File Load completed\")\n",
    "        \n",
    "        # Load Synonym of Complain Factor 2 Keyword Table\n",
    "        sql = '''\n",
    "            select *\n",
    "            from taxonomy.cmpl_fc2_syn_dic\n",
    "        '''\n",
    "        table = bq.select_query(sql)\n",
    "        print(\"---- Current Table Load completed\")\n",
    "        \n",
    "        # Lemmatizing on synonym expressions\n",
    "        cf2_syn_df['lemma'] = cf2_syn_df['synonym'].apply(lambda x : lemmatize(x))\n",
    "        \n",
    "        # Update Shiny Keyword Table\n",
    "        new_table = pd.concat([table, cf2_syn_df], ignore_index=True)\n",
    "        bq.insert_query('taxonomy.cmpl_fc2_syn_dic', new_table)\n",
    "        print(\"---- Update Table completed\")\n",
    "        \n",
    "        # Delete Excel File\n",
    "        os.remove(file_path+file_name)\n",
    "        print(\"---- Deleted the Excel File\")\n",
    "        \n",
    "    except FileNotFoundError : \n",
    "        print(\"---- No such file or directory, Please check the file name\")\n",
    "        \n",
    "    print(\"---- Done\")"
   ]
  },
  {
   "cell_type": "markdown",
   "id": "27bbf5d0-78f3-47e0-ada7-463cf657b9b5",
   "metadata": {},
   "source": [
    "## Shiny"
   ]
  },
  {
   "cell_type": "code",
   "execution_count": 44,
   "id": "4b3ae80e-d709-482f-bf9d-ac36a6562828",
   "metadata": {
    "execution": {
     "iopub.execute_input": "2021-07-14T08:08:40.466227Z",
     "iopub.status.busy": "2021-07-14T08:08:40.466030Z",
     "iopub.status.idle": "2021-07-14T08:08:40.469951Z",
     "shell.execute_reply": "2021-07-14T08:08:40.469500Z",
     "shell.execute_reply.started": "2021-07-14T08:08:40.466208Z"
    },
    "tags": []
   },
   "outputs": [],
   "source": [
    "def update_shiny() :\n",
    "    print(\"---- Start Update Shiny Dictionary Table\")\n",
    "    \n",
    "    try :\n",
    "        # Read Excel File\n",
    "        file_path = './update_dictionary/'\n",
    "        file_name = 'UpdateDictionary.xlsx'\n",
    "        sheetname = 'ShinyFactor'\n",
    "        shiny_df = pd.read_excel(file_path+file_name, sheet_name = sheetname)\n",
    "        shiny_df.rename(columns={'Factor':'factor', 'Keyword':'keyword'}, inplace=True)\n",
    "        print(\"---- Excel File Load completed\")\n",
    "        \n",
    "        # Load Shiny Keyword Table\n",
    "        sql = '''\n",
    "            select *\n",
    "            from taxonomy.shn_kwd\n",
    "        '''\n",
    "        table = bq.select_query(sql)\n",
    "        print(\"---- Current Table Load completed\")\n",
    "        \n",
    "        # Update Shiny Keyword Table\n",
    "        new_table = pd.concat([table, shiny_df], ignore_index=True)\n",
    "        bq.insert_query('taxonomy.shn_kwd', new_table)\n",
    "        print(\"---- Update Table completed\")\n",
    "        \n",
    "        # Delete Excel File\n",
    "        os.remove(file_path+file_name)\n",
    "        print(\"---- Deleted the Excel File\")\n",
    "        \n",
    "    except FileNotFoundError : \n",
    "        print(\"---- No such file or directory, Please check the file name\")\n",
    "        \n",
    "    print(\"---- Done\")"
   ]
  },
  {
   "cell_type": "markdown",
   "id": "747d82a2-4a6d-4556-98df-3a468667bd3b",
   "metadata": {},
   "source": [
    "## Product Category"
   ]
  },
  {
   "cell_type": "code",
   "execution_count": 71,
   "id": "cddc8ae8-b769-4706-b0e8-2f584b3cbea9",
   "metadata": {
    "execution": {
     "iopub.execute_input": "2021-07-15T00:26:54.540753Z",
     "iopub.status.busy": "2021-07-15T00:26:54.540402Z",
     "iopub.status.idle": "2021-07-15T00:26:54.546423Z",
     "shell.execute_reply": "2021-07-15T00:26:54.545757Z",
     "shell.execute_reply.started": "2021-07-15T00:26:54.540707Z"
    },
    "tags": []
   },
   "outputs": [],
   "source": [
    "def update_pdf_ctg() :\n",
    "    print(\"---- Start Update Product Categry Dictionary Table\")\n",
    "    \n",
    "    try :\n",
    "        # Read Excel File\n",
    "        file_path = './update_dictionary/'\n",
    "        file_name = 'UpdateDictionary.xlsx'\n",
    "        sheetname = 'Product_Category'\n",
    "        pdf_ctg_df = pd.read_excel(file_path+file_name, sheet_name = sheetname)\n",
    "        print(\"---- Excel File Load completed\")\n",
    "        \n",
    "        # Load Product Category Keyword Table\n",
    "        sql = '''\n",
    "            select *\n",
    "            from taxonomy.pdt_ctg\n",
    "        '''\n",
    "        table = bq.select_query(sql)\n",
    "        print(\"---- Current Table Load completed\")\n",
    "        \n",
    "        # Update Product Category Keyword Table\n",
    "        new_table = pd.concat([table, pdf_ctg_df], ignore_index=True)\n",
    "        bq.insert_query('taxonomy.pdt_ctg', new_table)\n",
    "        print(\"---- Update Table completed\")\n",
    "        \n",
    "        # Delete Excel File\n",
    "        os.remove(file_path+file_name)\n",
    "        print(\"---- Deleted the Excel File\")\n",
    "        \n",
    "    except FileNotFoundError : \n",
    "        print(\"---- No such file or directory, Please check the file name\")\n",
    "        \n",
    "    print(\"---- Done\")"
   ]
  },
  {
   "cell_type": "markdown",
   "id": "a0d9d0df-e941-4995-b39c-8a59a4008e21",
   "metadata": {},
   "source": [
    "# Excute Functions"
   ]
  },
  {
   "cell_type": "code",
   "execution_count": 77,
   "id": "189c0236-2fc6-4dcc-a174-aef5948bbef8",
   "metadata": {
    "execution": {
     "iopub.execute_input": "2021-07-15T01:04:35.989660Z",
     "iopub.status.busy": "2021-07-15T01:04:35.989380Z",
     "iopub.status.idle": "2021-07-15T01:04:46.452290Z",
     "shell.execute_reply": "2021-07-15T01:04:46.451797Z",
     "shell.execute_reply.started": "2021-07-15T01:04:35.989637Z"
    },
    "tags": []
   },
   "outputs": [
    {
     "name": "stdout",
     "output_type": "stream",
     "text": [
      "====== Code ======\n",
      "1 = Complain Factor1\n",
      "2 = Complain Factor2\n",
      "3 = Complain Factor2 Synonym\n",
      "4 = Shining Factor\n",
      "5 = Product Category\n",
      "==================\n",
      "\n"
     ]
    },
    {
     "name": "stdin",
     "output_type": "stream",
     "text": [
      "Input the Code number : (1/2/3/4/5) 5\n"
     ]
    },
    {
     "name": "stdout",
     "output_type": "stream",
     "text": [
      "---- Start Update Product Categry Dictionary Table\n",
      "---- Excel File Load completed\n",
      "---- Current Table Load completed\n"
     ]
    },
    {
     "name": "stderr",
     "output_type": "stream",
     "text": [
      "1it [00:02,  2.14s/it]"
     ]
    },
    {
     "name": "stdout",
     "output_type": "stream",
     "text": [
      "---- Update Table completed\n",
      "---- Deleted the Excel File\n",
      "---- Done\n"
     ]
    },
    {
     "name": "stderr",
     "output_type": "stream",
     "text": [
      "\n"
     ]
    }
   ],
   "source": [
    "print(\"====== Code ======\")\n",
    "print(\"1 = Complain Factor1\\n2 = Complain Factor2\\n3 = Complain Factor2 Synonym\\n4 = Shining Factor\\n5 = Product Category\")\n",
    "print(\"==================\\n\")\n",
    "\n",
    "while True : \n",
    "    code = input(\"Input the Code number : (1/2/3/4/5)\")\n",
    "    if code == '1' :\n",
    "        update_cf1()\n",
    "        break\n",
    "    elif code == '2' :\n",
    "        update_cf2()\n",
    "        break\n",
    "    elif code == '3' :\n",
    "        update_cf2_syn()\n",
    "        break\n",
    "    elif code == '4' :\n",
    "        update_shiny()\n",
    "        break        \n",
    "    elif code == '5' :\n",
    "        update_pdf_ctg()\n",
    "        break\n",
    "    else : \n",
    "        pass"
   ]
  }
 ],
 "metadata": {
  "kernelspec": {
   "display_name": "Python 3",
   "language": "python",
   "name": "python3"
  },
  "language_info": {
   "codemirror_mode": {
    "name": "ipython",
    "version": 3
   },
   "file_extension": ".py",
   "mimetype": "text/x-python",
   "name": "python",
   "nbconvert_exporter": "python",
   "pygments_lexer": "ipython3",
   "version": "3.8.10"
  },
  "toc-autonumbering": true
 },
 "nbformat": 4,
 "nbformat_minor": 5
}
