{
 "cells": [
  {
   "cell_type": "code",
   "execution_count": 5,
   "id": "5ab4fce0-6b08-4bb2-93ec-65614a26c60d",
   "metadata": {
    "execution": {
     "iopub.execute_input": "2021-05-11T07:16:43.455104Z",
     "iopub.status.busy": "2021-05-11T07:16:43.454866Z",
     "iopub.status.idle": "2021-05-11T07:16:54.063586Z",
     "shell.execute_reply": "2021-05-11T07:16:54.063077Z",
     "shell.execute_reply.started": "2021-05-11T07:16:43.455081Z"
    },
    "tags": []
   },
   "outputs": [
    {
     "name": "stdout",
     "output_type": "stream",
     "text": [
      "(935519, 15)\n"
     ]
    }
   ],
   "source": [
    "import pandas as pd\n",
    "import sys\n",
    "sys.path.append('/home/handeully/')\n",
    "import bigquery_etl as bq\n",
    "# GCP Env.\n",
    "import google.auth\n",
    "from google.cloud import bigquery\n",
    "from googletrans import Translator\n",
    "from google_trans_new import google_translator\n",
    "\n",
    "# Coding Env.\n",
    "import warnings\n",
    "credentials, project_id = google.auth.default(\n",
    "    scopes=[\"https://www.googleapis.com/auth/cloud-platform\"]\n",
    ")\n",
    "\n",
    "client = bigquery.Client(credentials=credentials, project=project_id )\n",
    "pd.set_option('display.max_columns', None)\n",
    "pd.set_option('display.max_rows', 1000)\n",
    "warnings.filterwarnings(\"ignore\", category=DeprecationWarning)\n",
    "\n",
    "# sql \n",
    "review_sql = f'''\n",
    "                WITH base_table AS (SELECT A.*,B.prdct_ctgry_4_5,B.brand,RANK() OVER(partition by A.reviewId order by crawlTime desc) as rank\n",
    "                                    FROM `market-analysis-project-91130`.crwl.amz_rvw_all A \n",
    "                                    LEFT JOIN `market-analysis-project-91130`.meta.crwl_amz_pdt_mst_all B ON A.asin =B.asin)\n",
    "                SELECT  reviewId,\n",
    "                        region,\t\t\n",
    "                        lower(brand)as brand,\n",
    "                        asin,\n",
    "                        date(date)as date,\n",
    "                        helpful_vote,\n",
    "                        initialTime,\n",
    "                        rating,\n",
    "                        reviewer_url,\n",
    "                        product_option,\n",
    "                        title,\n",
    "                        verified_purchase,\n",
    "                        crawlTime,\n",
    "                        review_text,\n",
    "                        prdct_ctgry_4_5\n",
    "                FROM base_table\n",
    "                WHERE prdct_ctgry_4_5 is not null and rank = 1\n",
    "                AND reviewId not in (select reviewId\n",
    "                                          from (\n",
    "                                                 SELECT reviewId,count(DISTINCT prdct_ctgry_4_5)--A.*,B.prdct_ctgry_4_5,RANK() OVER(partition by A.reviewId order by crawlTime desc) as rank\n",
    "                                                 FROM base_table\n",
    "                                                 GROUP BY reviewId \n",
    "                                                 HAVING count(DISTINCT prdct_ctgry_4_5) > 1\n",
    "                                             )\n",
    "                                     )\t\t\n",
    "                AND substring(date,1,4) >= '2020'\n",
    "                AND rating in(1,2,5)\n",
    "                ORDER BY DATE ASC\n",
    "             '''\n",
    "\n",
    "\n",
    "df                      =  bq.select_query(review_sql)\n",
    "\n",
    "print(df.shape)"
   ]
  }
 ],
 "metadata": {
  "kernelspec": {
   "display_name": "Python 3",
   "language": "python",
   "name": "python3"
  },
  "language_info": {
   "codemirror_mode": {
    "name": "ipython",
    "version": 3
   },
   "file_extension": ".py",
   "mimetype": "text/x-python",
   "name": "python",
   "nbconvert_exporter": "python",
   "pygments_lexer": "ipython3",
   "version": "3.8.5"
  }
 },
 "nbformat": 4,
 "nbformat_minor": 5
}
