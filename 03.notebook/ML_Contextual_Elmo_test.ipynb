{
 "cells": [
  {
   "cell_type": "code",
   "execution_count": 1,
   "id": "c50154e2-73e8-404f-8cfb-a1525d0a7a9f",
   "metadata": {
    "execution": {
     "iopub.execute_input": "2021-06-21T08:02:40.477088Z",
     "iopub.status.busy": "2021-06-21T08:02:40.476832Z",
     "iopub.status.idle": "2021-06-21T08:02:48.079576Z",
     "shell.execute_reply": "2021-06-21T08:02:48.079017Z",
     "shell.execute_reply.started": "2021-06-21T08:02:40.477028Z"
    },
    "tags": []
   },
   "outputs": [
    {
     "name": "stdout",
     "output_type": "stream",
     "text": [
      "multiprocessing using 16 cores\n"
     ]
    },
    {
     "name": "stderr",
     "output_type": "stream",
     "text": [
      "2021-06-21 08:02:46,469\tINFO services.py:1172 -- View the Ray dashboard at \u001b[1m\u001b[32mhttp://127.0.0.1:8267\u001b[39m\u001b[22m\n"
     ]
    },
    {
     "data": {
      "text/plain": [
       "{'node_ip_address': '10.178.0.34',\n",
       " 'raylet_ip_address': '10.178.0.34',\n",
       " 'redis_address': '10.178.0.34:45140',\n",
       " 'object_store_address': '/tmp/ray/session_2021-06-21_08-02-45_855173_3012/sockets/plasma_store',\n",
       " 'raylet_socket_name': '/tmp/ray/session_2021-06-21_08-02-45_855173_3012/sockets/raylet',\n",
       " 'webui_url': '127.0.0.1:8267',\n",
       " 'session_dir': '/tmp/ray/session_2021-06-21_08-02-45_855173_3012',\n",
       " 'metrics_export_port': 58871,\n",
       " 'node_id': '0786f1f6a92b85f1e4159bc7e64d79dab706d79e1cb315996226e22b'}"
      ]
     },
     "execution_count": 1,
     "metadata": {},
     "output_type": "execute_result"
    }
   ],
   "source": [
    "import pandas as pd\n",
    "import numpy  as np\n",
    "import os\n",
    "import re\n",
    "import datetime\n",
    "import pytz\n",
    "import copy\n",
    "from collections import Counter\n",
    "from emoji   import UNICODE_EMOJI\n",
    "from functools   import reduce\n",
    "import sys\n",
    "sys.path.append('/home/handeully/')\n",
    "import bigquery_etl as bq\n",
    "import operator\n",
    "import time\n",
    "from IPython.display import display\n",
    "# NLP Env.\n",
    "import nltk\n",
    "from nltk import FreqDist\n",
    "from nltk.corpus   import stopwords\n",
    "from nltk.tokenize import regexp_tokenize\n",
    "from nltk.stem import WordNetLemmatizer,PorterStemmer,LancasterStemmer\n",
    "from nltk.corpus   import wordnet\n",
    "from nltk.corpus   import sentiwordnet as swn\n",
    "from nltk import sent_tokenize,word_tokenize,pos_tag\n",
    "\n",
    "# stop_words = stopwords.words('english')\n",
    "import spacy\n",
    "import gensim\n",
    "from gensim import corpora\n",
    "from gensim.models.keyedvectors import KeyedVectors\n",
    "from gensim.scripts.glove2word2vec import glove2word2vec\n",
    "import ray\n",
    "import psutil\n",
    "from tqdm.notebook import tqdm\n",
    "\n",
    "#glove\n",
    "from glove import Corpus,Glove\n",
    "\n",
    "# Vis Env.\n",
    "import pyLDAvis\n",
    "import matplotlib.pyplot as plt\n",
    "import seaborn as sns\n",
    "%matplotlib inline\n",
    "\n",
    "# GCP Env.\n",
    "import google.auth\n",
    "from google.cloud import bigquery\n",
    "from googletrans import Translator\n",
    "from google_trans_new import google_translator\n",
    "\n",
    "# Coding Env.\n",
    "import warnings\n",
    "from pandas.core.common import SettingWithCopyWarning\n",
    "\n",
    "credentials, project_id = google.auth.default(\n",
    "    scopes=[\"https://www.googleapis.com/auth/cloud-platform\"]\n",
    ")\n",
    "\n",
    "client = bigquery.Client(credentials=credentials, project=project_id )\n",
    "pd.set_option('display.max_columns', None)\n",
    "pd.set_option('display.max_rows', 1000)\n",
    "warnings.filterwarnings('ignore', category=DeprecationWarning)\n",
    "warnings.simplefilter(action=\"ignore\", category=SettingWithCopyWarning)\n",
    "\n",
    "import tensorflow_hub as hub\n",
    "import tensorflow as tf\n",
    "\n",
    "\n",
    "#initialization ray\n",
    "num_logit_cpus = psutil.cpu_count()\n",
    "print(f'multiprocessing using {num_logit_cpus} cores')\n",
    "ray.init(ignore_reinit_error=True,num_cpus=num_logit_cpus)\n",
    "\n"
   ]
  },
  {
   "cell_type": "code",
   "execution_count": 2,
   "id": "f8ac5586-e30a-4011-aa4d-9aa42c65c75f",
   "metadata": {
    "execution": {
     "iopub.execute_input": "2021-06-21T08:02:48.081278Z",
     "iopub.status.busy": "2021-06-21T08:02:48.081009Z",
     "iopub.status.idle": "2021-06-21T08:02:59.751872Z",
     "shell.execute_reply": "2021-06-21T08:02:59.751331Z",
     "shell.execute_reply.started": "2021-06-21T08:02:48.081255Z"
    },
    "tags": []
   },
   "outputs": [],
   "source": [
    "\n",
    "elmo = hub.load('https://tfhub.dev/google/elmo/2')\n",
    "# elmo = hub.Module(\"https://tfhub.dev/google/elmo/2\", name=\"ELMO\", trainable=True)"
   ]
  },
  {
   "cell_type": "code",
   "execution_count": 3,
   "id": "c07a3142-6f14-4aff-b34b-96e4a6319a37",
   "metadata": {
    "execution": {
     "iopub.execute_input": "2021-06-21T08:02:59.755890Z",
     "iopub.status.busy": "2021-06-21T08:02:59.755683Z",
     "iopub.status.idle": "2021-06-21T08:03:00.589348Z",
     "shell.execute_reply": "2021-06-21T08:03:00.588648Z",
     "shell.execute_reply.started": "2021-06-21T08:02:59.755867Z"
    },
    "tags": []
   },
   "outputs": [
    {
     "name": "stdout",
     "output_type": "stream",
     "text": [
      "ELMo: [[ 9.5180012e-03 -8.0246813e-05  2.6493142e-03 -5.5266230e-04\n",
      "  -1.3538116e-02]\n",
      " [ 7.7355630e-03  2.7226850e-03  2.8787476e-01  2.4287330e-02\n",
      "   4.1685767e-02]\n",
      " [-1.5542916e-02 -8.7496545e-03  2.4287330e-02  2.7392098e-01\n",
      "   4.8746392e-02]\n",
      " [-1.1603009e-03 -3.7374350e-03  3.0211162e-02  8.4097041e-03\n",
      "   2.9106410e-02]\n",
      " [ 1.2297216e-03  3.5184834e-03  5.8938339e-03  1.9753056e-04\n",
      "  -2.9416273e-03]]\n"
     ]
    }
   ],
   "source": [
    "tensor_of_strings = tf.constant([\"way too soft ast\",\n",
    "                                 \"it is too soft awful\",\n",
    "                                 \"Lazy\"])\n",
    "a = elmo.signatures['default'](tensor_of_strings)['word_emb'][0]\n",
    "b = elmo.signatures['default'](tensor_of_strings)['word_emb'][1]\n",
    "\n",
    "def cos_sim(a, b):\n",
    "    return np.inner(a, b) / (np.linalg.norm(a) * (np.linalg.norm(b)))\n",
    "\n",
    "\n",
    "print(\"ELMo:\", cos_sim(a,b))\n"
   ]
  },
  {
   "cell_type": "code",
   "execution_count": 4,
   "id": "9fbf475b-b5eb-4605-9332-e0b9d07edea3",
   "metadata": {
    "execution": {
     "iopub.execute_input": "2021-06-21T08:03:04.115649Z",
     "iopub.status.busy": "2021-06-21T08:03:04.115426Z",
     "iopub.status.idle": "2021-06-21T08:03:04.182845Z",
     "shell.execute_reply": "2021-06-21T08:03:04.182336Z",
     "shell.execute_reply.started": "2021-06-21T08:03:04.115625Z"
    },
    "tags": []
   },
   "outputs": [
    {
     "data": {
      "text/plain": [
       "<tf.Tensor: shape=(3, 1024), dtype=float32, numpy=\n",
       "array([[ 0.1356267 , -0.34732044,  0.40111545, ...,  0.06623798,\n",
       "         0.0930934 ,  0.21503545],\n",
       "       [-0.21489973, -0.41656438,  0.14316607, ..., -0.12296386,\n",
       "         0.42859054,  0.34723777],\n",
       "       [-0.22628236, -0.5580681 ,  0.18499218, ...,  0.30330458,\n",
       "        -0.1853257 ,  0.37362975]], dtype=float32)>"
      ]
     },
     "execution_count": 4,
     "metadata": {},
     "output_type": "execute_result"
    }
   ],
   "source": [
    "elmo.signatures['default'](tensor_of_strings)['default']"
   ]
  },
  {
   "cell_type": "code",
   "execution_count": 5,
   "id": "72a920de-59d2-41dd-92eb-e526cdcab26a",
   "metadata": {
    "execution": {
     "iopub.execute_input": "2021-06-21T08:03:12.063875Z",
     "iopub.status.busy": "2021-06-21T08:03:12.063638Z",
     "iopub.status.idle": "2021-06-21T08:03:12.128230Z",
     "shell.execute_reply": "2021-06-21T08:03:12.127692Z",
     "shell.execute_reply.started": "2021-06-21T08:03:12.063850Z"
    },
    "tags": []
   },
   "outputs": [
    {
     "data": {
      "text/plain": [
       "<tf.Tensor: shape=(3, 5, 512), dtype=float32, numpy=\n",
       "array([[[ 3.0639046e-01, -1.8356988e-01, -1.4832385e-01, ...,\n",
       "          4.9684113e-01,  2.2097029e-01,  3.6310643e-02],\n",
       "        [-9.0264246e-02, -7.2146845e-01, -4.7797453e-01, ...,\n",
       "          4.1464072e-01,  3.0869979e-01, -3.6598146e-02],\n",
       "        [ 9.6202493e-03, -6.1759092e-02,  4.6186161e-01, ...,\n",
       "          4.8391622e-01,  5.8916688e-01,  5.6873739e-01],\n",
       "        [ 5.5276489e-01,  3.2464862e-01,  2.5802833e-01, ...,\n",
       "         -3.3126295e-01, -6.3303626e-01,  4.7354150e-01],\n",
       "        [-8.5225224e-02, -1.3059647e-01,  1.2390486e-01, ...,\n",
       "          7.7495039e-02, -4.2895086e-02, -4.9512655e-02]],\n",
       "\n",
       "       [[ 1.0388984e-01, -4.5646822e-01,  6.0496852e-02, ...,\n",
       "         -4.3939475e-02, -7.4158609e-04, -4.3987298e-01],\n",
       "        [ 1.9154720e-01,  2.2998667e-01, -2.8943861e-01, ...,\n",
       "         -6.4465389e-02,  5.8101863e-01,  2.1768014e-01],\n",
       "        [-9.0264246e-02, -7.2146845e-01, -4.7797453e-01, ...,\n",
       "          4.1464072e-01,  3.0869979e-01, -3.6598146e-02],\n",
       "        [ 9.6202493e-03, -6.1759092e-02,  4.6186161e-01, ...,\n",
       "          4.8391622e-01,  5.8916688e-01,  5.6873739e-01],\n",
       "        [-6.2219992e-02, -4.8056552e-01,  4.7804281e-02, ...,\n",
       "         -2.4425240e-01, -9.6054435e-02,  5.0959229e-01]],\n",
       "\n",
       "       [[-3.0817735e-01, -4.0902898e-01, -5.7481200e-01, ...,\n",
       "         -1.9106309e-01, -1.1441907e-01,  1.2882525e+00],\n",
       "        [-8.5225224e-02, -1.3059647e-01,  1.2390486e-01, ...,\n",
       "          7.7495039e-02, -4.2895086e-02, -4.9512655e-02],\n",
       "        [-8.5225224e-02, -1.3059647e-01,  1.2390486e-01, ...,\n",
       "          7.7495039e-02, -4.2895086e-02, -4.9512655e-02],\n",
       "        [-8.5225224e-02, -1.3059647e-01,  1.2390486e-01, ...,\n",
       "          7.7495039e-02, -4.2895086e-02, -4.9512655e-02],\n",
       "        [-8.5225224e-02, -1.3059647e-01,  1.2390486e-01, ...,\n",
       "          7.7495039e-02, -4.2895086e-02, -4.9512655e-02]]], dtype=float32)>"
      ]
     },
     "execution_count": 5,
     "metadata": {},
     "output_type": "execute_result"
    }
   ],
   "source": [
    "elmo.signatures['default'](tensor_of_strings)['word_emb']"
   ]
  }
 ],
 "metadata": {
  "kernelspec": {
   "display_name": "Python 3",
   "language": "python",
   "name": "python3"
  },
  "language_info": {
   "codemirror_mode": {
    "name": "ipython",
    "version": 3
   },
   "file_extension": ".py",
   "mimetype": "text/x-python",
   "name": "python",
   "nbconvert_exporter": "python",
   "pygments_lexer": "ipython3",
   "version": "3.8.5"
  }
 },
 "nbformat": 4,
 "nbformat_minor": 5
}
