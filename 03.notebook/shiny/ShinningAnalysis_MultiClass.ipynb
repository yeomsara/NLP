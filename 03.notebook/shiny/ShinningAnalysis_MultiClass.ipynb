{
 "cells": [
  {
   "cell_type": "markdown",
   "id": "a384a1f8-f911-4a5e-8703-e821144f436b",
   "metadata": {},
   "source": [
    "# Setting"
   ]
  },
  {
   "cell_type": "markdown",
   "id": "45fcbcfc-1cc5-4b46-a3e0-8bb7528ee065",
   "metadata": {},
   "source": [
    "## Environmental Setting"
   ]
  },
  {
   "cell_type": "code",
   "execution_count": 1,
   "id": "dede22ef-30a7-4a58-a088-efe88d71a187",
   "metadata": {
    "execution": {
     "iopub.execute_input": "2021-06-30T08:50:13.581991Z",
     "iopub.status.busy": "2021-06-30T08:50:13.581751Z",
     "iopub.status.idle": "2021-06-30T08:50:36.031445Z",
     "shell.execute_reply": "2021-06-30T08:50:36.030996Z",
     "shell.execute_reply.started": "2021-06-30T08:50:13.581937Z"
    },
    "tags": []
   },
   "outputs": [],
   "source": [
    "# Anal Env.\n",
    "import pandas as pd\n",
    "import numpy  as np\n",
    "import os\n",
    "import re\n",
    "import datetime\n",
    "import pytz\n",
    "import copy\n",
    "from collections import Counter\n",
    "from emoji       import UNICODE_EMOJI\n",
    "from functools   import reduce\n",
    "import operator\n",
    "import time\n",
    "\n",
    "\n",
    "import sys\n",
    "sys.path.append('/home/handeully/')\n",
    "# GCP Env.\n",
    "import bigquery_etl as bq\n",
    "\n",
    "\n",
    "# NLP Env.\n",
    "import nltk\n",
    "from nltk import FreqDist\n",
    "from nltk.corpus   import stopwords\n",
    "from nltk.tokenize import regexp_tokenize\n",
    "from nltk.stem     import WordNetLemmatizer,PorterStemmer,LancasterStemmer\n",
    "from nltk.corpus   import wordnet\n",
    "from nltk.corpus   import sentiwordnet as swn\n",
    "from nltk import sent_tokenize, word_tokenize, pos_tag\n",
    "\n",
    "\n",
    "# stop_words = stopwords.words('english')\n",
    "import spacy\n",
    "import gensim\n",
    "from gensim import corpora\n",
    "import ray\n",
    "import psutil\n",
    "from tqdm.notebook import tqdm\n",
    "\n",
    "\n",
    "#glove\n",
    "from glove import Corpus, Glove\n",
    "\n",
    "\n",
    "# Vis Env.\n",
    "import pyLDAvis\n",
    "import matplotlib.pyplot as plt\n",
    "import seaborn as sns\n",
    "%matplotlib inline\n",
    "\n",
    "\n",
    "# Coding Env.\n",
    "pd.set_option('display.max_columns', None)\n",
    "pd.set_option('display.max_rows', 1000)\n",
    "import warnings\n",
    "warnings.filterwarnings(\"ignore\", category=DeprecationWarning)\n",
    "\n",
    "\n",
    "# Multi-Core related... \n",
    "# #initialization ray\n",
    "# import ray\n",
    "# ray.init(ignore_reinit_error=True,num_cpus=5)\n",
    "\n",
    "import collections\n",
    "\n",
    "# Model Env.\n",
    "# model save\n",
    "import pickle\n",
    "import joblib\n",
    "# tensorflow\n",
    "import tensorflow as tf\n",
    "from tensorflow.keras.preprocessing.text import Tokenizer\n",
    "from tensorflow.keras.preprocessing.sequence import pad_sequences\n",
    "from tensorflow.keras.layers import * # SimpleRNN, Embedding, Dense\n",
    "from tensorflow.keras.models import Sequential\n",
    "# TF-IDF\n",
    "from sklearn.feature_extraction.text import TfidfVectorizer\n",
    "# SGD Classification\n",
    "from sklearn.linear_model import SGDClassifier\n",
    "# Train-Test Split\n",
    "from sklearn.model_selection import train_test_split\n",
    "from sklearn.naive_bayes import MultinomialNB\n",
    "from sklearn.metrics import accuracy_score, classification_report, confusion_matrix, multilabel_confusion_matrix, precision_score, recall_score, f1_score, roc_auc_score, roc_curve, auc, precision_recall_curve, mean_squared_error\n",
    "import itertools\n",
    "from sklearn.preprocessing import OneHotEncoder\n",
    "# Earliy-Stopping\n",
    "from keras.callbacks import EarlyStopping\n",
    "# modle-plot\n",
    "# from keras.utils import plot_model\n",
    "\n",
    "# confusion matrix visualization\n",
    "import matplotlib.font_manager as fm\n",
    "from matplotlib.collections import QuadMesh\n",
    "from sklearn.metrics import classification_report, plot_confusion_matrix,confusion_matrix,accuracy_score"
   ]
  },
  {
   "cell_type": "markdown",
   "id": "8b29208e-a5af-4b95-b34d-e4ae23d04159",
   "metadata": {},
   "source": [
    "## Define Function"
   ]
  },
  {
   "cell_type": "code",
   "execution_count": 2,
   "id": "c19ad07f-d0e9-4cf5-8714-8f4d1fee85b6",
   "metadata": {
    "execution": {
     "iopub.execute_input": "2021-06-30T08:50:55.397918Z",
     "iopub.status.busy": "2021-06-30T08:50:55.397711Z",
     "iopub.status.idle": "2021-06-30T08:50:55.410137Z",
     "shell.execute_reply": "2021-06-30T08:50:55.409716Z",
     "shell.execute_reply.started": "2021-06-30T08:50:55.397901Z"
    },
    "tags": []
   },
   "outputs": [],
   "source": [
    "# Load Data FROM Big Query(db connection)\n",
    "def convert_lowercase(df):\n",
    "    df_1 =  df.apply(lambda x: x.astype(str).str.lower() if(x.dtype == 'object') else x)\n",
    "    return df_1\n",
    "\n",
    "\n",
    "#check multiprocessing progress \n",
    "def to_iterator(obj_ids):\n",
    "    while obj_ids:\n",
    "        done, obj_ids = ray.wait(obj_ids)\n",
    "        yield ray.get(done[0])\n",
    "\n",
    "\n",
    "# !!!! @@@@@@@@@ TEAMS Check First @@@@@@@@@ !!!! \n",
    "# def ray_multiprocessing_progress(ray_df):\n",
    "#     for x in tqdm(to_iterator(ray_df), total=len(ray_df)):\n",
    "#         pass\n",
    "#     ray_df  = pd.concat(ray.get(ray_df))\n",
    "#     return ray_df\n",
    "\n",
    "\n",
    "# pre-processing for review text\n",
    "def preprocess_review(rvw):\n",
    "    # Remove punctuations and numbers\n",
    "    review = re.sub('[^a-zA-Z]', ' ', rvw)\n",
    "    # Single character removal\n",
    "    review = re.sub(r\"\\s+[a-zA-Z]\\s+\", ' ', review)\n",
    "    # Removing multiple spaces\n",
    "    review = re.sub(r'\\s+', ' ', review)\n",
    "    return review\n",
    "\n",
    "def preprocess_stpwds(rvw, stop_words) : \n",
    "    rs = []\n",
    "    for r in rvw.split(\" \") : \n",
    "        if (r not in stop_words) and (len(r) > 0) : rs.append(r)\n",
    "    return \" \".join(rs)\n",
    "\n",
    "\n",
    "# Multi-Label Model, Threshold\n",
    "def calculate_optimal_threshold(y_true, y_pred_cls):\n",
    "    # ROC Curve\n",
    "    fpr, tpr, thresholds = roc_curve(y_true, y_pred_cls)\n",
    "    roc_auc = auc(fpr, tpr)\n",
    "    plt.plot(fpr, tpr, color='darkorange', lw=2, label='ROC Curve')\n",
    "    plt.plot([0, 1], [0, 1], color='navy', lw=1, linestyle='--')\n",
    "    plt.xlim([-0.025, 1.025])\n",
    "    plt.ylim([-0.025, 1.025])\n",
    "    plt.xlabel('False Positive Rate')\n",
    "    plt.ylabel('True Positive Rate')\n",
    "    plt.title('RoC Curve')\n",
    "    print(\"AUC: \", roc_auc)\n",
    "    \n",
    "    # Calculate the optimal threshold\n",
    "    i = np.arange(len(tpr)) # index for df\n",
    "    roc_df = pd.DataFrame({'threshold' : pd.Series(thresholds, index = i), \n",
    "                           'fpr': pd.Series(fpr, index=i), \n",
    "                           '1-fpr' : pd.Series(1-fpr, index = i), \n",
    "                           'tpr': pd.Series(tpr, index = i), \n",
    "                           'diff': pd.Series(tpr - (1-fpr), index = i) })\n",
    "    opt_threshold = roc_df.iloc[roc_df['diff'].abs().argsort()[:1]]\n",
    "    print(opt_threshold)\n",
    "    \n",
    "    return opt_threshold['threshold'].values[0]\n",
    "\n",
    "# Confusion Matrix\n",
    "def plot_confusion_matrix(cm, classes, normalize=True, title='Confusion matrix', cmap=plt.cm.Greens):\n",
    "    fig, ax = plt.subplots(figsize=(10, 10))\n",
    "    plt.imshow(cm, interpolation='nearest', cmap=cmap)\n",
    "    plt.title(title, fontsize=25)\n",
    "    plt.colorbar()\n",
    "    tick_marks=np.arange(len(classes))\n",
    "    plt.xticks(tick_marks, classes, rotation=45)\n",
    "    plt.yticks(tick_marks, classes)\n",
    "    \n",
    "    if normalize:\n",
    "    \tcm = cm.astype('float') / cm.sum(axis=1)[:, np.newaxis]\n",
    "        \n",
    "    thresh = cm.max() / 2.\n",
    "    for i, j in itertools.product(range(cm.shape[0]), range(cm.shape[1])):\n",
    "    \tplt.text(j, i, round(cm[i, j], 2), fontsize=10, horizontalalignment=\"center\", color=\"white\" if cm[i, j] > thresh else \"black\")\n",
    "    \n",
    "    plt.tight_layout()\n",
    "    plt.ylabel('True label')\n",
    "    plt.xlabel('Predicted label')"
   ]
  },
  {
   "cell_type": "code",
   "execution_count": 3,
   "id": "488776f3-5b9e-4520-a5e6-95c54ef5f081",
   "metadata": {
    "execution": {
     "iopub.execute_input": "2021-06-30T08:50:55.629654Z",
     "iopub.status.busy": "2021-06-30T08:50:55.629497Z",
     "iopub.status.idle": "2021-06-30T08:50:55.647879Z",
     "shell.execute_reply": "2021-06-30T08:50:55.647485Z",
     "shell.execute_reply.started": "2021-06-30T08:50:55.629638Z"
    },
    "tags": []
   },
   "outputs": [],
   "source": [
    "#imports\n",
    "import matplotlib.font_manager as fm\n",
    "from matplotlib.collections import QuadMesh\n",
    "\n",
    "\n",
    "def get_new_fig(fn, figsize=[20,20]):\n",
    "    fig1 = plt.figure(fn, figsize)\n",
    "    ax1 = fig1.gca()   #Get Current Axis\n",
    "    ax1.cla() # clear existing plot\n",
    "    return fig1, ax1\n",
    "\n",
    "\n",
    "def configcell_text_and_colors(array_df, lin, col, oText, facecolors, posi, fz, fmt, show_null_values=0):\n",
    "    text_add = []; text_del = [];\n",
    "    cell_val = array_df[lin][col]\n",
    "    tot_all = array_df[-1][col]\n",
    "#     print(f'tot all:{tot_all}')\n",
    "#     print(f'cell val:{cell_val}')\n",
    "    per = round((float(cell_val) / tot_all) * 100,1)\n",
    "    curr_column = array_df[:,col]\n",
    "    ccl = len(curr_column)\n",
    "\n",
    "    #last line  and/or last column\n",
    "    if(col == (ccl - 1)) or (lin == (ccl - 1)):\n",
    "        #tots and percents\n",
    "        if(tot_all != 0):\n",
    "            if(col == ccl - 1) and (lin == ccl - 1):\n",
    "                tot_rig = 0\n",
    "                for i in range(array_df.shape[0] - 1):\n",
    "                    tot_rig += array_df[i][i]\n",
    "                per_ok = (float(tot_rig) / cell_val) * 100\n",
    "            elif(col == ccl - 1):\n",
    "                tot_rig = array_df[lin][lin]\n",
    "                per_ok = (float(tot_rig) / cell_val) * 100\n",
    "            elif(lin == ccl - 1):\n",
    "                tot_rig = array_df[col][col]\n",
    "                per_ok = (float(tot_rig) / cell_val) * 100\n",
    "            per_ok = round(per_ok,1)\n",
    "            per_err = 100 - per_ok\n",
    "        else:\n",
    "            per_ok = per_err = 0\n",
    "\n",
    "        per_ok_s = ['%.1f%%'%(per_ok), '100%'] [per_ok == 100]\n",
    "\n",
    "        #text to DEL\n",
    "        text_del.append(oText)\n",
    "\n",
    "        #text to ADD\n",
    "        font_prop = fm.FontProperties(weight='bold', size=fz)\n",
    "        text_kwargs = dict(color='w', ha=\"center\", va=\"center\", gid='sum', fontproperties=font_prop)\n",
    "        lis_txt = ['%d'%(cell_val), per_ok_s, '%.1f%%'%(per_err)]\n",
    "        lis_kwa = [text_kwargs]\n",
    "        dic = text_kwargs.copy(); dic['color'] = 'g'; lis_kwa.append(dic);\n",
    "        dic = text_kwargs.copy(); dic['color'] = 'r'; lis_kwa.append(dic);\n",
    "        lis_pos = [(oText._x, oText._y-0.3), (oText._x, oText._y), (oText._x, oText._y+0.3)]\n",
    "        for i in range(len(lis_txt)):\n",
    "            newText = dict(x=lis_pos[i][0], y=lis_pos[i][1], text=lis_txt[i], kw=lis_kwa[i])\n",
    "            #print 'lin: %s, col: %s, newText: %s' %(lin, col, newText)\n",
    "            text_add.append(newText)\n",
    "        #print '\\n'\n",
    "\n",
    "        #set background color for sum cells (last line and last column)\n",
    "        carr = [0.27, 0.30, 0.27, 1.0]\n",
    "        if(col == ccl - 1) and (lin == ccl - 1):\n",
    "            carr = [0.17, 0.20, 0.17, 1.0]\n",
    "        facecolors[posi] = carr\n",
    "\n",
    "    else:\n",
    "        if(per > 0):\n",
    "            txt = '%s\\n%.1f%%' %(cell_val, per)\n",
    "        else:\n",
    "            if(show_null_values == 0):\n",
    "                txt = ''\n",
    "            elif(show_null_values == 1):\n",
    "                txt = '0'\n",
    "            else:\n",
    "                txt = '0\\n0.0%'\n",
    "        oText.set_text(txt)\n",
    "\n",
    "        #main diagonal\n",
    "        if(col == lin):\n",
    "            #set color of the textin the diagonal to white\n",
    "            oText.set_color('w')\n",
    "            # set background color in the diagonal to blue\n",
    "            facecolors[posi] = [0.35, 0.8, 0.55, 1.0]\n",
    "        else:\n",
    "            oText.set_color('r')\n",
    "\n",
    "    return text_add, text_del\n",
    "#\n",
    "\n",
    "def insert_totals(df_cm):\n",
    "    \"\"\" insert total column and line (the last ones) \"\"\"\n",
    "    sum_col = []\n",
    "    for c in df_cm.columns:\n",
    "        sum_col.append( df_cm[c].sum() )\n",
    "    sum_lin = []\n",
    "    for item_line in df_cm.iterrows():\n",
    "        sum_lin.append( item_line[1].sum() )\n",
    "    df_cm['sum_lin'] = sum_lin\n",
    "    sum_col.append(np.sum(sum_lin))\n",
    "    df_cm.loc['sum_col'] = sum_col\n",
    "    #print ('\\ndf_cm:\\n', df_cm, '\\n\\b\\n')\n",
    "#\n",
    "\n",
    "def pretty_plot_confusion_matrix(df_cm, annot=True, cmap=\"Oranges\", fmt='.1f', fz=14,\n",
    "      lw=0.5, cbar=False, figsize=[15,15], show_null_values=0, pred_val_axis='y',title = 'Confusion matrix'):\n",
    "    if(pred_val_axis in ('col', 'x')):\n",
    "        xlbl = 'Predicted'\n",
    "        ylbl = 'Actual'\n",
    "    else:\n",
    "        xlbl = 'Actual'\n",
    "        ylbl = 'Predicted'\n",
    "        df_cm = df_cm.T\n",
    "\n",
    "    # create \"Total\" column\n",
    "    insert_totals(df_cm)\n",
    "\n",
    "    #this is for print allways in the same window\n",
    "    fig, ax1 = get_new_fig('Conf matrix default', figsize)\n",
    "\n",
    "    #thanks for seaborn\n",
    "    ax = sns.heatmap(df_cm, annot=annot, annot_kws={\"size\": fz}, linewidths=lw, ax=ax1,\n",
    "                    cbar=cbar, cmap=cmap, linecolor='w', fmt=fmt)\n",
    "\n",
    "    #set ticklabels rotation\n",
    "    ax.set_xticklabels(ax.get_xticklabels(), rotation = 45, fontsize = 15)\n",
    "    ax.set_yticklabels(ax.get_yticklabels(), rotation = 25, fontsize = 15)\n",
    "\n",
    "    # Turn off all the ticks\n",
    "    for t in ax.xaxis.get_major_ticks():\n",
    "        t.tick1On = False\n",
    "        t.tick2On = False\n",
    "    for t in ax.yaxis.get_major_ticks():\n",
    "        t.tick1On = False\n",
    "        t.tick2On = False\n",
    "\n",
    "    #face colors list\n",
    "    quadmesh = ax.findobj(QuadMesh)[0]\n",
    "    facecolors = quadmesh.get_facecolors()\n",
    "\n",
    "    #iter in text elements\n",
    "    array_df = np.array( df_cm.to_records(index=False).tolist() )\n",
    "    text_add = []; text_del = [];\n",
    "    posi = -1 #from left to right, bottom to top.\n",
    "    for t in ax.collections[0].axes.texts: #ax.texts:\n",
    "        pos = np.array( t.get_position()) - [0.5,0.5]\n",
    "        lin = int(pos[1]); \n",
    "        col = int(pos[0]);\n",
    "        posi += 1\n",
    "        #print ('>>> pos: %s, posi: %s, val: %s, txt: %s' %(pos, posi, array_df[lin][col], t.get_text()))\n",
    "\n",
    "        #set text\n",
    "        txt_res = configcell_text_and_colors(array_df, lin, col, t, facecolors, posi, fz, fmt, show_null_values)\n",
    "\n",
    "        text_add.extend(txt_res[0])\n",
    "        text_del.extend(txt_res[1])\n",
    "\n",
    "    #remove the old ones\n",
    "    for item in text_del:\n",
    "        item.remove()\n",
    "    #append the new ones\n",
    "    for item in text_add:\n",
    "        ax.text(item['x'], item['y'], item['text'], **item['kw'])\n",
    "\n",
    "    #titles and legends\n",
    "    ax.set_title(title, fontsize=18)\n",
    "    ax.set_xlabel(xlbl, fontsize=15)\n",
    "    ax.set_ylabel(ylbl, fontsize=15)\n",
    "    plt.tight_layout()  #set layout slim\n",
    "    plt.show()\n",
    "    fig.savefig('210629_confusion_matrix.jpg')\n",
    "#\n",
    "\n",
    "def plot_confusion_matrix_from_data(y_test, predictions, columns=None, annot=True, cmap=\"Oranges\",\n",
    "      fmt='.1f', fz=11, lw=0.5, cbar=False, figsize=[8,8], show_null_values=0, pred_val_axis='lin'):\n",
    "    \n",
    "    from sklearn.metrics import confusion_matrix\n",
    "    from datetime import date\n",
    "\n",
    "    today = date.today()\n",
    "    # dd/mm/YY\n",
    "    d1 = today.strftime(\"%Y%m%d\")\n",
    "\n",
    "    #data\n",
    "    if(not columns):\n",
    "        #labels axis integer:\n",
    "        ##columns = range(1, len(np.unique(y_test))+1)\n",
    "        #labels axis string:\n",
    "        from string import ascii_uppercase\n",
    "        columns = ['class %s' %(i) for i in list(ascii_uppercase)[0:len(np.unique(y_test))]]\n",
    "\n",
    "    confm = confusion_matrix(y_test, predictions)\n",
    "    cmap = 'Oranges';\n",
    "    fz = 13;\n",
    "    figsize=[20,20];\n",
    "    show_null_values = 2\n",
    "    df_cm = pd.DataFrame(confm, index=columns, columns=columns)\n",
    "    title = 'Confusion Matrix(%s)'%(str(d1))\n",
    "    pretty_plot_confusion_matrix(df_cm, fz=fz, cmap=cmap, figsize=figsize, show_null_values=show_null_values, pred_val_axis=pred_val_axis,title = title)\n",
    "#\n",
    "\n",
    "def _execute_confusion_matrix(y_test,y_pred):\n",
    "    y_test = y_test\n",
    "    predic = y_pred\n",
    "\n",
    "    columns = target_name\n",
    "    annot = True;\n",
    "    cmap = 'Oranges';\n",
    "    fmt = '.2f'\n",
    "    lw = 0.5\n",
    "    cbar = False\n",
    "    show_null_values = 2\n",
    "    pred_val_axis = 'y'\n",
    "    fz = 12;\n",
    "    figsize = [15,15];\n",
    "    if(len(y_test) > 10):\n",
    "        fz=9; figsize=[20,20];\n",
    "    plot_confusion_matrix_from_data(y_test, predic, columns,\n",
    "      annot, cmap, fmt, fz, lw, cbar, figsize, show_null_values, pred_val_axis)"
   ]
  },
  {
   "cell_type": "markdown",
   "id": "67644d5d-d9da-4d5f-9ea1-732b176bd9fe",
   "metadata": {},
   "source": [
    "<br>\n",
    "====================================================================================\n",
    "<br>"
   ]
  },
  {
   "cell_type": "markdown",
   "id": "4e543f53-88f0-408b-86a9-03f7c1c1b8e7",
   "metadata": {},
   "source": [
    "# Data Load, EDA, Pre-processing"
   ]
  },
  {
   "cell_type": "markdown",
   "id": "41d9ff4e-dee6-490d-8b58-ad733ddd87fc",
   "metadata": {},
   "source": [
    "## Shinning Review Data Load"
   ]
  },
  {
   "cell_type": "code",
   "execution_count": 4,
   "id": "c6fbadd0-e84a-4f6a-87b2-6739c817c169",
   "metadata": {
    "execution": {
     "iopub.execute_input": "2021-06-30T08:50:56.351294Z",
     "iopub.status.busy": "2021-06-30T08:50:56.351078Z",
     "iopub.status.idle": "2021-06-30T08:50:59.077460Z",
     "shell.execute_reply": "2021-06-30T08:50:59.077054Z",
     "shell.execute_reply.started": "2021-06-30T08:50:56.351275Z"
    },
    "tags": []
   },
   "outputs": [
    {
     "data": {
      "text/plain": [
       "(2702, 13)"
      ]
     },
     "execution_count": 4,
     "metadata": {},
     "output_type": "execute_result"
    }
   ],
   "source": [
    "# get shining review data from DB\n",
    "sql = '''\n",
    "    SELECT *\n",
    "    FROM taxonomy.shng_rvw\n",
    "'''\n",
    "org_shn_df = bq.select_query(sql)\n",
    "org_shn_df.shape"
   ]
  },
  {
   "cell_type": "code",
   "execution_count": 5,
   "id": "e39f5b0c-ff86-45e2-ae56-7c19a89b747a",
   "metadata": {
    "execution": {
     "iopub.execute_input": "2021-06-30T08:50:59.078393Z",
     "iopub.status.busy": "2021-06-30T08:50:59.078240Z",
     "iopub.status.idle": "2021-06-30T08:51:02.250544Z",
     "shell.execute_reply": "2021-06-30T08:51:02.250134Z",
     "shell.execute_reply.started": "2021-06-30T08:50:59.078377Z"
    },
    "tags": []
   },
   "outputs": [
    {
     "name": "stdout",
     "output_type": "stream",
     "text": [
      "(2702, 14)\n",
      "(2699, 14)\n",
      "1211\n"
     ]
    },
    {
     "data": {
      "text/html": [
       "<div>\n",
       "<style scoped>\n",
       "    .dataframe tbody tr th:only-of-type {\n",
       "        vertical-align: middle;\n",
       "    }\n",
       "\n",
       "    .dataframe tbody tr th {\n",
       "        vertical-align: top;\n",
       "    }\n",
       "\n",
       "    .dataframe thead th {\n",
       "        text-align: right;\n",
       "    }\n",
       "</style>\n",
       "<table border=\"1\" class=\"dataframe\">\n",
       "  <thead>\n",
       "    <tr style=\"text-align: right;\">\n",
       "      <th></th>\n",
       "      <th>date</th>\n",
       "      <th>by</th>\n",
       "      <th>reviewId</th>\n",
       "      <th>category</th>\n",
       "      <th>sku</th>\n",
       "      <th>product_description</th>\n",
       "      <th>rating</th>\n",
       "      <th>title</th>\n",
       "      <th>review_text</th>\n",
       "      <th>complimenting_factors</th>\n",
       "      <th>ref</th>\n",
       "      <th>complimenting_factor</th>\n",
       "      <th>new_category</th>\n",
       "      <th>class</th>\n",
       "    </tr>\n",
       "  </thead>\n",
       "  <tbody>\n",
       "    <tr>\n",
       "      <th>0</th>\n",
       "      <td>201905</td>\n",
       "      <td>Sophie</td>\n",
       "      <td>shng0</td>\n",
       "      <td>Others</td>\n",
       "      <td>PS-C2824C</td>\n",
       "      <td>3-Step Easy Pet Stairs, Grey, X- Large</td>\n",
       "      <td>5</td>\n",
       "      <td>Excellent Product</td>\n",
       "      <td>First of all I have 3 60LB dogs whom are welco...</td>\n",
       "      <td>Design, Quality</td>\n",
       "      <td>None</td>\n",
       "      <td>Design</td>\n",
       "      <td>Others</td>\n",
       "      <td>1.0</td>\n",
       "    </tr>\n",
       "    <tr>\n",
       "      <th>1</th>\n",
       "      <td>201905</td>\n",
       "      <td>Sophie</td>\n",
       "      <td>shng0</td>\n",
       "      <td>Others</td>\n",
       "      <td>PS-C2824C</td>\n",
       "      <td>3-Step Easy Pet Stairs, Grey, X- Large</td>\n",
       "      <td>5</td>\n",
       "      <td>Excellent Product</td>\n",
       "      <td>First of all I have 3 60LB dogs whom are welco...</td>\n",
       "      <td>Design, Quality</td>\n",
       "      <td>None</td>\n",
       "      <td>Quality</td>\n",
       "      <td>Others</td>\n",
       "      <td>5.0</td>\n",
       "    </tr>\n",
       "    <tr>\n",
       "      <th>2</th>\n",
       "      <td>201905</td>\n",
       "      <td>Jennie</td>\n",
       "      <td>shng2</td>\n",
       "      <td>Others</td>\n",
       "      <td>PS-C2824C</td>\n",
       "      <td>3-Step Easy Pet Stairs, Grey, X- Large</td>\n",
       "      <td>5</td>\n",
       "      <td>Worth the price to save your back!</td>\n",
       "      <td>These stairs are the reason my dog can sleep w...</td>\n",
       "      <td>Design, Quality</td>\n",
       "      <td>Jennie) Shining Review? - Marshmallow Mountain...</td>\n",
       "      <td>Design</td>\n",
       "      <td>Others</td>\n",
       "      <td>1.0</td>\n",
       "    </tr>\n",
       "    <tr>\n",
       "      <th>3</th>\n",
       "      <td>201905</td>\n",
       "      <td>Jennie</td>\n",
       "      <td>shng2</td>\n",
       "      <td>Others</td>\n",
       "      <td>PS-C2824C</td>\n",
       "      <td>3-Step Easy Pet Stairs, Grey, X- Large</td>\n",
       "      <td>5</td>\n",
       "      <td>Worth the price to save your back!</td>\n",
       "      <td>These stairs are the reason my dog can sleep w...</td>\n",
       "      <td>Design, Quality</td>\n",
       "      <td>Jennie) Shining Review? - Marshmallow Mountain...</td>\n",
       "      <td>Quality</td>\n",
       "      <td>Others</td>\n",
       "      <td>5.0</td>\n",
       "    </tr>\n",
       "    <tr>\n",
       "      <th>4</th>\n",
       "      <td>201904</td>\n",
       "      <td>Jennie</td>\n",
       "      <td>shng4</td>\n",
       "      <td>Others</td>\n",
       "      <td>PS-D2115S</td>\n",
       "      <td>Pet Stairs Small, Sand</td>\n",
       "      <td>5</td>\n",
       "      <td>Excellent Quality and Price</td>\n",
       "      <td>My chihuahua really loves these steps. He has ...</td>\n",
       "      <td>Value, Quality</td>\n",
       "      <td>None</td>\n",
       "      <td>Value</td>\n",
       "      <td>Others</td>\n",
       "      <td>2.0</td>\n",
       "    </tr>\n",
       "  </tbody>\n",
       "</table>\n",
       "</div>"
      ],
      "text/plain": [
       "     date      by reviewId category        sku  \\\n",
       "0  201905  Sophie    shng0   Others  PS-C2824C   \n",
       "1  201905  Sophie    shng0   Others  PS-C2824C   \n",
       "2  201905  Jennie    shng2   Others  PS-C2824C   \n",
       "3  201905  Jennie    shng2   Others  PS-C2824C   \n",
       "4  201904  Jennie    shng4   Others  PS-D2115S   \n",
       "\n",
       "                      product_description  rating  \\\n",
       "0  3-Step Easy Pet Stairs, Grey, X- Large       5   \n",
       "1  3-Step Easy Pet Stairs, Grey, X- Large       5   \n",
       "2  3-Step Easy Pet Stairs, Grey, X- Large       5   \n",
       "3  3-Step Easy Pet Stairs, Grey, X- Large       5   \n",
       "4                  Pet Stairs Small, Sand       5   \n",
       "\n",
       "                                title  \\\n",
       "0                   Excellent Product   \n",
       "1                   Excellent Product   \n",
       "2  Worth the price to save your back!   \n",
       "3  Worth the price to save your back!   \n",
       "4         Excellent Quality and Price   \n",
       "\n",
       "                                         review_text complimenting_factors  \\\n",
       "0  First of all I have 3 60LB dogs whom are welco...       Design, Quality   \n",
       "1  First of all I have 3 60LB dogs whom are welco...       Design, Quality   \n",
       "2  These stairs are the reason my dog can sleep w...       Design, Quality   \n",
       "3  These stairs are the reason my dog can sleep w...       Design, Quality   \n",
       "4  My chihuahua really loves these steps. He has ...        Value, Quality   \n",
       "\n",
       "                                                 ref complimenting_factor  \\\n",
       "0                                               None               Design   \n",
       "1                                               None              Quality   \n",
       "2  Jennie) Shining Review? - Marshmallow Mountain...               Design   \n",
       "3  Jennie) Shining Review? - Marshmallow Mountain...              Quality   \n",
       "4                                               None                Value   \n",
       "\n",
       "  new_category  class  \n",
       "0       Others    1.0  \n",
       "1       Others    5.0  \n",
       "2       Others    1.0  \n",
       "3       Others    5.0  \n",
       "4       Others    2.0  "
      ]
     },
     "execution_count": 5,
     "metadata": {},
     "output_type": "execute_result"
    }
   ],
   "source": [
    "shn_df = org_shn_df.copy()\n",
    "\n",
    "# set 'rv' columns for temp key-value\n",
    "for i in reversed(range(len(shn_df))) : \n",
    "    shn_df.loc[i, 'rv'] = 'shng'+str( shn_df[(shn_df['rv']==shn_df.loc[i].rv) & (shn_df['reviews']==shn_df.loc[i].reviews)].index[0] )\n",
    "\n",
    "# # Multi-label\n",
    "shn_df.loc[(shn_df['complimenting_factor']=='Design'), 'class'] = 1\n",
    "shn_df.loc[(shn_df['complimenting_factor']=='Value'), 'class'] = 2\n",
    "shn_df.loc[(shn_df['complimenting_factor']=='Assemble'), 'class'] = 3\n",
    "shn_df.loc[(shn_df['complimenting_factor']=='Packaging'), 'class'] = 4\n",
    "shn_df.loc[(shn_df['complimenting_factor']=='Quality'), 'class'] = 5\n",
    "shn_df.loc[(shn_df['complimenting_factor']=='Customer service'), 'class'] = 6\n",
    "shn_df.loc[(shn_df['complimenting_factor']=='Delivery'), 'class'] = 7\n",
    "shn_df.loc[(shn_df['complimenting_factor']=='Brand Comparison'), 'class'] = 8\n",
    "shn_df.loc[(shn_df['complimenting_factor']=='Promised customer'), 'class'] = 9\n",
    "shn_df.loc[(shn_df['complimenting_factor'].str.contains('Others', na=False)), 'class'] = 10\n",
    "shn_df.loc[(shn_df['complimenting_factor']=='Shining Review'), 'class'] = 10 # not specified factor, but shinning, anyway\n",
    "shn_df.loc[(shn_df['complimenting_factor'].isnull()), 'class'] = 10 # null values, but shinning\n",
    "\n",
    "shn_df.rename(columns = {\"rv\": \"reviewId\", \"new_ctgr\": \"new_category\", \"reviews\": \"review_text\"}, inplace=True)\n",
    "\n",
    "print(shn_df.shape)\n",
    "shn_df = shn_df.drop_duplicates()\n",
    "print(shn_df.shape)\n",
    "print(len(shn_df['reviewId'].unique()))\n",
    "\n",
    "shn_df.head()"
   ]
  },
  {
   "cell_type": "markdown",
   "id": "caaf8712-1c19-4f0c-8233-84385fd640ab",
   "metadata": {},
   "source": [
    "## All Review(2019) Data Load"
   ]
  },
  {
   "cell_type": "code",
   "execution_count": 6,
   "id": "3ccaa52c-e1d0-4723-9278-e71aa55d6095",
   "metadata": {
    "execution": {
     "iopub.execute_input": "2021-06-30T08:51:02.251540Z",
     "iopub.status.busy": "2021-06-30T08:51:02.251396Z",
     "iopub.status.idle": "2021-06-30T08:51:07.040878Z",
     "shell.execute_reply": "2021-06-30T08:51:07.040397Z",
     "shell.execute_reply.started": "2021-06-30T08:51:02.251522Z"
    },
    "tags": []
   },
   "outputs": [],
   "source": [
    "# get all review data of 2019 from DB\n",
    "sql2 = '''\n",
    "    SELECT\n",
    "        A.*,\n",
    "        B.prdct_ctgry_4_5 as category,\n",
    "    FROM\n",
    "        taxonomy.amz_rvw_all_2019 A\n",
    "        LEFT JOIN meta.crwl_amz_pdt_mst_all B\n",
    "        ON A.asin = B.asin\n",
    "    WHERE 1=1\n",
    "        AND B.brand = 'Zinus'\n",
    "        AND A.rating BETWEEN 4 and 5\n",
    "'''\n",
    "\n",
    "org_rvw_df = bq.select_query(sql2)"
   ]
  },
  {
   "cell_type": "code",
   "execution_count": 7,
   "id": "efca9d85-c413-4e98-ba0a-554a2edb39c2",
   "metadata": {
    "execution": {
     "iopub.execute_input": "2021-06-30T08:51:07.042003Z",
     "iopub.status.busy": "2021-06-30T08:51:07.041850Z",
     "iopub.status.idle": "2021-06-30T08:51:07.165282Z",
     "shell.execute_reply": "2021-06-30T08:51:07.164881Z",
     "shell.execute_reply.started": "2021-06-30T08:51:07.041987Z"
    },
    "tags": []
   },
   "outputs": [
    {
     "name": "stdout",
     "output_type": "stream",
     "text": [
      "Original Review Count : 91349\n",
      "Drop-duplicates Review Count : 91349\n",
      "Sample Review Count : 300\n"
     ]
    },
    {
     "data": {
      "text/html": [
       "<div>\n",
       "<style scoped>\n",
       "    .dataframe tbody tr th:only-of-type {\n",
       "        vertical-align: middle;\n",
       "    }\n",
       "\n",
       "    .dataframe tbody tr th {\n",
       "        vertical-align: top;\n",
       "    }\n",
       "\n",
       "    .dataframe thead th {\n",
       "        text-align: right;\n",
       "    }\n",
       "</style>\n",
       "<table border=\"1\" class=\"dataframe\">\n",
       "  <thead>\n",
       "    <tr style=\"text-align: right;\">\n",
       "      <th></th>\n",
       "      <th>reviewId</th>\n",
       "      <th>asin</th>\n",
       "      <th>date</th>\n",
       "      <th>rating</th>\n",
       "      <th>title</th>\n",
       "      <th>review_text</th>\n",
       "      <th>category</th>\n",
       "      <th>brand</th>\n",
       "      <th>category_1</th>\n",
       "      <th>class</th>\n",
       "    </tr>\n",
       "  </thead>\n",
       "  <tbody>\n",
       "    <tr>\n",
       "      <th>15740</th>\n",
       "      <td>R19I8NBXF9FJ8K</td>\n",
       "      <td>B078TSRSMS</td>\n",
       "      <td>2019-01-21 12:00:00</td>\n",
       "      <td>4</td>\n",
       "      <td>Good! Soft wood though</td>\n",
       "      <td>Great but dents and scratches a little easier...</td>\n",
       "      <td>Others</td>\n",
       "      <td>Zinus</td>\n",
       "      <td>Others</td>\n",
       "      <td>0</td>\n",
       "    </tr>\n",
       "    <tr>\n",
       "      <th>34438</th>\n",
       "      <td>R3UG6TQR022JX4</td>\n",
       "      <td>B0142WKA10</td>\n",
       "      <td>2019-08-11 12:00:00</td>\n",
       "      <td>5</td>\n",
       "      <td>Haven’t used yet</td>\n",
       "      <td>As advertized</td>\n",
       "      <td>Bed Frames</td>\n",
       "      <td>Zinus</td>\n",
       "      <td>Bed Frames</td>\n",
       "      <td>0</td>\n",
       "    </tr>\n",
       "    <tr>\n",
       "      <th>52524</th>\n",
       "      <td>R3DZFHJK8L1Y0J</td>\n",
       "      <td>B00NPVCOSC</td>\n",
       "      <td>2019-04-01 09:00:00+00</td>\n",
       "      <td>5</td>\n",
       "      <td>Excellent</td>\n",
       "      <td>Excellent and high quality. Great purchase. C...</td>\n",
       "      <td>Box Springs</td>\n",
       "      <td>Zinus</td>\n",
       "      <td>Box Springs</td>\n",
       "      <td>0</td>\n",
       "    </tr>\n",
       "    <tr>\n",
       "      <th>62410</th>\n",
       "      <td>R2NK8LQ6T3HMZC</td>\n",
       "      <td>B01MZ443I0</td>\n",
       "      <td>2019-01-14 12:00:00</td>\n",
       "      <td>5</td>\n",
       "      <td>Love it. Great for storage under bed.</td>\n",
       "      <td>Love it. Great for storage under bed.</td>\n",
       "      <td>Beds</td>\n",
       "      <td>Zinus</td>\n",
       "      <td>Beds</td>\n",
       "      <td>0</td>\n",
       "    </tr>\n",
       "    <tr>\n",
       "      <th>44821</th>\n",
       "      <td>RXGAAW7OPJMFI</td>\n",
       "      <td>B00Q7EPFT4</td>\n",
       "      <td>2019-05-20 12:00:00</td>\n",
       "      <td>5</td>\n",
       "      <td>Can't find a better mattress for the price</td>\n",
       "      <td>We actually slept on this mattress at an AirB...</td>\n",
       "      <td>Mattresses</td>\n",
       "      <td>Zinus</td>\n",
       "      <td>Mattresses</td>\n",
       "      <td>0</td>\n",
       "    </tr>\n",
       "  </tbody>\n",
       "</table>\n",
       "</div>"
      ],
      "text/plain": [
       "             reviewId        asin                    date  rating  \\\n",
       "15740  R19I8NBXF9FJ8K  B078TSRSMS     2019-01-21 12:00:00       4   \n",
       "34438  R3UG6TQR022JX4  B0142WKA10     2019-08-11 12:00:00       5   \n",
       "52524  R3DZFHJK8L1Y0J  B00NPVCOSC  2019-04-01 09:00:00+00       5   \n",
       "62410  R2NK8LQ6T3HMZC  B01MZ443I0     2019-01-14 12:00:00       5   \n",
       "44821   RXGAAW7OPJMFI  B00Q7EPFT4     2019-05-20 12:00:00       5   \n",
       "\n",
       "                                            title  \\\n",
       "15740                      Good! Soft wood though   \n",
       "34438                            Haven’t used yet   \n",
       "52524                                   Excellent   \n",
       "62410       Love it. Great for storage under bed.   \n",
       "44821  Can't find a better mattress for the price   \n",
       "\n",
       "                                             review_text     category  brand  \\\n",
       "15740   Great but dents and scratches a little easier...       Others  Zinus   \n",
       "34438                                     As advertized    Bed Frames  Zinus   \n",
       "52524   Excellent and high quality. Great purchase. C...  Box Springs  Zinus   \n",
       "62410             Love it. Great for storage under bed.          Beds  Zinus   \n",
       "44821   We actually slept on this mattress at an AirB...   Mattresses  Zinus   \n",
       "\n",
       "        category_1  class  \n",
       "15740       Others      0  \n",
       "34438   Bed Frames      0  \n",
       "52524  Box Springs      0  \n",
       "62410         Beds      0  \n",
       "44821   Mattresses      0  "
      ]
     },
     "execution_count": 7,
     "metadata": {},
     "output_type": "execute_result"
    }
   ],
   "source": [
    "rvw_df = org_rvw_df.copy()\n",
    "\n",
    "print(\"Original Review Count :\", len(rvw_df))\n",
    "rvw_df = rvw_df.drop_duplicates()\n",
    "print(\"Drop-duplicates Review Count :\", len(rvw_df))\n",
    "rvw_df = rvw_df.sample(n=300)\n",
    "print(\"Sample Review Count :\", len(rvw_df))\n",
    "\n",
    "# multi-label\n",
    "rvw_df['class'] = 0\n",
    "\n",
    "rvw_df.head()"
   ]
  },
  {
   "cell_type": "markdown",
   "id": "3d04c2db-61e0-44e0-bcda-71622f0c0ef8",
   "metadata": {},
   "source": [
    "## Data Join"
   ]
  },
  {
   "cell_type": "code",
   "execution_count": 9,
   "id": "f9f83734-c4ae-4824-b44d-e34f11f46a72",
   "metadata": {
    "execution": {
     "iopub.execute_input": "2021-06-30T08:51:07.168799Z",
     "iopub.status.busy": "2021-06-30T08:51:07.168585Z",
     "iopub.status.idle": "2021-06-30T08:51:07.213755Z",
     "shell.execute_reply": "2021-06-30T08:51:07.213368Z",
     "shell.execute_reply.started": "2021-06-30T08:51:07.168781Z"
    },
    "tags": []
   },
   "outputs": [],
   "source": [
    "shn_df = shn_df[['reviewId', 'new_category', 'rating', 'title', 'review_text', 'class']]\n",
    "shn_df.rename(columns = {\"new_category\": \"category\"}, inplace=True)"
   ]
  },
  {
   "cell_type": "code",
   "execution_count": 10,
   "id": "fa166664-1300-4078-b653-55f97057a8e7",
   "metadata": {
    "execution": {
     "iopub.execute_input": "2021-06-30T08:51:07.214521Z",
     "iopub.status.busy": "2021-06-30T08:51:07.214390Z",
     "iopub.status.idle": "2021-06-30T08:51:07.218480Z",
     "shell.execute_reply": "2021-06-30T08:51:07.218102Z",
     "shell.execute_reply.started": "2021-06-30T08:51:07.214508Z"
    },
    "tags": []
   },
   "outputs": [],
   "source": [
    "rvw_df = rvw_df[['reviewId','category', 'rating', 'title', 'review_text', 'asin','class']]"
   ]
  },
  {
   "cell_type": "code",
   "execution_count": 11,
   "id": "587df0c7-2f92-4dcc-86f9-db0c68d58f1b",
   "metadata": {
    "execution": {
     "iopub.execute_input": "2021-06-30T08:51:07.219932Z",
     "iopub.status.busy": "2021-06-30T08:51:07.219712Z",
     "iopub.status.idle": "2021-06-30T08:51:07.230237Z",
     "shell.execute_reply": "2021-06-30T08:51:07.229888Z",
     "shell.execute_reply.started": "2021-06-30T08:51:07.219915Z"
    },
    "tags": []
   },
   "outputs": [
    {
     "name": "stdout",
     "output_type": "stream",
     "text": [
      "(2999, 7)\n"
     ]
    },
    {
     "data": {
      "text/html": [
       "<div>\n",
       "<style scoped>\n",
       "    .dataframe tbody tr th:only-of-type {\n",
       "        vertical-align: middle;\n",
       "    }\n",
       "\n",
       "    .dataframe tbody tr th {\n",
       "        vertical-align: top;\n",
       "    }\n",
       "\n",
       "    .dataframe thead th {\n",
       "        text-align: right;\n",
       "    }\n",
       "</style>\n",
       "<table border=\"1\" class=\"dataframe\">\n",
       "  <thead>\n",
       "    <tr style=\"text-align: right;\">\n",
       "      <th></th>\n",
       "      <th>reviewId</th>\n",
       "      <th>category</th>\n",
       "      <th>rating</th>\n",
       "      <th>title</th>\n",
       "      <th>review_text</th>\n",
       "      <th>class</th>\n",
       "      <th>asin</th>\n",
       "    </tr>\n",
       "  </thead>\n",
       "  <tbody>\n",
       "    <tr>\n",
       "      <th>0</th>\n",
       "      <td>shng0</td>\n",
       "      <td>Others</td>\n",
       "      <td>5</td>\n",
       "      <td>Excellent Product</td>\n",
       "      <td>First of all I have 3 60LB dogs whom are welco...</td>\n",
       "      <td>1</td>\n",
       "      <td>NaN</td>\n",
       "    </tr>\n",
       "    <tr>\n",
       "      <th>1</th>\n",
       "      <td>shng0</td>\n",
       "      <td>Others</td>\n",
       "      <td>5</td>\n",
       "      <td>Excellent Product</td>\n",
       "      <td>First of all I have 3 60LB dogs whom are welco...</td>\n",
       "      <td>5</td>\n",
       "      <td>NaN</td>\n",
       "    </tr>\n",
       "    <tr>\n",
       "      <th>2</th>\n",
       "      <td>shng2</td>\n",
       "      <td>Others</td>\n",
       "      <td>5</td>\n",
       "      <td>Worth the price to save your back!</td>\n",
       "      <td>These stairs are the reason my dog can sleep w...</td>\n",
       "      <td>1</td>\n",
       "      <td>NaN</td>\n",
       "    </tr>\n",
       "    <tr>\n",
       "      <th>3</th>\n",
       "      <td>shng2</td>\n",
       "      <td>Others</td>\n",
       "      <td>5</td>\n",
       "      <td>Worth the price to save your back!</td>\n",
       "      <td>These stairs are the reason my dog can sleep w...</td>\n",
       "      <td>5</td>\n",
       "      <td>NaN</td>\n",
       "    </tr>\n",
       "    <tr>\n",
       "      <th>4</th>\n",
       "      <td>shng4</td>\n",
       "      <td>Others</td>\n",
       "      <td>5</td>\n",
       "      <td>Excellent Quality and Price</td>\n",
       "      <td>My chihuahua really loves these steps. He has ...</td>\n",
       "      <td>2</td>\n",
       "      <td>NaN</td>\n",
       "    </tr>\n",
       "  </tbody>\n",
       "</table>\n",
       "</div>"
      ],
      "text/plain": [
       "  reviewId category  rating                               title  \\\n",
       "0    shng0   Others       5                   Excellent Product   \n",
       "1    shng0   Others       5                   Excellent Product   \n",
       "2    shng2   Others       5  Worth the price to save your back!   \n",
       "3    shng2   Others       5  Worth the price to save your back!   \n",
       "4    shng4   Others       5         Excellent Quality and Price   \n",
       "\n",
       "                                         review_text  class asin  \n",
       "0  First of all I have 3 60LB dogs whom are welco...      1  NaN  \n",
       "1  First of all I have 3 60LB dogs whom are welco...      5  NaN  \n",
       "2  These stairs are the reason my dog can sleep w...      1  NaN  \n",
       "3  These stairs are the reason my dog can sleep w...      5  NaN  \n",
       "4  My chihuahua really loves these steps. He has ...      2  NaN  "
      ]
     },
     "execution_count": 11,
     "metadata": {},
     "output_type": "execute_result"
    }
   ],
   "source": [
    "all_df = pd.concat([shn_df, rvw_df], ignore_index=True)\n",
    "all_df['class'] = all_df['class'].astype(int)\n",
    "print(all_df.shape)\n",
    "all_df.head()"
   ]
  },
  {
   "cell_type": "markdown",
   "id": "5e926e54-b2d3-465e-8eb6-77f1f3da899d",
   "metadata": {},
   "source": [
    "## Feature Engineering"
   ]
  },
  {
   "cell_type": "code",
   "execution_count": 13,
   "id": "cd7540e8-0932-43be-86cf-ecd6a8da35b6",
   "metadata": {
    "execution": {
     "iopub.execute_input": "2021-06-30T08:51:07.233554Z",
     "iopub.status.busy": "2021-06-30T08:51:07.233427Z",
     "iopub.status.idle": "2021-06-30T08:51:07.236408Z",
     "shell.execute_reply": "2021-06-30T08:51:07.236045Z",
     "shell.execute_reply.started": "2021-06-30T08:51:07.233541Z"
    },
    "tags": []
   },
   "outputs": [
    {
     "data": {
      "text/plain": [
       "11"
      ]
     },
     "execution_count": 13,
     "metadata": {},
     "output_type": "execute_result"
    }
   ],
   "source": [
    "class_cnt = len(all_df['class'].unique())\n",
    "class_cnt"
   ]
  },
  {
   "cell_type": "markdown",
   "id": "fa6ed160-c935-4689-a8e7-38e99065de96",
   "metadata": {
    "tags": []
   },
   "source": [
    "### set DF for Multi-Label Model"
   ]
  },
  {
   "cell_type": "code",
   "execution_count": 14,
   "id": "0d0a5a38-6d66-439c-a90b-06705006710c",
   "metadata": {
    "execution": {
     "iopub.execute_input": "2021-06-30T08:51:07.237150Z",
     "iopub.status.busy": "2021-06-30T08:51:07.237020Z",
     "iopub.status.idle": "2021-06-30T08:51:07.325088Z",
     "shell.execute_reply": "2021-06-30T08:51:07.324744Z",
     "shell.execute_reply.started": "2021-06-30T08:51:07.237136Z"
    },
    "tags": []
   },
   "outputs": [
    {
     "data": {
      "text/html": [
       "<div>\n",
       "<style scoped>\n",
       "    .dataframe tbody tr th:only-of-type {\n",
       "        vertical-align: middle;\n",
       "    }\n",
       "\n",
       "    .dataframe tbody tr th {\n",
       "        vertical-align: top;\n",
       "    }\n",
       "\n",
       "    .dataframe thead th {\n",
       "        text-align: right;\n",
       "    }\n",
       "</style>\n",
       "<table border=\"1\" class=\"dataframe\">\n",
       "  <thead>\n",
       "    <tr style=\"text-align: right;\">\n",
       "      <th></th>\n",
       "      <th>reviewId</th>\n",
       "      <th>category</th>\n",
       "      <th>rating</th>\n",
       "      <th>title</th>\n",
       "      <th>review_text</th>\n",
       "      <th>asin</th>\n",
       "      <th>class_0</th>\n",
       "      <th>class_1</th>\n",
       "      <th>class_2</th>\n",
       "      <th>class_3</th>\n",
       "      <th>class_4</th>\n",
       "      <th>class_5</th>\n",
       "      <th>class_6</th>\n",
       "      <th>class_7</th>\n",
       "      <th>class_8</th>\n",
       "      <th>class_9</th>\n",
       "      <th>class_10</th>\n",
       "    </tr>\n",
       "  </thead>\n",
       "  <tbody>\n",
       "    <tr>\n",
       "      <th>0</th>\n",
       "      <td>shng0</td>\n",
       "      <td>Others</td>\n",
       "      <td>5</td>\n",
       "      <td>Excellent Product</td>\n",
       "      <td>First of all I have 3 60LB dogs whom are welco...</td>\n",
       "      <td>NaN</td>\n",
       "      <td>0</td>\n",
       "      <td>1</td>\n",
       "      <td>0</td>\n",
       "      <td>0</td>\n",
       "      <td>0</td>\n",
       "      <td>1</td>\n",
       "      <td>0</td>\n",
       "      <td>0</td>\n",
       "      <td>0</td>\n",
       "      <td>0</td>\n",
       "      <td>0</td>\n",
       "    </tr>\n",
       "    <tr>\n",
       "      <th>1</th>\n",
       "      <td>shng2</td>\n",
       "      <td>Others</td>\n",
       "      <td>5</td>\n",
       "      <td>Worth the price to save your back!</td>\n",
       "      <td>These stairs are the reason my dog can sleep w...</td>\n",
       "      <td>NaN</td>\n",
       "      <td>0</td>\n",
       "      <td>1</td>\n",
       "      <td>0</td>\n",
       "      <td>0</td>\n",
       "      <td>0</td>\n",
       "      <td>1</td>\n",
       "      <td>0</td>\n",
       "      <td>0</td>\n",
       "      <td>0</td>\n",
       "      <td>0</td>\n",
       "      <td>0</td>\n",
       "    </tr>\n",
       "    <tr>\n",
       "      <th>2</th>\n",
       "      <td>shng4</td>\n",
       "      <td>Others</td>\n",
       "      <td>5</td>\n",
       "      <td>Excellent Quality and Price</td>\n",
       "      <td>My chihuahua really loves these steps. He has ...</td>\n",
       "      <td>NaN</td>\n",
       "      <td>0</td>\n",
       "      <td>0</td>\n",
       "      <td>1</td>\n",
       "      <td>0</td>\n",
       "      <td>0</td>\n",
       "      <td>1</td>\n",
       "      <td>0</td>\n",
       "      <td>0</td>\n",
       "      <td>0</td>\n",
       "      <td>0</td>\n",
       "      <td>0</td>\n",
       "    </tr>\n",
       "    <tr>\n",
       "      <th>3</th>\n",
       "      <td>shng6</td>\n",
       "      <td>Others</td>\n",
       "      <td>5</td>\n",
       "      <td>Great product and great company!</td>\n",
       "      <td>EXACTLY what I was looking for. Good quality a...</td>\n",
       "      <td>NaN</td>\n",
       "      <td>0</td>\n",
       "      <td>0</td>\n",
       "      <td>0</td>\n",
       "      <td>0</td>\n",
       "      <td>0</td>\n",
       "      <td>1</td>\n",
       "      <td>1</td>\n",
       "      <td>0</td>\n",
       "      <td>0</td>\n",
       "      <td>0</td>\n",
       "      <td>1</td>\n",
       "    </tr>\n",
       "    <tr>\n",
       "      <th>4</th>\n",
       "      <td>shng12</td>\n",
       "      <td>Others</td>\n",
       "      <td>5</td>\n",
       "      <td>Great Packaging</td>\n",
       "      <td>Came with all the Necessary Hardware, and a ra...</td>\n",
       "      <td>NaN</td>\n",
       "      <td>0</td>\n",
       "      <td>0</td>\n",
       "      <td>0</td>\n",
       "      <td>0</td>\n",
       "      <td>0</td>\n",
       "      <td>0</td>\n",
       "      <td>0</td>\n",
       "      <td>0</td>\n",
       "      <td>0</td>\n",
       "      <td>1</td>\n",
       "      <td>1</td>\n",
       "    </tr>\n",
       "  </tbody>\n",
       "</table>\n",
       "</div>"
      ],
      "text/plain": [
       "  reviewId category  rating                               title  \\\n",
       "0    shng0   Others       5                   Excellent Product   \n",
       "1    shng2   Others       5  Worth the price to save your back!   \n",
       "2    shng4   Others       5         Excellent Quality and Price   \n",
       "3    shng6   Others       5    Great product and great company!   \n",
       "4   shng12   Others       5                     Great Packaging   \n",
       "\n",
       "                                         review_text asin  class_0  class_1  \\\n",
       "0  First of all I have 3 60LB dogs whom are welco...  NaN        0        1   \n",
       "1  These stairs are the reason my dog can sleep w...  NaN        0        1   \n",
       "2  My chihuahua really loves these steps. He has ...  NaN        0        0   \n",
       "3  EXACTLY what I was looking for. Good quality a...  NaN        0        0   \n",
       "4  Came with all the Necessary Hardware, and a ra...  NaN        0        0   \n",
       "\n",
       "   class_2  class_3  class_4  class_5  class_6  class_7  class_8  class_9  \\\n",
       "0        0        0        0        1        0        0        0        0   \n",
       "1        0        0        0        1        0        0        0        0   \n",
       "2        1        0        0        1        0        0        0        0   \n",
       "3        0        0        0        1        1        0        0        0   \n",
       "4        0        0        0        0        0        0        0        1   \n",
       "\n",
       "   class_10  \n",
       "0         0  \n",
       "1         0  \n",
       "2         0  \n",
       "3         1  \n",
       "4         1  "
      ]
     },
     "execution_count": 14,
     "metadata": {},
     "output_type": "execute_result"
    }
   ],
   "source": [
    "tmp_all_df = pd.concat([all_df, pd.get_dummies(all_df['class'])], axis=1)\n",
    "tmp_all_df = tmp_all_df.groupby('reviewId').agg({0:'max', 1:'max', 2:'max', 3:'max', 4:'max', 5:'max', 6:'max', 7:'max', 8:'max', 9:'max', 10:'max'})\n",
    "tmp_all_df.rename(columns = {0:\"class_0\", 1:\"class_1\", 2:\"class_2\", 3:\"class_3\", 4:\"class_4\", 5:\"class_5\", 6:\"class_6\", 7:\"class_7\", 8:\"class_8\", 9:\"class_9\", 10:\"class_10\"}, inplace=True)\n",
    "\n",
    "new_all_df = pd.merge(all_df, tmp_all_df, how='inner', on='reviewId')\n",
    "new_all_df = new_all_df.drop(['class'], axis=1)\n",
    "new_all_df = new_all_df.drop_duplicates(ignore_index=True)\n",
    "new_all_df.head()"
   ]
  },
  {
   "cell_type": "code",
   "execution_count": 15,
   "id": "f50b0ae0-9cd7-409f-8c33-0a84f6d805fd",
   "metadata": {
    "execution": {
     "iopub.execute_input": "2021-06-30T08:51:07.325798Z",
     "iopub.status.busy": "2021-06-30T08:51:07.325652Z",
     "iopub.status.idle": "2021-06-30T08:51:07.332652Z",
     "shell.execute_reply": "2021-06-30T08:51:07.332275Z",
     "shell.execute_reply.started": "2021-06-30T08:51:07.325784Z"
    },
    "tags": []
   },
   "outputs": [
    {
     "data": {
      "text/html": [
       "<div>\n",
       "<style scoped>\n",
       "    .dataframe tbody tr th:only-of-type {\n",
       "        vertical-align: middle;\n",
       "    }\n",
       "\n",
       "    .dataframe tbody tr th {\n",
       "        vertical-align: top;\n",
       "    }\n",
       "\n",
       "    .dataframe thead th {\n",
       "        text-align: right;\n",
       "    }\n",
       "</style>\n",
       "<table border=\"1\" class=\"dataframe\">\n",
       "  <thead>\n",
       "    <tr style=\"text-align: right;\">\n",
       "      <th></th>\n",
       "      <th>class_0</th>\n",
       "      <th>class_1</th>\n",
       "      <th>class_2</th>\n",
       "      <th>class_3</th>\n",
       "      <th>class_4</th>\n",
       "      <th>class_5</th>\n",
       "      <th>class_6</th>\n",
       "      <th>class_7</th>\n",
       "      <th>class_8</th>\n",
       "      <th>class_9</th>\n",
       "      <th>class_10</th>\n",
       "    </tr>\n",
       "  </thead>\n",
       "  <tbody>\n",
       "    <tr>\n",
       "      <th>0</th>\n",
       "      <td>0</td>\n",
       "      <td>1</td>\n",
       "      <td>0</td>\n",
       "      <td>0</td>\n",
       "      <td>0</td>\n",
       "      <td>1</td>\n",
       "      <td>0</td>\n",
       "      <td>0</td>\n",
       "      <td>0</td>\n",
       "      <td>0</td>\n",
       "      <td>0</td>\n",
       "    </tr>\n",
       "    <tr>\n",
       "      <th>1</th>\n",
       "      <td>0</td>\n",
       "      <td>1</td>\n",
       "      <td>0</td>\n",
       "      <td>0</td>\n",
       "      <td>0</td>\n",
       "      <td>1</td>\n",
       "      <td>0</td>\n",
       "      <td>0</td>\n",
       "      <td>0</td>\n",
       "      <td>0</td>\n",
       "      <td>0</td>\n",
       "    </tr>\n",
       "    <tr>\n",
       "      <th>2</th>\n",
       "      <td>0</td>\n",
       "      <td>0</td>\n",
       "      <td>1</td>\n",
       "      <td>0</td>\n",
       "      <td>0</td>\n",
       "      <td>1</td>\n",
       "      <td>0</td>\n",
       "      <td>0</td>\n",
       "      <td>0</td>\n",
       "      <td>0</td>\n",
       "      <td>0</td>\n",
       "    </tr>\n",
       "    <tr>\n",
       "      <th>3</th>\n",
       "      <td>0</td>\n",
       "      <td>0</td>\n",
       "      <td>0</td>\n",
       "      <td>0</td>\n",
       "      <td>0</td>\n",
       "      <td>1</td>\n",
       "      <td>1</td>\n",
       "      <td>0</td>\n",
       "      <td>0</td>\n",
       "      <td>0</td>\n",
       "      <td>1</td>\n",
       "    </tr>\n",
       "    <tr>\n",
       "      <th>4</th>\n",
       "      <td>0</td>\n",
       "      <td>0</td>\n",
       "      <td>0</td>\n",
       "      <td>0</td>\n",
       "      <td>0</td>\n",
       "      <td>0</td>\n",
       "      <td>0</td>\n",
       "      <td>0</td>\n",
       "      <td>0</td>\n",
       "      <td>1</td>\n",
       "      <td>1</td>\n",
       "    </tr>\n",
       "  </tbody>\n",
       "</table>\n",
       "</div>"
      ],
      "text/plain": [
       "   class_0  class_1  class_2  class_3  class_4  class_5  class_6  class_7  \\\n",
       "0        0        1        0        0        0        1        0        0   \n",
       "1        0        1        0        0        0        1        0        0   \n",
       "2        0        0        1        0        0        1        0        0   \n",
       "3        0        0        0        0        0        1        1        0   \n",
       "4        0        0        0        0        0        0        0        0   \n",
       "\n",
       "   class_8  class_9  class_10  \n",
       "0        0        0         0  \n",
       "1        0        0         0  \n",
       "2        0        0         0  \n",
       "3        0        0         1  \n",
       "4        0        1         1  "
      ]
     },
     "execution_count": 15,
     "metadata": {},
     "output_type": "execute_result"
    }
   ],
   "source": [
    "class_label = new_all_df[['class_0', 'class_1', 'class_2', 'class_3', 'class_4', 'class_5', 'class_6', 'class_7', 'class_8', 'class_9', 'class_10']]\n",
    "\n",
    "class_label.head()"
   ]
  },
  {
   "cell_type": "code",
   "execution_count": 16,
   "id": "fe7f6db1-890c-4570-ba62-e79f50519c14",
   "metadata": {
    "execution": {
     "iopub.execute_input": "2021-06-30T08:51:07.333459Z",
     "iopub.status.busy": "2021-06-30T08:51:07.333270Z",
     "iopub.status.idle": "2021-06-30T08:51:07.340206Z",
     "shell.execute_reply": "2021-06-30T08:51:07.339845Z",
     "shell.execute_reply.started": "2021-06-30T08:51:07.333444Z"
    },
    "tags": []
   },
   "outputs": [
    {
     "name": "stdout",
     "output_type": "stream",
     "text": [
      "[1 0]\n",
      "[0 1]\n",
      "[0 1]\n",
      "[0 1]\n",
      "[0 1]\n",
      "[0 1]\n",
      "[0 1]\n",
      "[0 1]\n",
      "[0 1]\n",
      "[0 1]\n",
      "[0 1]\n"
     ]
    }
   ],
   "source": [
    "print(tmp_all_df.class_0.unique())\n",
    "print(tmp_all_df.class_1.unique())\n",
    "print(tmp_all_df.class_2.unique())\n",
    "print(tmp_all_df.class_3.unique())\n",
    "print(tmp_all_df.class_4.unique())\n",
    "print(tmp_all_df.class_5.unique())\n",
    "print(tmp_all_df.class_6.unique())\n",
    "print(tmp_all_df.class_7.unique())\n",
    "print(tmp_all_df.class_8.unique())\n",
    "print(tmp_all_df.class_9.unique())\n",
    "print(tmp_all_df.class_10.unique())"
   ]
  },
  {
   "cell_type": "markdown",
   "id": "e8e268e0-70e7-4cf4-bb3f-f8aa4db1e8ff",
   "metadata": {},
   "source": [
    "## EDA"
   ]
  },
  {
   "cell_type": "markdown",
   "id": "7bf5074e-4402-4f81-8263-14222c308040",
   "metadata": {},
   "source": [
    "### Data Count by Class"
   ]
  },
  {
   "cell_type": "code",
   "execution_count": 20,
   "id": "ec454c49-cc7a-4aed-b035-34ee4120d253",
   "metadata": {
    "execution": {
     "iopub.execute_input": "2021-06-30T08:51:07.349479Z",
     "iopub.status.busy": "2021-06-30T08:51:07.349273Z",
     "iopub.status.idle": "2021-06-30T08:51:07.574175Z",
     "shell.execute_reply": "2021-06-30T08:51:07.573816Z",
     "shell.execute_reply.started": "2021-06-30T08:51:07.349447Z"
    },
    "tags": []
   },
   "outputs": [
    {
     "name": "stdout",
     "output_type": "stream",
     "text": [
      "    class  count\n",
      "0       0    300\n",
      "1       1    200\n",
      "2       2    201\n",
      "3       3    580\n",
      "4       4    176\n",
      "5       5    602\n",
      "6       6     16\n",
      "7       7     31\n",
      "8       8    222\n",
      "9       9    188\n",
      "10     10    483\n"
     ]
    },
    {
     "data": {
      "text/plain": [
       "<AxesSubplot:>"
      ]
     },
     "execution_count": 20,
     "metadata": {},
     "output_type": "execute_result"
    },
    {
     "data": {
      "image/png": "[encoded data removed]",
      "text/plain": [
       "<Figure size 432x288 with 1 Axes>"
      ]
     },
     "metadata": {
      "needs_background": "light"
     },
     "output_type": "display_data"
    }
   ],
   "source": [
    "print(all_df.groupby('class').size().reset_index(name='count'))\n",
    "\n",
    "all_df['class'].value_counts().sort_index().plot(kind='bar')"
   ]
  },
  {
   "cell_type": "markdown",
   "id": "c4317b4a-6e0d-4217-9e7d-304bb73d45f4",
   "metadata": {},
   "source": [
    "### Length of Review_Text"
   ]
  },
  {
   "cell_type": "code",
   "execution_count": 23,
   "id": "13313466-c943-4cbb-aab0-ab636192917c",
   "metadata": {
    "execution": {
     "iopub.execute_input": "2021-06-30T08:51:07.580664Z",
     "iopub.status.busy": "2021-06-30T08:51:07.580512Z",
     "iopub.status.idle": "2021-06-30T08:51:07.758373Z",
     "shell.execute_reply": "2021-06-30T08:51:07.757939Z",
     "shell.execute_reply.started": "2021-06-30T08:51:07.580649Z"
    },
    "tags": []
   },
   "outputs": [
    {
     "data": {
      "image/png": "[encoded data removed]",
      "text/plain": [
       "<Figure size 432x288 with 1 Axes>"
      ]
     },
     "metadata": {
      "needs_background": "light"
     },
     "output_type": "display_data"
    },
    {
     "name": "stdout",
     "output_type": "stream",
     "text": [
      "AVG Length : 531.4041347115706\n"
     ]
    }
   ],
   "source": [
    "plt.hist([len(r) for r in all_df['review_text']], bins=50)\n",
    "plt.xlabel('length of reviews')\n",
    "plt.ylabel('number of reviews')\n",
    "plt.show()\n",
    "\n",
    "# Average Length of Reviews\n",
    "total_len = sum(map(len, all_df['review_text']))\n",
    "cnt_rvw = len(all_df['review_text'])\n",
    "print(\"AVG Length : {}\".format(total_len/cnt_rvw))"
   ]
  },
  {
   "cell_type": "markdown",
   "id": "48196612-13b6-47ce-b474-1b7ff681829d",
   "metadata": {},
   "source": [
    "<br>\n",
    "====================================================================================\n",
    "<br>"
   ]
  },
  {
   "cell_type": "markdown",
   "id": "0349d151-7d19-4a59-82a8-50c75a964ab5",
   "metadata": {},
   "source": [
    "# Pre-processing"
   ]
  },
  {
   "cell_type": "markdown",
   "id": "a371ee5b-602a-440a-ae44-bead902ea0ca",
   "metadata": {},
   "source": [
    "## Set DataFrame for Multi-Class"
   ]
  },
  {
   "cell_type": "code",
   "execution_count": 471,
   "id": "c2d61845-729b-4904-a128-a6f582135f34",
   "metadata": {
    "execution": {
     "iopub.execute_input": "2021-07-01T08:39:30.731602Z",
     "iopub.status.busy": "2021-07-01T08:39:30.731389Z",
     "iopub.status.idle": "2021-07-01T08:39:30.740349Z",
     "shell.execute_reply": "2021-07-01T08:39:30.739925Z",
     "shell.execute_reply.started": "2021-07-01T08:39:30.731583Z"
    },
    "tags": []
   },
   "outputs": [
    {
     "data": {
      "text/html": [
       "<div>\n",
       "<style scoped>\n",
       "    .dataframe tbody tr th:only-of-type {\n",
       "        vertical-align: middle;\n",
       "    }\n",
       "\n",
       "    .dataframe tbody tr th {\n",
       "        vertical-align: top;\n",
       "    }\n",
       "\n",
       "    .dataframe thead th {\n",
       "        text-align: right;\n",
       "    }\n",
       "</style>\n",
       "<table border=\"1\" class=\"dataframe\">\n",
       "  <thead>\n",
       "    <tr style=\"text-align: right;\">\n",
       "      <th></th>\n",
       "      <th>reviewId</th>\n",
       "      <th>category</th>\n",
       "      <th>rating</th>\n",
       "      <th>title</th>\n",
       "      <th>review_text</th>\n",
       "      <th>class</th>\n",
       "      <th>asin</th>\n",
       "    </tr>\n",
       "  </thead>\n",
       "  <tbody>\n",
       "    <tr>\n",
       "      <th>0</th>\n",
       "      <td>shng0</td>\n",
       "      <td>Others</td>\n",
       "      <td>5</td>\n",
       "      <td>Excellent Product</td>\n",
       "      <td>First of all I have 3 60LB dogs whom are welco...</td>\n",
       "      <td>1</td>\n",
       "      <td>NaN</td>\n",
       "    </tr>\n",
       "    <tr>\n",
       "      <th>1</th>\n",
       "      <td>shng0</td>\n",
       "      <td>Others</td>\n",
       "      <td>5</td>\n",
       "      <td>Excellent Product</td>\n",
       "      <td>First of all I have 3 60LB dogs whom are welco...</td>\n",
       "      <td>5</td>\n",
       "      <td>NaN</td>\n",
       "    </tr>\n",
       "    <tr>\n",
       "      <th>2</th>\n",
       "      <td>shng2</td>\n",
       "      <td>Others</td>\n",
       "      <td>5</td>\n",
       "      <td>Worth the price to save your back!</td>\n",
       "      <td>These stairs are the reason my dog can sleep w...</td>\n",
       "      <td>1</td>\n",
       "      <td>NaN</td>\n",
       "    </tr>\n",
       "    <tr>\n",
       "      <th>3</th>\n",
       "      <td>shng2</td>\n",
       "      <td>Others</td>\n",
       "      <td>5</td>\n",
       "      <td>Worth the price to save your back!</td>\n",
       "      <td>These stairs are the reason my dog can sleep w...</td>\n",
       "      <td>5</td>\n",
       "      <td>NaN</td>\n",
       "    </tr>\n",
       "    <tr>\n",
       "      <th>4</th>\n",
       "      <td>shng4</td>\n",
       "      <td>Others</td>\n",
       "      <td>5</td>\n",
       "      <td>Excellent Quality and Price</td>\n",
       "      <td>My chihuahua really loves these steps. He has ...</td>\n",
       "      <td>2</td>\n",
       "      <td>NaN</td>\n",
       "    </tr>\n",
       "  </tbody>\n",
       "</table>\n",
       "</div>"
      ],
      "text/plain": [
       "  reviewId category  rating                               title  \\\n",
       "0    shng0   Others       5                   Excellent Product   \n",
       "1    shng0   Others       5                   Excellent Product   \n",
       "2    shng2   Others       5  Worth the price to save your back!   \n",
       "3    shng2   Others       5  Worth the price to save your back!   \n",
       "4    shng4   Others       5         Excellent Quality and Price   \n",
       "\n",
       "                                         review_text  class asin  \n",
       "0  First of all I have 3 60LB dogs whom are welco...      1  NaN  \n",
       "1  First of all I have 3 60LB dogs whom are welco...      5  NaN  \n",
       "2  These stairs are the reason my dog can sleep w...      1  NaN  \n",
       "3  These stairs are the reason my dog can sleep w...      5  NaN  \n",
       "4  My chihuahua really loves these steps. He has ...      2  NaN  "
      ]
     },
     "execution_count": 471,
     "metadata": {},
     "output_type": "execute_result"
    }
   ],
   "source": [
    "# multi-class\n",
    "all_df_cls = all_df.copy()\n",
    "all_df_cls.head()"
   ]
  },
  {
   "cell_type": "code",
   "execution_count": 473,
   "id": "d4fe8edf-fa15-49ff-bdc9-356f425b6897",
   "metadata": {
    "execution": {
     "iopub.execute_input": "2021-07-01T08:39:31.061287Z",
     "iopub.status.busy": "2021-07-01T08:39:31.061140Z",
     "iopub.status.idle": "2021-07-01T08:39:31.078063Z",
     "shell.execute_reply": "2021-07-01T08:39:31.077632Z",
     "shell.execute_reply.started": "2021-07-01T08:39:31.061266Z"
    },
    "tags": []
   },
   "outputs": [],
   "source": [
    "# Convert All review to lower-case\n",
    "all_df_cls = convert_lowercase(all_df_cls)"
   ]
  },
  {
   "cell_type": "markdown",
   "id": "66f3c144-41f7-4eaf-8b85-d62bd3425131",
   "metadata": {},
   "source": [
    "## Cleansing Review Text"
   ]
  },
  {
   "cell_type": "code",
   "execution_count": 474,
   "id": "36b7125a-e776-472a-b5bc-daa9283fd02e",
   "metadata": {
    "execution": {
     "iopub.execute_input": "2021-07-01T08:39:31.405321Z",
     "iopub.status.busy": "2021-07-01T08:39:31.405131Z",
     "iopub.status.idle": "2021-07-01T08:39:31.652713Z",
     "shell.execute_reply": "2021-07-01T08:39:31.652270Z",
     "shell.execute_reply.started": "2021-07-01T08:39:31.405302Z"
    },
    "tags": []
   },
   "outputs": [],
   "source": [
    "all_df_cls['corpus_list'] = all_df_cls['review_text'].apply(lambda x : preprocess_review(x))"
   ]
  },
  {
   "cell_type": "markdown",
   "id": "d2eddd00-a3e0-42ff-9f9e-882bc72f78c6",
   "metadata": {},
   "source": [
    "## Shiny-Word(Single+Multi)"
   ]
  },
  {
   "cell_type": "code",
   "execution_count": 475,
   "id": "e5638594-40fd-4f15-a53e-ba16c18a4e5f",
   "metadata": {
    "execution": {
     "iopub.execute_input": "2021-07-01T08:39:31.776086Z",
     "iopub.status.busy": "2021-07-01T08:39:31.775930Z",
     "iopub.status.idle": "2021-07-01T08:39:33.876489Z",
     "shell.execute_reply": "2021-07-01T08:39:33.876032Z",
     "shell.execute_reply.started": "2021-07-01T08:39:31.776070Z"
    },
    "tags": []
   },
   "outputs": [
    {
     "name": "stdout",
     "output_type": "stream",
     "text": [
      "Complimenting Factor :  (297, 2)\n",
      "Shiny Express lenth :  296\n"
     ]
    }
   ],
   "source": [
    "factor_sql = '''\n",
    "                SELECT *\n",
    "                FROM `taxonomy.shn_kwd` \n",
    "            '''\n",
    "shiny_factor = bq.select_query(factor_sql)\n",
    "shiny_factor_list = list( set( shiny_factor['keyword'].tolist() ) )\n",
    "shiny_express = list(filter(lambda x: len(x.split(' '))>=1 , shiny_factor_list))\n",
    "shiny_express = [tuple(f.split(' ')) for f in shiny_express]\n",
    "\n",
    "print('Complimenting Factor : ', shiny_factor.shape)\n",
    "print('Shiny Express lenth : ', len(shiny_express))"
   ]
  },
  {
   "cell_type": "markdown",
   "id": "c30c9ce5-16f1-4164-9c73-7111d335847c",
   "metadata": {
    "tags": []
   },
   "source": [
    "## Stopwords"
   ]
  },
  {
   "cell_type": "code",
   "execution_count": 476,
   "id": "88c0e5b6-119b-4d2b-b022-fd1925f664d2",
   "metadata": {
    "execution": {
     "iopub.execute_input": "2021-07-01T08:39:33.877405Z",
     "iopub.status.busy": "2021-07-01T08:39:33.877251Z",
     "iopub.status.idle": "2021-07-01T08:39:37.628057Z",
     "shell.execute_reply": "2021-07-01T08:39:37.627492Z",
     "shell.execute_reply.started": "2021-07-01T08:39:33.877388Z"
    },
    "tags": []
   },
   "outputs": [
    {
     "name": "stdout",
     "output_type": "stream",
     "text": [
      "stop_words : 524\n"
     ]
    }
   ],
   "source": [
    "# Get Stopwords list\n",
    "filter_sql = '''    \n",
    "    SELECT\n",
    "      distinct stopword \n",
    "    FROM\n",
    "      market-analysis-project-91130.taxonomy.stp_wds\n",
    "    WHERE 1=1\n",
    "      AND stopword not in ('by', 'to', 'of', 'put', 'together', 'up', 'keep', 'itself', 'very', 'well', 'again', 'others', 'really', 'myself', 'more', 'another', 'nice', 'do', 'done', 'super', 'one', 'no', 'thank');\n",
    "'''\n",
    "stopword_df = convert_lowercase(bq.select_query(filter_sql))\n",
    "\n",
    "# Get words related parts ... except Parts things\n",
    "# part_sql = '''\n",
    "#     SELECT *\n",
    "#     FROM market-analysis-project-91130.taxonomy.prt_wds\n",
    "# '''\n",
    "# parts_df = convert_lowercase(bq.select_query(part_sql))\n",
    "\n",
    "stop_words = stopword_df['stopword'].tolist()\n",
    "print('stop_words :', len(stop_words))\n",
    "\n",
    "#all_df_cls['corpus_list'] = all_df_cls['review_text'].apply(lambda x : preprocess_stpwds(x, stop_words))"
   ]
  },
  {
   "cell_type": "markdown",
   "id": "7933c162-1603-4d9b-a0bd-dd979fb798f4",
   "metadata": {},
   "source": [
    "## Tokenization"
   ]
  },
  {
   "cell_type": "code",
   "execution_count": 477,
   "id": "91988754-7be4-4230-be47-0b2e0b288695",
   "metadata": {
    "execution": {
     "iopub.execute_input": "2021-07-01T08:39:37.629185Z",
     "iopub.status.busy": "2021-07-01T08:39:37.629044Z",
     "iopub.status.idle": "2021-07-01T08:39:37.635526Z",
     "shell.execute_reply": "2021-07-01T08:39:37.635110Z",
     "shell.execute_reply.started": "2021-07-01T08:39:37.629170Z"
    },
    "tags": []
   },
   "outputs": [],
   "source": [
    "N_POS_TAG   = ['CC','CD','DT','EX','FW','LS','PDT','POS','PRP','PRP$','TO','WDT','WP','WRB']\n",
    "Y_POS_TAG   = ['JJ','JJR','JJS','MD','IN','NN','NNS','NNP','NNPS','RB','RBR','RBS','RP','UH','VB','VBG','VBD','VBN','VBP','VBZ', 'TO', 'DT']\n",
    "\n",
    "def tokenized_corpus(df):\n",
    "    corpus = []\n",
    "    reviewid = []\n",
    "    global shiny_word\n",
    "    shiny_word = []\n",
    "    shiny_tokenizer = nltk.tokenize.MWETokenizer(shiny_express, separator=' ')\n",
    "    # if you wonder that nltk pos tag\n",
    "    # nltk.help.upenn_tagset()\n",
    "    \n",
    "    for i,v in enumerate(tqdm(df['corpus_list'])):\n",
    "        try:\n",
    "            word = []\n",
    "            reviewid.append(str(df.iloc[i].reviewId)) \n",
    "           \n",
    "            for j in pos_tag(regexp_tokenize(v,\"[\\w']+\")) :\n",
    "                if (j[1] in Y_POS_TAG ) & (len(j[0])>1)  & (j[0].isascii()):\n",
    "                    word.append(j[0])\n",
    "            \n",
    "            # Shiny Factors\n",
    "            shiny_tokenizer = nltk.tokenize.MWETokenizer(shiny_express, separator=' ')\n",
    "            tokenized_string = shiny_tokenizer.tokenize(word)\n",
    "            \n",
    "            # Lemmatize\n",
    "            # tokenized_string = [WordNetLemmatizer().lemmatize(x,pos='v') for x in tokenized_string ]\n",
    "            for i, x in enumerate(tokenized_string) : \n",
    "                if len(x.split(' ')) > 1 : # MWE\n",
    "                    tmp_x = x.split(' ')\n",
    "                    tmp_x = [WordNetLemmatizer().lemmatize(y, pos='v') for y in tmp_x ]\n",
    "                    tokenized_string[i] = \" \".join(tmp_x)\n",
    "                else : # Single\n",
    "                    tokenized_string[i] = WordNetLemmatizer().lemmatize(x, pos='v')\n",
    "                    \n",
    "            # Stop Words\n",
    "            tokenized_corpus = [s for s in tokenized_string if s not in stop_words]\n",
    "            \n",
    "            corpus.append(tokenized_corpus)\n",
    "            ## corpus.append(\" \".join(tokenized_string))\n",
    "            \n",
    "            tokenized_shiny = [s for s in tokenized_string if s in shiny_factor_list]\n",
    "            shiny_word.extend(tokenized_shiny)\n",
    "        except : \n",
    "            pass\n",
    "\n",
    "    corpus_df = pd.DataFrame({'corpus_list' : corpus,'reviewId' : reviewid})\n",
    "    \n",
    "    return corpus_df"
   ]
  },
  {
   "cell_type": "code",
   "execution_count": 478,
   "id": "e4ab6345-8e1f-49ca-8e3e-394abb91ead7",
   "metadata": {
    "execution": {
     "iopub.execute_input": "2021-07-01T08:39:37.636295Z",
     "iopub.status.busy": "2021-07-01T08:39:37.636156Z",
     "iopub.status.idle": "2021-07-01T08:39:52.787000Z",
     "shell.execute_reply": "2021-07-01T08:39:52.786536Z",
     "shell.execute_reply.started": "2021-07-01T08:39:37.636270Z"
    },
    "tags": []
   },
   "outputs": [
    {
     "name": "stdout",
     "output_type": "stream",
     "text": [
      "================ Make Corpus ===============\n"
     ]
    },
    {
     "data": {
      "application/vnd.jupyter.widget-view+json": {
       "model_id": "66404c65a88f45cd9b5fece9bbbe16dc",
       "version_major": 2,
       "version_minor": 0
      },
      "text/plain": [
       "  0%|          | 0/2999 [00:00<?, ?it/s]"
      ]
     },
     "metadata": {},
     "output_type": "display_data"
    },
    {
     "data": {
      "application/vnd.jupyter.widget-view+json": {
       "model_id": "763d51f37ab8402f8710e0b953f1aec7",
       "version_major": 2,
       "version_minor": 0
      },
      "text/plain": [
       "  0%|          | 0/1511 [00:00<?, ?it/s]"
      ]
     },
     "metadata": {},
     "output_type": "display_data"
    },
    {
     "name": "stdout",
     "output_type": "stream",
     "text": [
      "============================================\n"
     ]
    }
   ],
   "source": [
    "print('================ Make Corpus ===============')\n",
    "corpus_all_df_cls = tokenized_corpus(all_df_cls)\n",
    "\n",
    "print('============================================')\n",
    "all_df_cls['corpus_list'] = corpus_all_df_cls['corpus_list']"
   ]
  },
  {
   "cell_type": "markdown",
   "id": "1d30e40f-0528-4561-a97d-398b5eff38e3",
   "metadata": {},
   "source": [
    "### Keyword Count by Class(Multi-Label)"
   ]
  },
  {
   "cell_type": "code",
   "execution_count": 492,
   "id": "ea4cd034-ece9-4fde-871c-aa59d700646e",
   "metadata": {
    "execution": {
     "iopub.execute_input": "2021-07-01T08:49:06.532881Z",
     "iopub.status.busy": "2021-07-01T08:49:06.532681Z",
     "iopub.status.idle": "2021-07-01T08:49:06.541515Z",
     "shell.execute_reply": "2021-07-01T08:49:06.540961Z",
     "shell.execute_reply.started": "2021-07-01T08:49:06.532863Z"
    },
    "tags": []
   },
   "outputs": [
    {
     "data": {
      "text/html": [
       "<div>\n",
       "<style scoped>\n",
       "    .dataframe tbody tr th:only-of-type {\n",
       "        vertical-align: middle;\n",
       "    }\n",
       "\n",
       "    .dataframe tbody tr th {\n",
       "        vertical-align: top;\n",
       "    }\n",
       "\n",
       "    .dataframe thead th {\n",
       "        text-align: right;\n",
       "    }\n",
       "</style>\n",
       "<table border=\"1\" class=\"dataframe\">\n",
       "  <thead>\n",
       "    <tr style=\"text-align: right;\">\n",
       "      <th></th>\n",
       "      <th>factor</th>\n",
       "      <th>keyword</th>\n",
       "      <th>count</th>\n",
       "    </tr>\n",
       "  </thead>\n",
       "  <tbody>\n",
       "    <tr>\n",
       "      <th>154</th>\n",
       "      <td>Assemble</td>\n",
       "      <td>put together</td>\n",
       "      <td>285</td>\n",
       "    </tr>\n",
       "    <tr>\n",
       "      <th>96</th>\n",
       "      <td>Assemble</td>\n",
       "      <td>ratchet</td>\n",
       "      <td>192</td>\n",
       "    </tr>\n",
       "    <tr>\n",
       "      <th>111</th>\n",
       "      <td>Assemble</td>\n",
       "      <td>easy to assemble</td>\n",
       "      <td>174</td>\n",
       "    </tr>\n",
       "    <tr>\n",
       "      <th>160</th>\n",
       "      <td>Assemble</td>\n",
       "      <td>easy to put together</td>\n",
       "      <td>145</td>\n",
       "    </tr>\n",
       "    <tr>\n",
       "      <th>74</th>\n",
       "      <td>Quality</td>\n",
       "      <td>very sturdy</td>\n",
       "      <td>131</td>\n",
       "    </tr>\n",
       "    <tr>\n",
       "      <th>141</th>\n",
       "      <td>Assemble</td>\n",
       "      <td>allen wrench</td>\n",
       "      <td>92</td>\n",
       "    </tr>\n",
       "    <tr>\n",
       "      <th>126</th>\n",
       "      <td>Assemble</td>\n",
       "      <td>set up</td>\n",
       "      <td>75</td>\n",
       "    </tr>\n",
       "    <tr>\n",
       "      <th>157</th>\n",
       "      <td>Assemble</td>\n",
       "      <td>wrench</td>\n",
       "      <td>63</td>\n",
       "    </tr>\n",
       "    <tr>\n",
       "      <th>29</th>\n",
       "      <td>Design</td>\n",
       "      <td>look great</td>\n",
       "      <td>56</td>\n",
       "    </tr>\n",
       "    <tr>\n",
       "      <th>79</th>\n",
       "      <td>Quality</td>\n",
       "      <td>high quality</td>\n",
       "      <td>43</td>\n",
       "    </tr>\n",
       "  </tbody>\n",
       "</table>\n",
       "</div>"
      ],
      "text/plain": [
       "       factor               keyword  count\n",
       "154  Assemble          put together    285\n",
       "96   Assemble               ratchet    192\n",
       "111  Assemble      easy to assemble    174\n",
       "160  Assemble  easy to put together    145\n",
       "74    Quality           very sturdy    131\n",
       "141  Assemble          allen wrench     92\n",
       "126  Assemble                set up     75\n",
       "157  Assemble                wrench     63\n",
       "29     Design            look great     56\n",
       "79    Quality          high quality     43"
      ]
     },
     "execution_count": 492,
     "metadata": {},
     "output_type": "execute_result"
    }
   ],
   "source": [
    "# Count Shiny Factor Words\n",
    "shiny_word_dict = collections.Counter(shiny_word)\n",
    "shiny_factor['count'] = shiny_factor['keyword'].apply(lambda x : shiny_word_dict[x])\n",
    "shiny_factor.sort_values(by=['count'], ascending=False).head(10)"
   ]
  },
  {
   "cell_type": "markdown",
   "id": "12e9edb5-0927-49dd-abf0-0c86cf2dc1ad",
   "metadata": {},
   "source": [
    "### Keyword Count by Class(Multi-Class)"
   ]
  },
  {
   "cell_type": "code",
   "execution_count": 93,
   "id": "5ba6e447-f203-486e-94ab-4196853c92a0",
   "metadata": {
    "execution": {
     "iopub.execute_input": "2021-06-29T12:57:27.732830Z",
     "iopub.status.busy": "2021-06-29T12:57:27.732570Z",
     "iopub.status.idle": "2021-06-29T12:57:27.895741Z",
     "shell.execute_reply": "2021-06-29T12:57:27.895076Z",
     "shell.execute_reply.started": "2021-06-29T12:57:27.732807Z"
    },
    "tags": []
   },
   "outputs": [
    {
     "data": {
      "text/html": [
       "<div>\n",
       "<style scoped>\n",
       "    .dataframe tbody tr th:only-of-type {\n",
       "        vertical-align: middle;\n",
       "    }\n",
       "\n",
       "    .dataframe tbody tr th {\n",
       "        vertical-align: top;\n",
       "    }\n",
       "\n",
       "    .dataframe thead th {\n",
       "        text-align: right;\n",
       "    }\n",
       "</style>\n",
       "<table border=\"1\" class=\"dataframe\">\n",
       "  <thead>\n",
       "    <tr style=\"text-align: right;\">\n",
       "      <th></th>\n",
       "      <th>corpus_list</th>\n",
       "      <th>corpus_set</th>\n",
       "      <th>corpus_list_count</th>\n",
       "      <th>corpus_set_count</th>\n",
       "    </tr>\n",
       "    <tr>\n",
       "      <th>class</th>\n",
       "      <th></th>\n",
       "      <th></th>\n",
       "      <th></th>\n",
       "      <th></th>\n",
       "    </tr>\n",
       "  </thead>\n",
       "  <tbody>\n",
       "    <tr>\n",
       "      <th>0</th>\n",
       "      <td>[time, to, assemble, sure, plenty, of, space, ...</td>\n",
       "      <td>[pero, slats', worry, longevity, somewhat, ins...</td>\n",
       "      <td>5512</td>\n",
       "      <td>1402</td>\n",
       "    </tr>\n",
       "    <tr>\n",
       "      <th>1</th>\n",
       "      <td>[of, dog, welcome, bed, older, jump, bed, good...</td>\n",
       "      <td>[worry, luggage, inside, reputation, smartbase...</td>\n",
       "      <td>9543</td>\n",
       "      <td>1771</td>\n",
       "    </tr>\n",
       "    <tr>\n",
       "      <th>2</th>\n",
       "      <td>[chihuahua, really, love, step, neck, problem,...</td>\n",
       "      <td>[worry, lucy, inside, reputation, incase, poun...</td>\n",
       "      <td>9938</td>\n",
       "      <td>1850</td>\n",
       "    </tr>\n",
       "    <tr>\n",
       "      <th>3</th>\n",
       "      <td>[look, best, buy, zinus, smartbase, use, toy, ...</td>\n",
       "      <td>[worry, luggage, longevity, cheek, somewhat, a...</td>\n",
       "      <td>28556</td>\n",
       "      <td>2909</td>\n",
       "    </tr>\n",
       "    <tr>\n",
       "      <th>4</th>\n",
       "      <td>[minnie, small, way, to, look, order, medium, ...</td>\n",
       "      <td>[worry, somewhat, areas, inside, reputation, i...</td>\n",
       "      <td>9444</td>\n",
       "      <td>1639</td>\n",
       "    </tr>\n",
       "    <tr>\n",
       "      <th>5</th>\n",
       "      <td>[of, dog, welcome, bed, older, jump, bed, good...</td>\n",
       "      <td>[worry, cheek, funky, families, somewhat, turt...</td>\n",
       "      <td>29367</td>\n",
       "      <td>3186</td>\n",
       "    </tr>\n",
       "    <tr>\n",
       "      <th>6</th>\n",
       "      <td>[exactly, look, good quality, nice appearance,...</td>\n",
       "      <td>[worry, promptly, register, size, secure, clea...</td>\n",
       "      <td>1090</td>\n",
       "      <td>514</td>\n",
       "    </tr>\n",
       "    <tr>\n",
       "      <th>7</th>\n",
       "      <td>[inherit, kinda, nice, couch, bed, mom, mattre...</td>\n",
       "      <td>[worry, size, lack, inside, iit, sofa, secure,...</td>\n",
       "      <td>1622</td>\n",
       "      <td>637</td>\n",
       "    </tr>\n",
       "    <tr>\n",
       "      <th>8</th>\n",
       "      <td>[come, snag, seam, panel, hide, bed, love, hea...</td>\n",
       "      <td>[worry, longevity, funky, areas, inside, smart...</td>\n",
       "      <td>8838</td>\n",
       "      <td>1609</td>\n",
       "    </tr>\n",
       "    <tr>\n",
       "      <th>9</th>\n",
       "      <td>[come, necessary hardware, ratchet, ease of in...</td>\n",
       "      <td>[worry, funky, families, somewhat, inside, pou...</td>\n",
       "      <td>9125</td>\n",
       "      <td>1655</td>\n",
       "    </tr>\n",
       "    <tr>\n",
       "      <th>10</th>\n",
       "      <td>[exactly, look, good quality, nice appearance,...</td>\n",
       "      <td>[worry, cheek, somewhat, areas, lucy, inside, ...</td>\n",
       "      <td>25108</td>\n",
       "      <td>2611</td>\n",
       "    </tr>\n",
       "  </tbody>\n",
       "</table>\n",
       "</div>"
      ],
      "text/plain": [
       "                                             corpus_list  \\\n",
       "class                                                      \n",
       "0      [time, to, assemble, sure, plenty, of, space, ...   \n",
       "1      [of, dog, welcome, bed, older, jump, bed, good...   \n",
       "2      [chihuahua, really, love, step, neck, problem,...   \n",
       "3      [look, best, buy, zinus, smartbase, use, toy, ...   \n",
       "4      [minnie, small, way, to, look, order, medium, ...   \n",
       "5      [of, dog, welcome, bed, older, jump, bed, good...   \n",
       "6      [exactly, look, good quality, nice appearance,...   \n",
       "7      [inherit, kinda, nice, couch, bed, mom, mattre...   \n",
       "8      [come, snag, seam, panel, hide, bed, love, hea...   \n",
       "9      [come, necessary hardware, ratchet, ease of in...   \n",
       "10     [exactly, look, good quality, nice appearance,...   \n",
       "\n",
       "                                              corpus_set  corpus_list_count  \\\n",
       "class                                                                         \n",
       "0      [pero, slats', worry, longevity, somewhat, ins...               5512   \n",
       "1      [worry, luggage, inside, reputation, smartbase...               9543   \n",
       "2      [worry, lucy, inside, reputation, incase, poun...               9938   \n",
       "3      [worry, luggage, longevity, cheek, somewhat, a...              28556   \n",
       "4      [worry, somewhat, areas, inside, reputation, i...               9444   \n",
       "5      [worry, cheek, funky, families, somewhat, turt...              29367   \n",
       "6      [worry, promptly, register, size, secure, clea...               1090   \n",
       "7      [worry, size, lack, inside, iit, sofa, secure,...               1622   \n",
       "8      [worry, longevity, funky, areas, inside, smart...               8838   \n",
       "9      [worry, funky, families, somewhat, inside, pou...               9125   \n",
       "10     [worry, cheek, somewhat, areas, lucy, inside, ...              25108   \n",
       "\n",
       "       corpus_set_count  \n",
       "class                    \n",
       "0                  1402  \n",
       "1                  1771  \n",
       "2                  1850  \n",
       "3                  2909  \n",
       "4                  1639  \n",
       "5                  3186  \n",
       "6                   514  \n",
       "7                   637  \n",
       "8                  1609  \n",
       "9                  1655  \n",
       "10                 2611  "
      ]
     },
     "execution_count": 93,
     "metadata": {},
     "output_type": "execute_result"
    }
   ],
   "source": [
    "kwd_cnt_all_df = all_df_cls.groupby('class').agg({'corpus_list':'sum'})\n",
    "kwd_cnt_all_df['corpus_set'] = kwd_cnt_all_df['corpus_list'].apply(lambda x : list(set(x)))\n",
    "kwd_cnt_all_df['corpus_list_count'] = kwd_cnt_all_df['corpus_list'].apply(lambda x : len(x))\n",
    "kwd_cnt_all_df['corpus_set_count'] = kwd_cnt_all_df['corpus_set'].apply(lambda x : len(x))\n",
    "kwd_cnt_all_df"
   ]
  },
  {
   "cell_type": "markdown",
   "id": "5306f354-070f-4b2f-ba7d-3e429ced8686",
   "metadata": {},
   "source": [
    "<br>\n",
    "====================================================================================\n",
    "<br>"
   ]
  },
  {
   "cell_type": "markdown",
   "id": "1905684f-a9cb-4a87-aaa3-f0ef7bd8d96c",
   "metadata": {},
   "source": [
    "# Model"
   ]
  },
  {
   "cell_type": "markdown",
   "id": "12a2c31b-0ec2-4a32-9008-13522def3181",
   "metadata": {},
   "source": [
    "## Multi-Class"
   ]
  },
  {
   "cell_type": "code",
   "execution_count": 248,
   "id": "04e4c355-52ac-40ec-994f-192b2ac995fb",
   "metadata": {
    "execution": {
     "iopub.execute_input": "2021-06-30T11:03:38.003034Z",
     "iopub.status.busy": "2021-06-30T11:03:38.002178Z",
     "iopub.status.idle": "2021-06-30T11:03:38.020490Z",
     "shell.execute_reply": "2021-06-30T11:03:38.019764Z",
     "shell.execute_reply.started": "2021-06-30T11:03:38.002898Z"
    },
    "tags": []
   },
   "outputs": [
    {
     "data": {
      "text/html": [
       "<div>\n",
       "<style scoped>\n",
       "    .dataframe tbody tr th:only-of-type {\n",
       "        vertical-align: middle;\n",
       "    }\n",
       "\n",
       "    .dataframe tbody tr th {\n",
       "        vertical-align: top;\n",
       "    }\n",
       "\n",
       "    .dataframe thead th {\n",
       "        text-align: right;\n",
       "    }\n",
       "</style>\n",
       "<table border=\"1\" class=\"dataframe\">\n",
       "  <thead>\n",
       "    <tr style=\"text-align: right;\">\n",
       "      <th></th>\n",
       "      <th>reviewId</th>\n",
       "      <th>category</th>\n",
       "      <th>rating</th>\n",
       "      <th>title</th>\n",
       "      <th>review_text</th>\n",
       "      <th>class</th>\n",
       "      <th>asin</th>\n",
       "      <th>corpus_list</th>\n",
       "    </tr>\n",
       "  </thead>\n",
       "  <tbody>\n",
       "    <tr>\n",
       "      <th>0</th>\n",
       "      <td>shng0</td>\n",
       "      <td>Others</td>\n",
       "      <td>5</td>\n",
       "      <td>Excellent Product</td>\n",
       "      <td>First of all I have 3 60LB dogs whom are welco...</td>\n",
       "      <td>1</td>\n",
       "      <td>NaN</td>\n",
       "      <td>[First, of, LB, dog, welcome, bed, older, jump...</td>\n",
       "    </tr>\n",
       "    <tr>\n",
       "      <th>1</th>\n",
       "      <td>shng0</td>\n",
       "      <td>Others</td>\n",
       "      <td>5</td>\n",
       "      <td>Excellent Product</td>\n",
       "      <td>First of all I have 3 60LB dogs whom are welco...</td>\n",
       "      <td>5</td>\n",
       "      <td>NaN</td>\n",
       "      <td>[First, of, LB, dog, welcome, bed, older, jump...</td>\n",
       "    </tr>\n",
       "    <tr>\n",
       "      <th>2</th>\n",
       "      <td>shng2</td>\n",
       "      <td>Others</td>\n",
       "      <td>5</td>\n",
       "      <td>Worth the price to save your back!</td>\n",
       "      <td>These stairs are the reason my dog can sleep w...</td>\n",
       "      <td>1</td>\n",
       "      <td>NaN</td>\n",
       "      <td>[stairs, reason, dog, sleep, again, help, up, ...</td>\n",
       "    </tr>\n",
       "    <tr>\n",
       "      <th>3</th>\n",
       "      <td>shng2</td>\n",
       "      <td>Others</td>\n",
       "      <td>5</td>\n",
       "      <td>Worth the price to save your back!</td>\n",
       "      <td>These stairs are the reason my dog can sleep w...</td>\n",
       "      <td>5</td>\n",
       "      <td>NaN</td>\n",
       "      <td>[stairs, reason, dog, sleep, again, help, up, ...</td>\n",
       "    </tr>\n",
       "    <tr>\n",
       "      <th>4</th>\n",
       "      <td>shng4</td>\n",
       "      <td>Others</td>\n",
       "      <td>5</td>\n",
       "      <td>Excellent Quality and Price</td>\n",
       "      <td>My chihuahua really loves these steps. He has ...</td>\n",
       "      <td>2</td>\n",
       "      <td>NaN</td>\n",
       "      <td>[chihuahua, really, love, step, neck, problem,...</td>\n",
       "    </tr>\n",
       "  </tbody>\n",
       "</table>\n",
       "</div>"
      ],
      "text/plain": [
       "  reviewId category  rating                               title  \\\n",
       "0    shng0   Others       5                   Excellent Product   \n",
       "1    shng0   Others       5                   Excellent Product   \n",
       "2    shng2   Others       5  Worth the price to save your back!   \n",
       "3    shng2   Others       5  Worth the price to save your back!   \n",
       "4    shng4   Others       5         Excellent Quality and Price   \n",
       "\n",
       "                                         review_text  class asin  \\\n",
       "0  First of all I have 3 60LB dogs whom are welco...      1  NaN   \n",
       "1  First of all I have 3 60LB dogs whom are welco...      5  NaN   \n",
       "2  These stairs are the reason my dog can sleep w...      1  NaN   \n",
       "3  These stairs are the reason my dog can sleep w...      5  NaN   \n",
       "4  My chihuahua really loves these steps. He has ...      2  NaN   \n",
       "\n",
       "                                         corpus_list  \n",
       "0  [First, of, LB, dog, welcome, bed, older, jump...  \n",
       "1  [First, of, LB, dog, welcome, bed, older, jump...  \n",
       "2  [stairs, reason, dog, sleep, again, help, up, ...  \n",
       "3  [stairs, reason, dog, sleep, again, help, up, ...  \n",
       "4  [chihuahua, really, love, step, neck, problem,...  "
      ]
     },
     "execution_count": 248,
     "metadata": {},
     "output_type": "execute_result"
    }
   ],
   "source": [
    "all_df_cls.head()"
   ]
  },
  {
   "cell_type": "markdown",
   "id": "cb689eda-9d18-4cfc-b9d1-1f1f24218305",
   "metadata": {},
   "source": [
    "### Set Feature&Target"
   ]
  },
  {
   "cell_type": "code",
   "execution_count": 269,
   "id": "434543a5-1a37-4480-8e8d-d946ce6c9181",
   "metadata": {
    "execution": {
     "iopub.execute_input": "2021-06-30T11:17:45.847867Z",
     "iopub.status.busy": "2021-06-30T11:17:45.847481Z",
     "iopub.status.idle": "2021-06-30T11:17:45.852811Z",
     "shell.execute_reply": "2021-06-30T11:17:45.851811Z",
     "shell.execute_reply.started": "2021-06-30T11:17:45.847823Z"
    },
    "tags": []
   },
   "outputs": [],
   "source": [
    "# 종속변수\n",
    "tmp_x = all_df_cls['corpus_list']\n",
    "\n",
    "# 독립변수\n",
    "tmp_y = all_df_cls['class']"
   ]
  },
  {
   "cell_type": "markdown",
   "id": "09bf52d6-29d4-48a6-9726-f994e22b6a6f",
   "metadata": {},
   "source": [
    "### Train/Test Split"
   ]
  },
  {
   "cell_type": "code",
   "execution_count": 270,
   "id": "905a4f8c-8046-4948-8ba2-205ca7e0d7f3",
   "metadata": {
    "execution": {
     "iopub.execute_input": "2021-06-30T11:17:46.151598Z",
     "iopub.status.busy": "2021-06-30T11:17:46.151238Z",
     "iopub.status.idle": "2021-06-30T11:17:46.278436Z",
     "shell.execute_reply": "2021-06-30T11:17:46.277795Z",
     "shell.execute_reply.started": "2021-06-30T11:17:46.151562Z"
    },
    "tags": []
   },
   "outputs": [
    {
     "name": "stdout",
     "output_type": "stream",
     "text": [
      "4817\n",
      "4052\n"
     ]
    }
   ],
   "source": [
    "tokenizer = Tokenizer()\n",
    "tokenizer.fit_on_texts(tmp_x)\n",
    "sequences = tokenizer.texts_to_sequences(tmp_x)\n",
    "print(len(tokenizer.word_counts))\n",
    "\n",
    "count = 0\n",
    "for word, word_count in tokenizer.word_counts.items():\n",
    "    if word_count > 1:\n",
    "        count += 1\n",
    "print(count)"
   ]
  },
  {
   "cell_type": "code",
   "execution_count": 271,
   "id": "27fda99a-3cc1-46ce-9da7-9f0b15253011",
   "metadata": {
    "execution": {
     "iopub.execute_input": "2021-06-30T11:17:46.307328Z",
     "iopub.status.busy": "2021-06-30T11:17:46.307097Z",
     "iopub.status.idle": "2021-06-30T11:17:46.455603Z",
     "shell.execute_reply": "2021-06-30T11:17:46.454747Z",
     "shell.execute_reply.started": "2021-06-30T11:17:46.307306Z"
    },
    "tags": []
   },
   "outputs": [
    {
     "name": "stdout",
     "output_type": "stream",
     "text": [
      "4818\n",
      "(2399, 1000)\n",
      "(2399, 11)\n",
      "(600, 1000)\n",
      "(600, 11)\n"
     ]
    }
   ],
   "source": [
    "vocab_size = len(tokenizer.word_index) + 1\n",
    "\n",
    "tokenizer = Tokenizer(vocab_size)\n",
    "tokenizer.fit_on_texts(tmp_x)\n",
    "sequences = tokenizer.texts_to_sequences(tmp_x)\n",
    "\n",
    "# vocab_size = len(tokenizer.word_index) + 1\n",
    "# vocab_size = 1000\n",
    "print(vocab_size)\n",
    "\n",
    "# train-test split\n",
    "max_len = 1000\n",
    "tmp_x = pad_sequences(sequences, maxlen=max_len)\n",
    "x_train, x_test, y_train, y_test = train_test_split(tmp_x, tmp_y, test_size=0.2)\n",
    "x_train = np.array(x_train)\n",
    "x_test = np.array(x_test)\n",
    "y_train = tf.keras.utils.to_categorical(y_train)\n",
    "y_test = tf.keras.utils.to_categorical(y_test)\n",
    "\n",
    "print(x_train.shape)\n",
    "print(y_train.shape)\n",
    "print(x_test.shape)\n",
    "print(y_test.shape)"
   ]
  },
  {
   "cell_type": "markdown",
   "id": "126377ba-e1e4-41bb-ad03-075587c511fa",
   "metadata": {},
   "source": [
    "### RNN"
   ]
  },
  {
   "cell_type": "code",
   "execution_count": 272,
   "id": "760fff52-f89e-4937-8ed9-a174d8231de2",
   "metadata": {
    "execution": {
     "iopub.execute_input": "2021-06-30T11:17:47.436151Z",
     "iopub.status.busy": "2021-06-30T11:17:47.435857Z",
     "iopub.status.idle": "2021-06-30T11:18:56.448817Z",
     "shell.execute_reply": "2021-06-30T11:18:56.447765Z",
     "shell.execute_reply.started": "2021-06-30T11:17:47.436111Z"
    },
    "scrolled": true,
    "tags": []
   },
   "outputs": [
    {
     "name": "stdout",
     "output_type": "stream",
     "text": [
      "WARNING:tensorflow:Please add `keras.layers.InputLayer` instead of `keras.Input` to Sequential model. `keras.Input` is intended to be used by Functional model.\n",
      "Model: \"sequential_5\"\n",
      "_________________________________________________________________\n",
      "Layer (type)                 Output Shape              Param #   \n",
      "=================================================================\n",
      "embedding_5 (Embedding)      (None, 1000, 32)          154176    \n",
      "_________________________________________________________________\n",
      "simple_rnn_2 (SimpleRNN)     (None, 32)                2080      \n",
      "_________________________________________________________________\n",
      "dense_5 (Dense)              (None, 11)                363       \n",
      "=================================================================\n",
      "Total params: 156,619\n",
      "Trainable params: 156,619\n",
      "Non-trainable params: 0\n",
      "_________________________________________________________________\n",
      "None\n",
      "Epoch 1/100\n",
      "30/30 [==============================] - 11s 331ms/step - loss: 2.3285 - acc: 0.1209 - val_loss: 2.2078 - val_acc: 0.1833\n",
      "Epoch 2/100\n",
      "30/30 [==============================] - 10s 325ms/step - loss: 2.1362 - acc: 0.2220 - val_loss: 2.1467 - val_acc: 0.1833\n",
      "Epoch 3/100\n",
      "30/30 [==============================] - 10s 318ms/step - loss: 2.0639 - acc: 0.3075 - val_loss: 2.2057 - val_acc: 0.1562\n",
      "Epoch 4/100\n",
      "30/30 [==============================] - 10s 322ms/step - loss: 2.0307 - acc: 0.2804 - val_loss: 2.1662 - val_acc: 0.1646\n",
      "Epoch 5/100\n",
      "30/30 [==============================] - 10s 324ms/step - loss: 1.8860 - acc: 0.3622 - val_loss: 2.2369 - val_acc: 0.1354\n",
      "Epoch 6/100\n",
      "30/30 [==============================] - 10s 327ms/step - loss: 1.7363 - acc: 0.4263 - val_loss: 2.2989 - val_acc: 0.1271\n",
      "Epoch 7/100\n",
      "30/30 [==============================] - 10s 326ms/step - loss: 1.5919 - acc: 0.4904 - val_loss: 2.4194 - val_acc: 0.1125\n",
      "Epoch 00007: early stopping\n"
     ]
    }
   ],
   "source": [
    "model = Sequential()\n",
    "\n",
    "model.add(Input(shape=(max_len,)))\n",
    "model.add(Embedding(vocab_size, 32)) # Embedding Vector's dimension\n",
    "model.add(SimpleRNN(32)) # RNN hidden_size\n",
    "model.add(Dense(class_cnt, activation='softmax'))\n",
    "\n",
    "# ealry stop condition\n",
    "es = EarlyStopping(monitor='val_loss', mode='min', verbose=1, patience=5)\n",
    "\n",
    "model.compile(optimizer='adam', loss='categorical_crossentropy', metrics=['acc'])\n",
    "print(model.summary())\n",
    "history = model.fit(x_train, y_train, epochs=100, callbacks=[es], batch_size=64, validation_split=0.2)"
   ]
  },
  {
   "cell_type": "code",
   "execution_count": 273,
   "id": "182cbe9b-3f68-42ae-81c6-9c04b0dd33d4",
   "metadata": {
    "execution": {
     "iopub.execute_input": "2021-06-30T11:18:56.450659Z",
     "iopub.status.busy": "2021-06-30T11:18:56.450360Z",
     "iopub.status.idle": "2021-06-30T11:18:57.829179Z",
     "shell.execute_reply": "2021-06-30T11:18:57.827549Z",
     "shell.execute_reply.started": "2021-06-30T11:18:56.450627Z"
    },
    "tags": []
   },
   "outputs": [
    {
     "name": "stdout",
     "output_type": "stream",
     "text": [
      "=====================\n",
      "19/19 [==============================] - 1s 49ms/step - loss: 2.4665 - acc: 0.1033\n"
     ]
    },
    {
     "data": {
      "image/png": "[encoded data removed]",
      "text/plain": [
       "<Figure size 1080x720 with 2 Axes>"
      ]
     },
     "metadata": {
      "needs_background": "light"
     },
     "output_type": "display_data"
    }
   ],
   "source": [
    "# fig = plt.figure(figsize=(15, 6)) \n",
    "fig, loss_ax = plt.subplots(figsize=(15, 10))\n",
    "acc_ax = loss_ax.twinx()\n",
    "plt.ylim(0, 1)\n",
    "\n",
    "loss_ax.plot(history.history['loss'], 'y', label='train loss')\n",
    "loss_ax.plot(history.history['val_loss'], 'r', label='val loss')\n",
    "loss_ax.set_xlabel('epoch')\n",
    "loss_ax.set_ylabel('loss')\n",
    "loss_ax.legend(loc='upper left')\n",
    "\n",
    "acc_ax.plot(history.history['acc'], 'b', label='train acc')\n",
    "acc_ax.plot(history.history['val_acc'], 'g', label='val acc')\n",
    "acc_ax.set_ylabel('accuray')\n",
    "acc_ax.legend(loc='lower left')\n",
    "\n",
    "# Score\n",
    "print(\"=====================\")\n",
    "score = model.evaluate(x_test, y_test)\n",
    "# print (\"Test Loss = \" + str(score[0]))\n",
    "# print (\"Test Accuracy = \" + str(score[1]))\n",
    "\n",
    "plt.show()"
   ]
  },
  {
   "cell_type": "markdown",
   "id": "5eaa979b-3117-4f76-aa3d-3a97030e7efd",
   "metadata": {},
   "source": [
    "### LSTM"
   ]
  },
  {
   "cell_type": "code",
   "execution_count": 260,
   "id": "95d1e1ff-9059-49ce-b547-ba45addc03b1",
   "metadata": {
    "execution": {
     "iopub.execute_input": "2021-06-30T11:06:34.788708Z",
     "iopub.status.busy": "2021-06-30T11:06:34.788424Z",
     "iopub.status.idle": "2021-06-30T11:06:34.814195Z",
     "shell.execute_reply": "2021-06-30T11:06:34.813263Z",
     "shell.execute_reply.started": "2021-06-30T11:06:34.788681Z"
    },
    "tags": []
   },
   "outputs": [],
   "source": [
    "max_len = 1000\n",
    "x_train = pad_sequences(x_train, maxlen=max_len)\n",
    "x_test = pad_sequences(x_test, maxlen=max_len)"
   ]
  },
  {
   "cell_type": "code",
   "execution_count": 261,
   "id": "89958689-cfb3-4717-942c-9fb9ded54785",
   "metadata": {
    "execution": {
     "iopub.execute_input": "2021-06-30T11:06:35.197795Z",
     "iopub.status.busy": "2021-06-30T11:06:35.197060Z",
     "iopub.status.idle": "2021-06-30T11:16:24.148171Z",
     "shell.execute_reply": "2021-06-30T11:16:24.147428Z",
     "shell.execute_reply.started": "2021-06-30T11:06:35.197637Z"
    },
    "scrolled": true,
    "tags": []
   },
   "outputs": [
    {
     "name": "stdout",
     "output_type": "stream",
     "text": [
      "Model: \"sequential_4\"\n",
      "_________________________________________________________________\n",
      "Layer (type)                 Output Shape              Param #   \n",
      "=================================================================\n",
      "embedding_4 (Embedding)      (None, None, 32)          154176    \n",
      "_________________________________________________________________\n",
      "spatial_dropout1d_2 (Spatial (None, None, 32)          0         \n",
      "_________________________________________________________________\n",
      "lstm_3 (LSTM)                (None, 64)                24832     \n",
      "_________________________________________________________________\n",
      "dense_4 (Dense)              (None, 11)                715       \n",
      "=================================================================\n",
      "Total params: 179,723\n",
      "Trainable params: 179,723\n",
      "Non-trainable params: 0\n",
      "_________________________________________________________________\n",
      "None\n",
      "Epoch 1/20\n",
      "30/30 [==============================] - 39s 1s/step - loss: 2.2672 - accuracy: 0.1985 - val_loss: 2.1633 - val_accuracy: 0.2104\n",
      "Epoch 2/20\n",
      "30/30 [==============================] - 37s 1s/step - loss: 2.0520 - accuracy: 0.2470 - val_loss: 2.0671 - val_accuracy: 0.2146\n",
      "Epoch 3/20\n",
      "30/30 [==============================] - 37s 1s/step - loss: 1.9702 - accuracy: 0.2678 - val_loss: 2.0210 - val_accuracy: 0.2708\n",
      "Epoch 4/20\n",
      "30/30 [==============================] - 36s 1s/step - loss: 1.9266 - accuracy: 0.2798 - val_loss: 2.0116 - val_accuracy: 0.2417\n",
      "Epoch 5/20\n",
      "30/30 [==============================] - 37s 1s/step - loss: 1.8731 - accuracy: 0.3121 - val_loss: 1.9931 - val_accuracy: 0.3292\n",
      "Epoch 6/20\n",
      "30/30 [==============================] - 37s 1s/step - loss: 1.8004 - accuracy: 0.3517 - val_loss: 1.9618 - val_accuracy: 0.2979\n",
      "Epoch 7/20\n",
      "30/30 [==============================] - 37s 1s/step - loss: 1.7259 - accuracy: 0.3820 - val_loss: 1.9723 - val_accuracy: 0.3000\n",
      "Epoch 8/20\n",
      "30/30 [==============================] - 37s 1s/step - loss: 1.6665 - accuracy: 0.4122 - val_loss: 2.0232 - val_accuracy: 0.2729\n",
      "Epoch 9/20\n",
      "30/30 [==============================] - 36s 1s/step - loss: 1.6116 - accuracy: 0.4252 - val_loss: 2.0841 - val_accuracy: 0.2812\n",
      "Epoch 10/20\n",
      "30/30 [==============================] - 36s 1s/step - loss: 1.5496 - accuracy: 0.4560 - val_loss: 2.0914 - val_accuracy: 0.2688\n",
      "Epoch 11/20\n",
      "30/30 [==============================] - 37s 1s/step - loss: 1.4859 - accuracy: 0.4784 - val_loss: 2.1676 - val_accuracy: 0.2792\n",
      "Epoch 12/20\n",
      "30/30 [==============================] - 37s 1s/step - loss: 1.4434 - accuracy: 0.4945 - val_loss: 2.1886 - val_accuracy: 0.2458\n",
      "Epoch 13/20\n",
      "30/30 [==============================] - 37s 1s/step - loss: 1.3948 - accuracy: 0.4982 - val_loss: 2.2011 - val_accuracy: 0.2417\n",
      "Epoch 14/20\n",
      "30/30 [==============================] - 36s 1s/step - loss: 1.3449 - accuracy: 0.5133 - val_loss: 2.3099 - val_accuracy: 0.2250\n",
      "Epoch 15/20\n",
      "30/30 [==============================] - 36s 1s/step - loss: 1.2954 - accuracy: 0.5237 - val_loss: 2.3873 - val_accuracy: 0.2208\n",
      "Epoch 16/20\n",
      "30/30 [==============================] - 37s 1s/step - loss: 1.2459 - accuracy: 0.5461 - val_loss: 2.5464 - val_accuracy: 0.2292\n",
      "Epoch 00016: early stopping\n"
     ]
    }
   ],
   "source": [
    "model2 = Sequential()\n",
    "\n",
    "model2.add(Embedding(vocab_size, 32)) # Embedding Vector's dimension\n",
    "model2.add(SpatialDropout1D(0.1))\n",
    "model2.add(LSTM(64, dropout=0.2, recurrent_dropout=0.1))\n",
    "model2.add(Dense(class_cnt, activation='softmax'))\n",
    "\n",
    "# ealry stop condition\n",
    "es = EarlyStopping(monitor='val_loss', mode='min', verbose=1, patience=5)\n",
    "\n",
    "model2.compile(loss='categorical_crossentropy', optimizer='adam', metrics=['accuracy'])\n",
    "print(model2.summary())\n",
    "\n",
    "history2 = model2.fit(x_train, y_train, epochs=20, callbacks=[es], batch_size=64, validation_split=0.2)"
   ]
  },
  {
   "cell_type": "code",
   "execution_count": 262,
   "id": "e483650e-4c79-4a3b-b9c2-fa56983f71c7",
   "metadata": {
    "execution": {
     "iopub.execute_input": "2021-06-30T11:16:24.150244Z",
     "iopub.status.busy": "2021-06-30T11:16:24.150003Z",
     "iopub.status.idle": "2021-06-30T11:17:02.301421Z",
     "shell.execute_reply": "2021-06-30T11:17:02.300850Z",
     "shell.execute_reply.started": "2021-06-30T11:16:24.150209Z"
    },
    "tags": []
   },
   "outputs": [
    {
     "name": "stdout",
     "output_type": "stream",
     "text": [
      "=====================\n",
      "19/19 [==============================] - 2s 118ms/step - loss: 2.5755 - accuracy: 0.2000\n",
      "Test Loss = 2.575528860092163\n",
      "Test Accuracy = 0.20000000298023224\n"
     ]
    },
    {
     "data": {
      "image/png": "[encoded data removed]",
      "text/plain": [
       "<Figure size 1080x720 with 2 Axes>"
      ]
     },
     "metadata": {
      "needs_background": "light"
     },
     "output_type": "display_data"
    }
   ],
   "source": [
    "# fig = plt.figure(figsize=(15, 6)) \n",
    "fig, loss_ax = plt.subplots(figsize=(15, 10))\n",
    "acc_ax = loss_ax.twinx()\n",
    "plt.ylim(0, 1)\n",
    "\n",
    "loss_ax.plot(history2.history['loss'], 'y', label='train loss')\n",
    "loss_ax.plot(history2.history['val_loss'], 'r', label='val loss')\n",
    "\n",
    "acc_ax.plot(history2.history['accuracy'], 'b', label='train acc')\n",
    "acc_ax.plot(history2.history['val_accuracy'], 'g', label='val acc')\n",
    "\n",
    "loss_ax.set_xlabel('epoch')\n",
    "loss_ax.set_ylabel('loss')\n",
    "loss_ax.legend(loc='upper left')\n",
    "acc_ax.set_ylabel('accuray')\n",
    "acc_ax.legend(loc='lower left')\n",
    "\n",
    "# Score\n",
    "print(\"=====================\")\n",
    "score = model2.evaluate(x_test, y_test)\n",
    "print (\"Test Loss = \" + str(score[0]))\n",
    "print (\"Test Accuracy = \" + str(score[1]))\n",
    "\n",
    "plt.show()"
   ]
  },
  {
   "cell_type": "markdown",
   "id": "16abe6c6-caf1-4aed-bc61-40a86ecbed0e",
   "metadata": {},
   "source": [
    "<br>\n",
    "====================================================================================\n",
    "<br>"
   ]
  },
  {
   "cell_type": "markdown",
   "id": "fae50437-87d5-4395-a85b-f48bb4fe5170",
   "metadata": {},
   "source": [
    "# Validation"
   ]
  },
  {
   "cell_type": "markdown",
   "id": "beedb95e-d71c-428e-b791-e2401115ea7e",
   "metadata": {},
   "source": [
    "## Multi-Class"
   ]
  },
  {
   "cell_type": "code",
   "execution_count": 274,
   "id": "aacc5901-28cf-45d8-aa2a-5101c3bd377a",
   "metadata": {
    "execution": {
     "iopub.execute_input": "2021-06-30T11:18:57.832562Z",
     "iopub.status.busy": "2021-06-30T11:18:57.832319Z",
     "iopub.status.idle": "2021-06-30T11:18:57.952249Z",
     "shell.execute_reply": "2021-06-30T11:18:57.950921Z",
     "shell.execute_reply.started": "2021-06-30T11:18:57.832540Z"
    },
    "tags": []
   },
   "outputs": [],
   "source": [
    "# Load Data\n",
    "test_df = all_df_cls.copy()\n",
    "\n",
    "# Tokenizing Data\n",
    "test_all_rvw = test_df['corpus_list']\n",
    "\n",
    "# tokenizer.fit_on_texts(test_all_rvw)\n",
    "test_all_rvw = tokenizer.texts_to_sequences(test_all_rvw)\n",
    "test_all_rvw = pad_sequences(sequences, maxlen=max_len)"
   ]
  },
  {
   "cell_type": "markdown",
   "id": "b55fba23-4457-4a90-98fa-362eb6f52d33",
   "metadata": {},
   "source": [
    "### RNN"
   ]
  },
  {
   "cell_type": "code",
   "execution_count": 275,
   "id": "cdda06c7-9a70-44d4-b31c-aa7d6911019f",
   "metadata": {
    "execution": {
     "iopub.execute_input": "2021-06-30T11:18:57.954346Z",
     "iopub.status.busy": "2021-06-30T11:18:57.954061Z",
     "iopub.status.idle": "2021-06-30T11:19:02.683321Z",
     "shell.execute_reply": "2021-06-30T11:19:02.682608Z",
     "shell.execute_reply.started": "2021-06-30T11:18:57.954318Z"
    },
    "tags": []
   },
   "outputs": [],
   "source": [
    "# predict\n",
    "test_all_pred = model.predict(test_all_rvw)\n",
    "# test_pred_class = 1*(test_all_pred > 0.5)\n",
    "test_pred_df = [ x.argmax() for x in test_all_pred ]\n",
    "test_pred_df = pd.DataFrame(test_pred_df, columns=['pred_class'])\n",
    "\n",
    "# set DF\n",
    "rs_mtl_cls_rnn = pd.concat([test_df, test_pred_df], axis=1)"
   ]
  },
  {
   "cell_type": "code",
   "execution_count": 276,
   "id": "247f7098-3aa8-48cd-8f2d-a42adc58fc5d",
   "metadata": {
    "execution": {
     "iopub.execute_input": "2021-06-30T11:19:02.684715Z",
     "iopub.status.busy": "2021-06-30T11:19:02.684499Z",
     "iopub.status.idle": "2021-06-30T11:19:02.719696Z",
     "shell.execute_reply": "2021-06-30T11:19:02.719033Z",
     "shell.execute_reply.started": "2021-06-30T11:19:02.684693Z"
    },
    "tags": []
   },
   "outputs": [
    {
     "name": "stdout",
     "output_type": "stream",
     "text": [
      "0 : 0.37 \t 112/300\n",
      "1 : 0.15 \t 30/200\n",
      "2 : 0.18 \t 36/201\n",
      "3 : 0.31 \t 181/580\n",
      "4 : 0.17 \t 30/176\n",
      "5 : 0.67 \t 402/602\n",
      "6 : 0.06 \t 1/16\n",
      "7 : 0.16 \t 5/31\n",
      "8 : 0.13 \t 28/222\n",
      "9 : 0.07 \t 13/188\n",
      "10 : 0.66 \t 318/483\n"
     ]
    }
   ],
   "source": [
    "# caculate accuracy\n",
    "for i in range(class_cnt) : \n",
    "    a = len(rs_mtl_cls_rnn[rs_mtl_cls_rnn['class']==i])\n",
    "    b = len(rs_mtl_cls_rnn[(rs_mtl_cls_rnn['class']==i) & (rs_mtl_cls_rnn['pred_class']==i)])\n",
    "    print(\"{} : {:.2f} \\t {}/{}\".format(i, b/a, b, a))"
   ]
  },
  {
   "cell_type": "code",
   "execution_count": 277,
   "id": "2a39640c-3f8d-4c7d-98c3-5b12dccaea4b",
   "metadata": {
    "execution": {
     "iopub.execute_input": "2021-06-30T11:19:02.720873Z",
     "iopub.status.busy": "2021-06-30T11:19:02.720681Z",
     "iopub.status.idle": "2021-06-30T11:19:02.729173Z",
     "shell.execute_reply": "2021-06-30T11:19:02.728580Z",
     "shell.execute_reply.started": "2021-06-30T11:19:02.720851Z"
    },
    "tags": []
   },
   "outputs": [
    {
     "data": {
      "text/plain": [
       "0.38546182060686895"
      ]
     },
     "execution_count": 277,
     "metadata": {},
     "output_type": "execute_result"
    }
   ],
   "source": [
    "y_true = rs_mtl_cls_rnn['class'].tolist()\n",
    "y_pred = rs_mtl_cls_rnn['pred_class'].tolist()\n",
    "accuracy_score(y_true, y_pred)"
   ]
  },
  {
   "cell_type": "code",
   "execution_count": 278,
   "id": "797a2361-475c-48eb-acc7-c0172926eb8b",
   "metadata": {
    "collapsed": true,
    "execution": {
     "iopub.execute_input": "2021-06-30T11:19:02.730316Z",
     "iopub.status.busy": "2021-06-30T11:19:02.730167Z",
     "iopub.status.idle": "2021-06-30T11:19:02.773178Z",
     "shell.execute_reply": "2021-06-30T11:19:02.771386Z",
     "shell.execute_reply.started": "2021-06-30T11:19:02.730300Z"
    },
    "jupyter": {
     "outputs_hidden": true
    },
    "tags": []
   },
   "outputs": [
    {
     "ename": "ValueError",
     "evalue": "Found input variables with inconsistent numbers of samples: [2999, 2399]",
     "output_type": "error",
     "traceback": [
      "\u001b[0;31m---------------------------------------------------------------------------\u001b[0m",
      "\u001b[0;31mValueError\u001b[0m                                Traceback (most recent call last)",
      "\u001b[0;32m<ipython-input-278-8683a8ac096d>\u001b[0m in \u001b[0;36m<module>\u001b[0;34m\u001b[0m\n\u001b[1;32m      1\u001b[0m \u001b[0;31m# confusion matrix\u001b[0m\u001b[0;34m\u001b[0m\u001b[0;34m\u001b[0m\u001b[0;34m\u001b[0m\u001b[0m\n\u001b[1;32m      2\u001b[0m \u001b[0mconfusion_mtx\u001b[0m \u001b[0;34m=\u001b[0m \u001b[0mconfusion_matrix\u001b[0m\u001b[0;34m(\u001b[0m\u001b[0my_true\u001b[0m\u001b[0;34m,\u001b[0m \u001b[0my_pred\u001b[0m\u001b[0;34m)\u001b[0m\u001b[0;34m\u001b[0m\u001b[0;34m\u001b[0m\u001b[0m\n\u001b[0;32m----> 3\u001b[0;31m \u001b[0mprint\u001b[0m\u001b[0;34m(\u001b[0m\u001b[0mclassification_report\u001b[0m\u001b[0;34m(\u001b[0m\u001b[0my_true\u001b[0m\u001b[0;34m,\u001b[0m \u001b[0my_pred_classes\u001b[0m\u001b[0;34m,\u001b[0m \u001b[0mdigits\u001b[0m\u001b[0;34m=\u001b[0m\u001b[0;36m3\u001b[0m\u001b[0;34m)\u001b[0m\u001b[0;34m)\u001b[0m\u001b[0;34m\u001b[0m\u001b[0;34m\u001b[0m\u001b[0m\n\u001b[0m\u001b[1;32m      4\u001b[0m \u001b[0;31m# plot the confusion matrix\u001b[0m\u001b[0;34m\u001b[0m\u001b[0;34m\u001b[0m\u001b[0;34m\u001b[0m\u001b[0m\n\u001b[1;32m      5\u001b[0m \u001b[0mplot_confusion_matrix\u001b[0m\u001b[0;34m(\u001b[0m\u001b[0mconfusion_mtx\u001b[0m\u001b[0;34m,\u001b[0m \u001b[0mclasses\u001b[0m \u001b[0;34m=\u001b[0m \u001b[0mrange\u001b[0m\u001b[0;34m(\u001b[0m\u001b[0mclass_cnt\u001b[0m\u001b[0;34m)\u001b[0m\u001b[0;34m)\u001b[0m\u001b[0;34m\u001b[0m\u001b[0;34m\u001b[0m\u001b[0m\n",
      "\u001b[0;32m/opt/jupyterhub/lib/python3.8/site-packages/sklearn/utils/validation.py\u001b[0m in \u001b[0;36minner_f\u001b[0;34m(*args, **kwargs)\u001b[0m\n\u001b[1;32m     61\u001b[0m             \u001b[0mextra_args\u001b[0m \u001b[0;34m=\u001b[0m \u001b[0mlen\u001b[0m\u001b[0;34m(\u001b[0m\u001b[0margs\u001b[0m\u001b[0;34m)\u001b[0m \u001b[0;34m-\u001b[0m \u001b[0mlen\u001b[0m\u001b[0;34m(\u001b[0m\u001b[0mall_args\u001b[0m\u001b[0;34m)\u001b[0m\u001b[0;34m\u001b[0m\u001b[0;34m\u001b[0m\u001b[0m\n\u001b[1;32m     62\u001b[0m             \u001b[0;32mif\u001b[0m \u001b[0mextra_args\u001b[0m \u001b[0;34m<=\u001b[0m \u001b[0;36m0\u001b[0m\u001b[0;34m:\u001b[0m\u001b[0;34m\u001b[0m\u001b[0;34m\u001b[0m\u001b[0m\n\u001b[0;32m---> 63\u001b[0;31m                 \u001b[0;32mreturn\u001b[0m \u001b[0mf\u001b[0m\u001b[0;34m(\u001b[0m\u001b[0;34m*\u001b[0m\u001b[0margs\u001b[0m\u001b[0;34m,\u001b[0m \u001b[0;34m**\u001b[0m\u001b[0mkwargs\u001b[0m\u001b[0;34m)\u001b[0m\u001b[0;34m\u001b[0m\u001b[0;34m\u001b[0m\u001b[0m\n\u001b[0m\u001b[1;32m     64\u001b[0m \u001b[0;34m\u001b[0m\u001b[0m\n\u001b[1;32m     65\u001b[0m             \u001b[0;31m# extra_args > 0\u001b[0m\u001b[0;34m\u001b[0m\u001b[0;34m\u001b[0m\u001b[0;34m\u001b[0m\u001b[0m\n",
      "\u001b[0;32m/opt/jupyterhub/lib/python3.8/site-packages/sklearn/metrics/_classification.py\u001b[0m in \u001b[0;36mclassification_report\u001b[0;34m(y_true, y_pred, labels, target_names, sample_weight, digits, output_dict, zero_division)\u001b[0m\n\u001b[1;32m   1964\u001b[0m     \"\"\"\n\u001b[1;32m   1965\u001b[0m \u001b[0;34m\u001b[0m\u001b[0m\n\u001b[0;32m-> 1966\u001b[0;31m     \u001b[0my_type\u001b[0m\u001b[0;34m,\u001b[0m \u001b[0my_true\u001b[0m\u001b[0;34m,\u001b[0m \u001b[0my_pred\u001b[0m \u001b[0;34m=\u001b[0m \u001b[0m_check_targets\u001b[0m\u001b[0;34m(\u001b[0m\u001b[0my_true\u001b[0m\u001b[0;34m,\u001b[0m \u001b[0my_pred\u001b[0m\u001b[0;34m)\u001b[0m\u001b[0;34m\u001b[0m\u001b[0;34m\u001b[0m\u001b[0m\n\u001b[0m\u001b[1;32m   1967\u001b[0m \u001b[0;34m\u001b[0m\u001b[0m\n\u001b[1;32m   1968\u001b[0m     \u001b[0;32mif\u001b[0m \u001b[0mlabels\u001b[0m \u001b[0;32mis\u001b[0m \u001b[0;32mNone\u001b[0m\u001b[0;34m:\u001b[0m\u001b[0;34m\u001b[0m\u001b[0;34m\u001b[0m\u001b[0m\n",
      "\u001b[0;32m/opt/jupyterhub/lib/python3.8/site-packages/sklearn/metrics/_classification.py\u001b[0m in \u001b[0;36m_check_targets\u001b[0;34m(y_true, y_pred)\u001b[0m\n\u001b[1;32m     81\u001b[0m     \u001b[0my_pred\u001b[0m \u001b[0;34m:\u001b[0m \u001b[0marray\u001b[0m \u001b[0;32mor\u001b[0m \u001b[0mindicator\u001b[0m \u001b[0mmatrix\u001b[0m\u001b[0;34m\u001b[0m\u001b[0;34m\u001b[0m\u001b[0m\n\u001b[1;32m     82\u001b[0m     \"\"\"\n\u001b[0;32m---> 83\u001b[0;31m     \u001b[0mcheck_consistent_length\u001b[0m\u001b[0;34m(\u001b[0m\u001b[0my_true\u001b[0m\u001b[0;34m,\u001b[0m \u001b[0my_pred\u001b[0m\u001b[0;34m)\u001b[0m\u001b[0;34m\u001b[0m\u001b[0;34m\u001b[0m\u001b[0m\n\u001b[0m\u001b[1;32m     84\u001b[0m     \u001b[0mtype_true\u001b[0m \u001b[0;34m=\u001b[0m \u001b[0mtype_of_target\u001b[0m\u001b[0;34m(\u001b[0m\u001b[0my_true\u001b[0m\u001b[0;34m)\u001b[0m\u001b[0;34m\u001b[0m\u001b[0;34m\u001b[0m\u001b[0m\n\u001b[1;32m     85\u001b[0m     \u001b[0mtype_pred\u001b[0m \u001b[0;34m=\u001b[0m \u001b[0mtype_of_target\u001b[0m\u001b[0;34m(\u001b[0m\u001b[0my_pred\u001b[0m\u001b[0;34m)\u001b[0m\u001b[0;34m\u001b[0m\u001b[0;34m\u001b[0m\u001b[0m\n",
      "\u001b[0;32m/opt/jupyterhub/lib/python3.8/site-packages/sklearn/utils/validation.py\u001b[0m in \u001b[0;36mcheck_consistent_length\u001b[0;34m(*arrays)\u001b[0m\n\u001b[1;32m    260\u001b[0m     \u001b[0muniques\u001b[0m \u001b[0;34m=\u001b[0m \u001b[0mnp\u001b[0m\u001b[0;34m.\u001b[0m\u001b[0munique\u001b[0m\u001b[0;34m(\u001b[0m\u001b[0mlengths\u001b[0m\u001b[0;34m)\u001b[0m\u001b[0;34m\u001b[0m\u001b[0;34m\u001b[0m\u001b[0m\n\u001b[1;32m    261\u001b[0m     \u001b[0;32mif\u001b[0m \u001b[0mlen\u001b[0m\u001b[0;34m(\u001b[0m\u001b[0muniques\u001b[0m\u001b[0;34m)\u001b[0m \u001b[0;34m>\u001b[0m \u001b[0;36m1\u001b[0m\u001b[0;34m:\u001b[0m\u001b[0;34m\u001b[0m\u001b[0;34m\u001b[0m\u001b[0m\n\u001b[0;32m--> 262\u001b[0;31m         raise ValueError(\"Found input variables with inconsistent numbers of\"\n\u001b[0m\u001b[1;32m    263\u001b[0m                          \" samples: %r\" % [int(l) for l in lengths])\n\u001b[1;32m    264\u001b[0m \u001b[0;34m\u001b[0m\u001b[0m\n",
      "\u001b[0;31mValueError\u001b[0m: Found input variables with inconsistent numbers of samples: [2999, 2399]"
     ]
    }
   ],
   "source": [
    "# confusion matrix\n",
    "confusion_mtx = confusion_matrix(y_true, y_pred)\n",
    "print(classification_report(y_true, y_pred_classes, digits=3))\n",
    "# plot the confusion matrix\n",
    "plot_confusion_matrix(confusion_mtx, classes = range(class_cnt))\n",
    "confusion_mtx"
   ]
  },
  {
   "cell_type": "markdown",
   "id": "e949df4b-9ba2-4ba3-bc59-8b7dec668d3a",
   "metadata": {
    "tags": []
   },
   "source": [
    "### LSTM"
   ]
  },
  {
   "cell_type": "code",
   "execution_count": 267,
   "id": "85f00b64-ff8c-4bd7-972a-00d66db87532",
   "metadata": {
    "execution": {
     "iopub.execute_input": "2021-06-30T11:17:21.816162Z",
     "iopub.status.busy": "2021-06-30T11:17:21.815758Z",
     "iopub.status.idle": "2021-06-30T11:17:32.195096Z",
     "shell.execute_reply": "2021-06-30T11:17:32.194260Z",
     "shell.execute_reply.started": "2021-06-30T11:17:21.816119Z"
    },
    "tags": []
   },
   "outputs": [],
   "source": [
    "# predict\n",
    "test_all_pred = model2.predict(test_all_rvw)\n",
    "# test_pred_class = 1*(test_all_pred > 0.5)\n",
    "test_pred_df = [ x.argmax() for x in test_all_pred ]\n",
    "test_pred_df = pd.DataFrame(test_pred_df, columns=['pred_class'])\n",
    "\n",
    "# set DF\n",
    "rs_mtl_cls_lstm = pd.concat([test_df, test_pred_df], axis=1)"
   ]
  },
  {
   "cell_type": "code",
   "execution_count": 265,
   "id": "fe7612c4-6259-4db8-bbad-3b32abfde38f",
   "metadata": {
    "execution": {
     "iopub.execute_input": "2021-06-30T11:17:13.946952Z",
     "iopub.status.busy": "2021-06-30T11:17:13.946780Z",
     "iopub.status.idle": "2021-06-30T11:17:13.966045Z",
     "shell.execute_reply": "2021-06-30T11:17:13.965478Z",
     "shell.execute_reply.started": "2021-06-30T11:17:13.946933Z"
    },
    "tags": []
   },
   "outputs": [
    {
     "name": "stdout",
     "output_type": "stream",
     "text": [
      "0 : 0.87 \t 260/300\n",
      "1 : 0.16 \t 32/200\n",
      "2 : 0.09 \t 19/201\n",
      "3 : 0.42 \t 241/580\n",
      "4 : 0.03 \t 6/176\n",
      "5 : 0.57 \t 345/602\n",
      "6 : 0.06 \t 1/16\n",
      "7 : 0.00 \t 0/31\n",
      "8 : 0.59 \t 130/222\n",
      "9 : 0.27 \t 50/188\n",
      "10 : 0.39 \t 188/483\n"
     ]
    }
   ],
   "source": [
    "# caculate accuracy\n",
    "for i in range(class_cnt) : \n",
    "    a = len(rs_mtl_cls_lstm[rs_mtl_cls_lstm['class']==i])\n",
    "    b = len(rs_mtl_cls_lstm[(rs_mtl_cls_lstm['class']==i) & (rs_mtl_cls_lstm['pred_class']==i)])\n",
    "    print(\"{} : {:.2f} \\t {}/{}\".format(i, b/a, b, a))"
   ]
  },
  {
   "cell_type": "code",
   "execution_count": 266,
   "id": "9c2623b7-9430-4488-b925-b1de197e7f86",
   "metadata": {
    "execution": {
     "iopub.execute_input": "2021-06-30T11:17:13.967070Z",
     "iopub.status.busy": "2021-06-30T11:17:13.966918Z",
     "iopub.status.idle": "2021-06-30T11:17:13.972059Z",
     "shell.execute_reply": "2021-06-30T11:17:13.971556Z",
     "shell.execute_reply.started": "2021-06-30T11:17:13.967052Z"
    },
    "tags": []
   },
   "outputs": [
    {
     "data": {
      "text/plain": [
       "0.42414138046015337"
      ]
     },
     "execution_count": 266,
     "metadata": {},
     "output_type": "execute_result"
    }
   ],
   "source": [
    "y_true = rs_mtl_cls_lstm['class'].tolist()\n",
    "y_pred = rs_mtl_cls_lstm['pred_class'].tolist()\n",
    "accuracy_score(y_true,y_pred)"
   ]
  },
  {
   "cell_type": "code",
   "execution_count": 268,
   "id": "c69c08a4-ae4d-4a7f-af46-9bf11c21c8da",
   "metadata": {
    "execution": {
     "iopub.execute_input": "2021-06-30T11:17:33.562105Z",
     "iopub.status.busy": "2021-06-30T11:17:33.561707Z",
     "iopub.status.idle": "2021-06-30T11:17:34.363417Z",
     "shell.execute_reply": "2021-06-30T11:17:34.362737Z",
     "shell.execute_reply.started": "2021-06-30T11:17:33.562063Z"
    },
    "tags": []
   },
   "outputs": [
    {
     "name": "stderr",
     "output_type": "stream",
     "text": [
      "/opt/jupyterhub/lib/python3.8/site-packages/sklearn/metrics/_classification.py:1245: UndefinedMetricWarning: Precision and F-score are ill-defined and being set to 0.0 in labels with no predicted samples. Use `zero_division` parameter to control this behavior.\n",
      "  _warn_prf(average, modifier, msg_start, len(result))\n",
      "/opt/jupyterhub/lib/python3.8/site-packages/sklearn/metrics/_classification.py:1245: UndefinedMetricWarning: Precision and F-score are ill-defined and being set to 0.0 in labels with no predicted samples. Use `zero_division` parameter to control this behavior.\n",
      "  _warn_prf(average, modifier, msg_start, len(result))\n",
      "/opt/jupyterhub/lib/python3.8/site-packages/sklearn/metrics/_classification.py:1245: UndefinedMetricWarning: Precision and F-score are ill-defined and being set to 0.0 in labels with no predicted samples. Use `zero_division` parameter to control this behavior.\n",
      "  _warn_prf(average, modifier, msg_start, len(result))\n"
     ]
    },
    {
     "name": "stdout",
     "output_type": "stream",
     "text": [
      "              precision    recall  f1-score   support\n",
      "\n",
      "           0      0.922     0.867     0.893       300\n",
      "           1      0.232     0.160     0.189       200\n",
      "           2      0.333     0.095     0.147       201\n",
      "           3      0.337     0.416     0.372       580\n",
      "           4      0.300     0.034     0.061       176\n",
      "           5      0.355     0.573     0.438       602\n",
      "           6      1.000     0.062     0.118        16\n",
      "           7      0.000     0.000     0.000        31\n",
      "           8      0.387     0.586     0.466       222\n",
      "           9      0.345     0.266     0.300       188\n",
      "          10      0.568     0.389     0.462       483\n",
      "\n",
      "    accuracy                          0.424      2999\n",
      "   macro avg      0.434     0.313     0.313      2999\n",
      "weighted avg      0.431     0.424     0.404      2999\n",
      "\n"
     ]
    },
    {
     "data": {
      "text/plain": [
       "array([[260,   0,   0,   3,   0,  16,   0,   0,  19,   1,   1],\n",
       "       [  1,  32,   2,  46,   1,  77,   0,   0,  15,  15,  11],\n",
       "       [  1,   3,  19,  25,   0, 110,   0,   0,  28,   5,  10],\n",
       "       [  2,  27,   6, 241,   2, 177,   0,   0,  42,  25,  58],\n",
       "       [  0,  17,   2,  70,   6,  45,   0,   0,   6,   8,  22],\n",
       "       [  4,  20,  17, 101,   2, 345,   0,   0,  65,  24,  24],\n",
       "       [  0,   0,   0,   4,   0,   5,   1,   0,   3,   3,   0],\n",
       "       [  0,   0,   5,   5,   0,  13,   0,   0,   3,   4,   1],\n",
       "       [  9,   2,   3,  27,   2,  46,   0,   0, 130,   1,   2],\n",
       "       [  0,  14,   3,  34,   2,  59,   0,   0,  12,  50,  14],\n",
       "       [  5,  23,   0, 160,   5,  80,   0,   0,  13,   9, 188]])"
      ]
     },
     "execution_count": 268,
     "metadata": {},
     "output_type": "execute_result"
    },
    {
     "data": {
      "image/png": "[encoded data removed]",
      "text/plain": [
       "<Figure size 720x720 with 2 Axes>"
      ]
     },
     "metadata": {
      "needs_background": "light"
     },
     "output_type": "display_data"
    }
   ],
   "source": [
    "# confusion matrix\n",
    "confusion_mtx = confusion_matrix(y_true, y_pred)\n",
    "print(classification_report(y_true, y_pred, digits=3))\n",
    "# plot the confusion matrix\n",
    "plot_confusion_matrix(confusion_mtx, classes = range(class_cnt))\n",
    "confusion_mtx"
   ]
  },
  {
   "cell_type": "markdown",
   "id": "274211dc-7be3-4d01-b992-2b6398307b26",
   "metadata": {},
   "source": [
    "<br>\n",
    "====================================================================================\n",
    "<br>"
   ]
  }
 ],
 "metadata": {
  "kernelspec": {
   "display_name": "Python 3",
   "language": "python",
   "name": "python3"
  },
  "language_info": {
   "codemirror_mode": {
    "name": "ipython",
    "version": 3
   },
   "file_extension": ".py",
   "mimetype": "text/x-python",
   "name": "python",
   "nbconvert_exporter": "python",
   "pygments_lexer": "ipython3",
   "version": "3.8.10"
  },
  "toc-autonumbering": true,
  "toc-showmarkdowntxt": false
 },
 "nbformat": 4,
 "nbformat_minor": 5
}
