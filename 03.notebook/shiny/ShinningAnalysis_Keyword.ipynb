{
 "cells": [
  {
   "cell_type": "markdown",
   "id": "a384a1f8-f911-4a5e-8703-e821144f436b",
   "metadata": {},
   "source": [
    "# Setting"
   ]
  },
  {
   "cell_type": "markdown",
   "id": "45fcbcfc-1cc5-4b46-a3e0-8bb7528ee065",
   "metadata": {},
   "source": [
    "## Environmental Setting"
   ]
  },
  {
   "cell_type": "code",
   "execution_count": 1,
   "id": "dede22ef-30a7-4a58-a088-efe88d71a187",
   "metadata": {
    "execution": {
     "iopub.execute_input": "2021-07-02T01:49:02.710454Z",
     "iopub.status.busy": "2021-07-02T01:49:02.710216Z",
     "iopub.status.idle": "2021-07-02T01:49:06.457912Z",
     "shell.execute_reply": "2021-07-02T01:49:06.457381Z",
     "shell.execute_reply.started": "2021-07-02T01:49:02.710398Z"
    },
    "tags": []
   },
   "outputs": [],
   "source": [
    "# Anal Env.\n",
    "import pandas as pd\n",
    "import numpy  as np\n",
    "import os\n",
    "import re\n",
    "import datetime\n",
    "import pytz\n",
    "import copy\n",
    "from collections import Counter\n",
    "from emoji       import UNICODE_EMOJI\n",
    "from functools   import reduce\n",
    "import operator\n",
    "import time\n",
    "\n",
    "\n",
    "import sys\n",
    "sys.path.append('/home/handeully/')\n",
    "# GCP Env.\n",
    "import bigquery_etl as bq\n",
    "\n",
    "\n",
    "# NLP Env.\n",
    "import nltk\n",
    "from nltk import FreqDist\n",
    "from nltk.corpus   import stopwords\n",
    "from nltk.tokenize import regexp_tokenize\n",
    "from nltk.stem     import WordNetLemmatizer,PorterStemmer,LancasterStemmer\n",
    "from nltk.corpus   import wordnet\n",
    "from nltk.corpus   import sentiwordnet as swn\n",
    "from nltk import sent_tokenize, word_tokenize, pos_tag\n",
    "\n",
    "\n",
    "# stop_words = stopwords.words('english')\n",
    "import spacy\n",
    "import gensim\n",
    "from gensim import corpora\n",
    "import ray\n",
    "import psutil\n",
    "from tqdm.notebook import tqdm\n",
    "\n",
    "\n",
    "#glove\n",
    "from glove import Corpus, Glove\n",
    "\n",
    "\n",
    "# Vis Env.\n",
    "import pyLDAvis\n",
    "import matplotlib.pyplot as plt\n",
    "import seaborn as sns\n",
    "%matplotlib inline\n",
    "\n",
    "\n",
    "# Coding Env.\n",
    "pd.set_option('display.max_columns', None)\n",
    "pd.set_option('display.max_rows', 1000)\n",
    "import warnings\n",
    "warnings.filterwarnings(\"ignore\", category=DeprecationWarning)\n",
    "\n",
    "\n",
    "# Multi-Core related... \n",
    "# #initialization ray\n",
    "# import ray\n",
    "# ray.init(ignore_reinit_error=True,num_cpus=5)\n",
    "\n",
    "import collections\n",
    "\n",
    "# Model Env.\n",
    "# model save\n",
    "import pickle\n",
    "import joblib\n",
    "# tensorflow\n",
    "import tensorflow as tf\n",
    "from tensorflow.keras.preprocessing.text import Tokenizer\n",
    "from tensorflow.keras.preprocessing.sequence import pad_sequences\n",
    "from tensorflow.keras.layers import * # SimpleRNN, Embedding, Dense\n",
    "from tensorflow.keras.models import Sequential\n",
    "# TF-IDF\n",
    "from sklearn.feature_extraction.text import TfidfVectorizer\n",
    "# SGD Classification\n",
    "from sklearn.linear_model import SGDClassifier\n",
    "# Train-Test Split\n",
    "from sklearn.model_selection import train_test_split\n",
    "from sklearn.naive_bayes import MultinomialNB\n",
    "from sklearn.metrics import accuracy_score, classification_report, confusion_matrix, multilabel_confusion_matrix, precision_score, recall_score, f1_score, roc_auc_score, roc_curve, auc, precision_recall_curve, mean_squared_error\n",
    "import itertools\n",
    "from sklearn.preprocessing import OneHotEncoder\n",
    "# Earliy-Stopping\n",
    "from keras.callbacks import EarlyStopping\n",
    "# modle-plot\n",
    "# from keras.utils import plot_model\n",
    "\n",
    "# confusion matrix visualization\n",
    "import matplotlib.font_manager as fm\n",
    "from matplotlib.collections import QuadMesh\n",
    "from sklearn.metrics import classification_report, plot_confusion_matrix,confusion_matrix,accuracy_score"
   ]
  },
  {
   "cell_type": "markdown",
   "id": "8b29208e-a5af-4b95-b34d-e4ae23d04159",
   "metadata": {},
   "source": [
    "## Define Function"
   ]
  },
  {
   "cell_type": "code",
   "execution_count": 2,
   "id": "c19ad07f-d0e9-4cf5-8714-8f4d1fee85b6",
   "metadata": {
    "execution": {
     "iopub.execute_input": "2021-07-02T01:49:06.459174Z",
     "iopub.status.busy": "2021-07-02T01:49:06.458969Z",
     "iopub.status.idle": "2021-07-02T01:49:06.472853Z",
     "shell.execute_reply": "2021-07-02T01:49:06.472357Z",
     "shell.execute_reply.started": "2021-07-02T01:49:06.459147Z"
    },
    "tags": []
   },
   "outputs": [],
   "source": [
    "# Load Data FROM Big Query(db connection)\n",
    "def convert_lowercase(df):\n",
    "    df_1 =  df.apply(lambda x: x.astype(str).str.lower() if(x.dtype == 'object') else x)\n",
    "    return df_1\n",
    "\n",
    "\n",
    "#check multiprocessing progress \n",
    "def to_iterator(obj_ids):\n",
    "    while obj_ids:\n",
    "        done, obj_ids = ray.wait(obj_ids)\n",
    "        yield ray.get(done[0])\n",
    "\n",
    "\n",
    "# !!!! @@@@@@@@@ TEAMS Check First @@@@@@@@@ !!!! \n",
    "# def ray_multiprocessing_progress(ray_df):\n",
    "#     for x in tqdm(to_iterator(ray_df), total=len(ray_df)):\n",
    "#         pass\n",
    "#     ray_df  = pd.concat(ray.get(ray_df))\n",
    "#     return ray_df\n",
    "\n",
    "\n",
    "# pre-processing for review text\n",
    "def preprocess_review(rvw):\n",
    "    # Remove punctuations and numbers\n",
    "    review = re.sub('[^a-zA-Z]', ' ', rvw)\n",
    "    # Single character removal\n",
    "    review = re.sub(r\"\\s+[a-zA-Z]\\s+\", ' ', review)\n",
    "    # Removing multiple spaces\n",
    "    review = re.sub(r'\\s+', ' ', review)\n",
    "    return review\n",
    "\n",
    "def preprocess_stpwds(rvw, stop_words) : \n",
    "    rs = []\n",
    "    for r in rvw.split(\" \") : \n",
    "        if (r not in stop_words) and (len(r) > 0) : rs.append(r)\n",
    "    return \" \".join(rs)\n",
    "\n",
    "\n",
    "# Multi-Label Model, Threshold\n",
    "def calculate_optimal_threshold(y_true, y_pred_cls):\n",
    "    # ROC Curve\n",
    "    fpr, tpr, thresholds = roc_curve(y_true, y_pred_cls)\n",
    "    roc_auc = auc(fpr, tpr)\n",
    "    plt.plot(fpr, tpr, color='darkorange', lw=2, label='ROC Curve')\n",
    "    plt.plot([0, 1], [0, 1], color='navy', lw=1, linestyle='--')\n",
    "    plt.xlim([-0.025, 1.025])\n",
    "    plt.ylim([-0.025, 1.025])\n",
    "    plt.xlabel('False Positive Rate')\n",
    "    plt.ylabel('True Positive Rate')\n",
    "    plt.title('RoC Curve')\n",
    "    print(\"AUC: \", roc_auc)\n",
    "    \n",
    "    # Calculate the optimal threshold\n",
    "    i = np.arange(len(tpr)) # index for df\n",
    "    roc_df = pd.DataFrame({'threshold' : pd.Series(thresholds, index = i), \n",
    "                           'fpr': pd.Series(fpr, index=i), \n",
    "                           '1-fpr' : pd.Series(1-fpr, index = i), \n",
    "                           'tpr': pd.Series(tpr, index = i), \n",
    "                           'diff': pd.Series(tpr - (1-fpr), index = i) })\n",
    "    opt_threshold = roc_df.iloc[roc_df['diff'].abs().argsort()[:1]]\n",
    "    print(opt_threshold)\n",
    "    \n",
    "    return opt_threshold['threshold'].values[0]\n",
    "\n",
    "# Confusion Matrix\n",
    "def plot_confusion_matrix(cm, classes, normalize=True, title='Confusion matrix', cmap=plt.cm.Greens):\n",
    "    fig, ax = plt.subplots(figsize=(10, 10))\n",
    "    plt.imshow(cm, interpolation='nearest', cmap=cmap)\n",
    "    plt.title(title, fontsize=25)\n",
    "    plt.colorbar()\n",
    "    tick_marks=np.arange(len(classes))\n",
    "    plt.xticks(tick_marks, classes, rotation=45)\n",
    "    plt.yticks(tick_marks, classes)\n",
    "    \n",
    "    if normalize:\n",
    "    \tcm = cm.astype('float') / cm.sum(axis=1)[:, np.newaxis]\n",
    "        \n",
    "    thresh = cm.max() / 2.\n",
    "    for i, j in itertools.product(range(cm.shape[0]), range(cm.shape[1])):\n",
    "    \tplt.text(j, i, round(cm[i, j], 2), fontsize=10, horizontalalignment=\"center\", color=\"white\" if cm[i, j] > thresh else \"black\")\n",
    "    \n",
    "    plt.tight_layout()\n",
    "    plt.ylabel('True label')\n",
    "    plt.xlabel('Predicted label')"
   ]
  },
  {
   "cell_type": "code",
   "execution_count": 3,
   "id": "488776f3-5b9e-4520-a5e6-95c54ef5f081",
   "metadata": {
    "execution": {
     "iopub.execute_input": "2021-07-02T01:49:06.474097Z",
     "iopub.status.busy": "2021-07-02T01:49:06.473931Z",
     "iopub.status.idle": "2021-07-02T01:49:06.493908Z",
     "shell.execute_reply": "2021-07-02T01:49:06.493375Z",
     "shell.execute_reply.started": "2021-07-02T01:49:06.474079Z"
    },
    "tags": []
   },
   "outputs": [],
   "source": [
    "#imports\n",
    "import matplotlib.font_manager as fm\n",
    "from matplotlib.collections import QuadMesh\n",
    "\n",
    "\n",
    "def get_new_fig(fn, figsize=[20,20]):\n",
    "    fig1 = plt.figure(fn, figsize)\n",
    "    ax1 = fig1.gca()   #Get Current Axis\n",
    "    ax1.cla() # clear existing plot\n",
    "    return fig1, ax1\n",
    "\n",
    "\n",
    "def configcell_text_and_colors(array_df, lin, col, oText, facecolors, posi, fz, fmt, show_null_values=0):\n",
    "    text_add = []; text_del = [];\n",
    "    cell_val = array_df[lin][col]\n",
    "    tot_all = array_df[-1][col]\n",
    "#     print(f'tot all:{tot_all}')\n",
    "#     print(f'cell val:{cell_val}')\n",
    "    per = round((float(cell_val) / tot_all) * 100,1)\n",
    "    curr_column = array_df[:,col]\n",
    "    ccl = len(curr_column)\n",
    "\n",
    "    #last line  and/or last column\n",
    "    if(col == (ccl - 1)) or (lin == (ccl - 1)):\n",
    "        #tots and percents\n",
    "        if(tot_all != 0):\n",
    "            if(col == ccl - 1) and (lin == ccl - 1):\n",
    "                tot_rig = 0\n",
    "                for i in range(array_df.shape[0] - 1):\n",
    "                    tot_rig += array_df[i][i]\n",
    "                per_ok = (float(tot_rig) / cell_val) * 100\n",
    "            elif(col == ccl - 1):\n",
    "                tot_rig = array_df[lin][lin]\n",
    "                per_ok = (float(tot_rig) / cell_val) * 100\n",
    "            elif(lin == ccl - 1):\n",
    "                tot_rig = array_df[col][col]\n",
    "                per_ok = (float(tot_rig) / cell_val) * 100\n",
    "            per_ok = round(per_ok,1)\n",
    "            per_err = 100 - per_ok\n",
    "        else:\n",
    "            per_ok = per_err = 0\n",
    "\n",
    "        per_ok_s = ['%.1f%%'%(per_ok), '100%'] [per_ok == 100]\n",
    "\n",
    "        #text to DEL\n",
    "        text_del.append(oText)\n",
    "\n",
    "        #text to ADD\n",
    "        font_prop = fm.FontProperties(weight='bold', size=fz)\n",
    "        text_kwargs = dict(color='w', ha=\"center\", va=\"center\", gid='sum', fontproperties=font_prop)\n",
    "        lis_txt = ['%d'%(cell_val), per_ok_s, '%.1f%%'%(per_err)]\n",
    "        lis_kwa = [text_kwargs]\n",
    "        dic = text_kwargs.copy(); dic['color'] = 'g'; lis_kwa.append(dic);\n",
    "        dic = text_kwargs.copy(); dic['color'] = 'r'; lis_kwa.append(dic);\n",
    "        lis_pos = [(oText._x, oText._y-0.3), (oText._x, oText._y), (oText._x, oText._y+0.3)]\n",
    "        for i in range(len(lis_txt)):\n",
    "            newText = dict(x=lis_pos[i][0], y=lis_pos[i][1], text=lis_txt[i], kw=lis_kwa[i])\n",
    "            #print 'lin: %s, col: %s, newText: %s' %(lin, col, newText)\n",
    "            text_add.append(newText)\n",
    "        #print '\\n'\n",
    "\n",
    "        #set background color for sum cells (last line and last column)\n",
    "        carr = [0.27, 0.30, 0.27, 1.0]\n",
    "        if(col == ccl - 1) and (lin == ccl - 1):\n",
    "            carr = [0.17, 0.20, 0.17, 1.0]\n",
    "        facecolors[posi] = carr\n",
    "\n",
    "    else:\n",
    "        if(per > 0):\n",
    "            txt = '%s\\n%.1f%%' %(cell_val, per)\n",
    "        else:\n",
    "            if(show_null_values == 0):\n",
    "                txt = ''\n",
    "            elif(show_null_values == 1):\n",
    "                txt = '0'\n",
    "            else:\n",
    "                txt = '0\\n0.0%'\n",
    "        oText.set_text(txt)\n",
    "\n",
    "        #main diagonal\n",
    "        if(col == lin):\n",
    "            #set color of the textin the diagonal to white\n",
    "            oText.set_color('w')\n",
    "            # set background color in the diagonal to blue\n",
    "            facecolors[posi] = [0.35, 0.8, 0.55, 1.0]\n",
    "        else:\n",
    "            oText.set_color('r')\n",
    "\n",
    "    return text_add, text_del\n",
    "#\n",
    "\n",
    "def insert_totals(df_cm):\n",
    "    \"\"\" insert total column and line (the last ones) \"\"\"\n",
    "    sum_col = []\n",
    "    for c in df_cm.columns:\n",
    "        sum_col.append( df_cm[c].sum() )\n",
    "    sum_lin = []\n",
    "    for item_line in df_cm.iterrows():\n",
    "        sum_lin.append( item_line[1].sum() )\n",
    "    df_cm['sum_lin'] = sum_lin\n",
    "    sum_col.append(np.sum(sum_lin))\n",
    "    df_cm.loc['sum_col'] = sum_col\n",
    "    #print ('\\ndf_cm:\\n', df_cm, '\\n\\b\\n')\n",
    "#\n",
    "\n",
    "def pretty_plot_confusion_matrix(df_cm, annot=True, cmap=\"Oranges\", fmt='.1f', fz=14,\n",
    "      lw=0.5, cbar=False, figsize=[15,15], show_null_values=0, pred_val_axis='y',title = 'Confusion matrix'):\n",
    "    if(pred_val_axis in ('col', 'x')):\n",
    "        xlbl = 'Predicted'\n",
    "        ylbl = 'Actual'\n",
    "    else:\n",
    "        xlbl = 'Actual'\n",
    "        ylbl = 'Predicted'\n",
    "        df_cm = df_cm.T\n",
    "\n",
    "    # create \"Total\" column\n",
    "    insert_totals(df_cm)\n",
    "\n",
    "    #this is for print allways in the same window\n",
    "    fig, ax1 = get_new_fig('Conf matrix default', figsize)\n",
    "\n",
    "    #thanks for seaborn\n",
    "    ax = sns.heatmap(df_cm, annot=annot, annot_kws={\"size\": fz}, linewidths=lw, ax=ax1,\n",
    "                    cbar=cbar, cmap=cmap, linecolor='w', fmt=fmt)\n",
    "\n",
    "    #set ticklabels rotation\n",
    "    ax.set_xticklabels(ax.get_xticklabels(), rotation = 45, fontsize = 15)\n",
    "    ax.set_yticklabels(ax.get_yticklabels(), rotation = 25, fontsize = 15)\n",
    "\n",
    "    # Turn off all the ticks\n",
    "    for t in ax.xaxis.get_major_ticks():\n",
    "        t.tick1On = False\n",
    "        t.tick2On = False\n",
    "    for t in ax.yaxis.get_major_ticks():\n",
    "        t.tick1On = False\n",
    "        t.tick2On = False\n",
    "\n",
    "    #face colors list\n",
    "    quadmesh = ax.findobj(QuadMesh)[0]\n",
    "    facecolors = quadmesh.get_facecolors()\n",
    "\n",
    "    #iter in text elements\n",
    "    array_df = np.array( df_cm.to_records(index=False).tolist() )\n",
    "    text_add = []; text_del = [];\n",
    "    posi = -1 #from left to right, bottom to top.\n",
    "    for t in ax.collections[0].axes.texts: #ax.texts:\n",
    "        pos = np.array( t.get_position()) - [0.5,0.5]\n",
    "        lin = int(pos[1]); \n",
    "        col = int(pos[0]);\n",
    "        posi += 1\n",
    "        #print ('>>> pos: %s, posi: %s, val: %s, txt: %s' %(pos, posi, array_df[lin][col], t.get_text()))\n",
    "\n",
    "        #set text\n",
    "        txt_res = configcell_text_and_colors(array_df, lin, col, t, facecolors, posi, fz, fmt, show_null_values)\n",
    "\n",
    "        text_add.extend(txt_res[0])\n",
    "        text_del.extend(txt_res[1])\n",
    "\n",
    "    #remove the old ones\n",
    "    for item in text_del:\n",
    "        item.remove()\n",
    "    #append the new ones\n",
    "    for item in text_add:\n",
    "        ax.text(item['x'], item['y'], item['text'], **item['kw'])\n",
    "\n",
    "    #titles and legends\n",
    "    ax.set_title(title, fontsize=18)\n",
    "    ax.set_xlabel(xlbl, fontsize=15)\n",
    "    ax.set_ylabel(ylbl, fontsize=15)\n",
    "    plt.tight_layout()  #set layout slim\n",
    "    plt.show()\n",
    "    fig.savefig('210629_confusion_matrix.jpg')\n",
    "#\n",
    "\n",
    "def plot_confusion_matrix_from_data(y_test, predictions, columns=None, annot=True, cmap=\"Oranges\",\n",
    "      fmt='.1f', fz=11, lw=0.5, cbar=False, figsize=[8,8], show_null_values=0, pred_val_axis='lin'):\n",
    "    \n",
    "    from sklearn.metrics import confusion_matrix\n",
    "    from datetime import date\n",
    "\n",
    "    today = date.today()\n",
    "    # dd/mm/YY\n",
    "    d1 = today.strftime(\"%Y%m%d\")\n",
    "\n",
    "    #data\n",
    "    if(not columns):\n",
    "        #labels axis integer:\n",
    "        ##columns = range(1, len(np.unique(y_test))+1)\n",
    "        #labels axis string:\n",
    "        from string import ascii_uppercase\n",
    "        columns = ['class %s' %(i) for i in list(ascii_uppercase)[0:len(np.unique(y_test))]]\n",
    "\n",
    "    confm = confusion_matrix(y_test, predictions)\n",
    "    cmap = 'Oranges';\n",
    "    fz = 13;\n",
    "    figsize=[20,20];\n",
    "    show_null_values = 2\n",
    "    df_cm = pd.DataFrame(confm, index=columns, columns=columns)\n",
    "    title = 'Confusion Matrix(%s)'%(str(d1))\n",
    "    pretty_plot_confusion_matrix(df_cm, fz=fz, cmap=cmap, figsize=figsize, show_null_values=show_null_values, pred_val_axis=pred_val_axis,title = title)\n",
    "#\n",
    "\n",
    "def _execute_confusion_matrix(y_test,y_pred):\n",
    "    y_test = y_test\n",
    "    predic = y_pred\n",
    "\n",
    "    columns = target_name\n",
    "    annot = True;\n",
    "    cmap = 'Oranges';\n",
    "    fmt = '.2f'\n",
    "    lw = 0.5\n",
    "    cbar = False\n",
    "    show_null_values = 2\n",
    "    pred_val_axis = 'y'\n",
    "    fz = 12;\n",
    "    figsize = [15,15];\n",
    "    if(len(y_test) > 10):\n",
    "        fz=9; figsize=[20,20];\n",
    "    plot_confusion_matrix_from_data(y_test, predic, columns,\n",
    "      annot, cmap, fmt, fz, lw, cbar, figsize, show_null_values, pred_val_axis)"
   ]
  },
  {
   "cell_type": "markdown",
   "id": "67644d5d-d9da-4d5f-9ea1-732b176bd9fe",
   "metadata": {},
   "source": [
    "<br>\n",
    "====================================================================================\n",
    "<br>"
   ]
  },
  {
   "cell_type": "markdown",
   "id": "4e543f53-88f0-408b-86a9-03f7c1c1b8e7",
   "metadata": {},
   "source": [
    "# Data Load, EDA, Pre-processing"
   ]
  },
  {
   "cell_type": "markdown",
   "id": "41d9ff4e-dee6-490d-8b58-ad733ddd87fc",
   "metadata": {},
   "source": [
    "## Shinning Review Data Load"
   ]
  },
  {
   "cell_type": "code",
   "execution_count": 4,
   "id": "c6fbadd0-e84a-4f6a-87b2-6739c817c169",
   "metadata": {
    "execution": {
     "iopub.execute_input": "2021-07-02T01:49:06.494965Z",
     "iopub.status.busy": "2021-07-02T01:49:06.494819Z",
     "iopub.status.idle": "2021-07-02T01:49:09.510645Z",
     "shell.execute_reply": "2021-07-02T01:49:09.510078Z",
     "shell.execute_reply.started": "2021-07-02T01:49:06.494950Z"
    },
    "tags": []
   },
   "outputs": [
    {
     "data": {
      "text/plain": [
       "(2702, 13)"
      ]
     },
     "execution_count": 4,
     "metadata": {},
     "output_type": "execute_result"
    }
   ],
   "source": [
    "# get shining review data from DB\n",
    "sql = '''\n",
    "    SELECT *\n",
    "    FROM taxonomy.shng_rvw\n",
    "'''\n",
    "org_shn_df = bq.select_query(sql)\n",
    "org_shn_df.shape"
   ]
  },
  {
   "cell_type": "code",
   "execution_count": 5,
   "id": "e39f5b0c-ff86-45e2-ae56-7c19a89b747a",
   "metadata": {
    "execution": {
     "iopub.execute_input": "2021-07-02T01:49:09.511692Z",
     "iopub.status.busy": "2021-07-02T01:49:09.511530Z",
     "iopub.status.idle": "2021-07-02T01:49:12.900782Z",
     "shell.execute_reply": "2021-07-02T01:49:12.900381Z",
     "shell.execute_reply.started": "2021-07-02T01:49:09.511675Z"
    },
    "tags": []
   },
   "outputs": [
    {
     "name": "stdout",
     "output_type": "stream",
     "text": [
      "(2702, 14)\n",
      "(2699, 14)\n",
      "1211\n"
     ]
    },
    {
     "data": {
      "text/html": [
       "<div>\n",
       "<style scoped>\n",
       "    .dataframe tbody tr th:only-of-type {\n",
       "        vertical-align: middle;\n",
       "    }\n",
       "\n",
       "    .dataframe tbody tr th {\n",
       "        vertical-align: top;\n",
       "    }\n",
       "\n",
       "    .dataframe thead th {\n",
       "        text-align: right;\n",
       "    }\n",
       "</style>\n",
       "<table border=\"1\" class=\"dataframe\">\n",
       "  <thead>\n",
       "    <tr style=\"text-align: right;\">\n",
       "      <th></th>\n",
       "      <th>date</th>\n",
       "      <th>by</th>\n",
       "      <th>reviewId</th>\n",
       "      <th>category</th>\n",
       "      <th>sku</th>\n",
       "      <th>product_description</th>\n",
       "      <th>rating</th>\n",
       "      <th>title</th>\n",
       "      <th>review_text</th>\n",
       "      <th>complimenting_factors</th>\n",
       "      <th>ref</th>\n",
       "      <th>complimenting_factor</th>\n",
       "      <th>new_category</th>\n",
       "      <th>class</th>\n",
       "    </tr>\n",
       "  </thead>\n",
       "  <tbody>\n",
       "    <tr>\n",
       "      <th>0</th>\n",
       "      <td>201905</td>\n",
       "      <td>Sophie</td>\n",
       "      <td>shng0</td>\n",
       "      <td>Others</td>\n",
       "      <td>PS-C2824C</td>\n",
       "      <td>3-Step Easy Pet Stairs, Grey, X- Large</td>\n",
       "      <td>5</td>\n",
       "      <td>Excellent Product</td>\n",
       "      <td>First of all I have 3 60LB dogs whom are welco...</td>\n",
       "      <td>Design, Quality</td>\n",
       "      <td>None</td>\n",
       "      <td>Design</td>\n",
       "      <td>Others</td>\n",
       "      <td>1.0</td>\n",
       "    </tr>\n",
       "    <tr>\n",
       "      <th>1</th>\n",
       "      <td>201905</td>\n",
       "      <td>Sophie</td>\n",
       "      <td>shng0</td>\n",
       "      <td>Others</td>\n",
       "      <td>PS-C2824C</td>\n",
       "      <td>3-Step Easy Pet Stairs, Grey, X- Large</td>\n",
       "      <td>5</td>\n",
       "      <td>Excellent Product</td>\n",
       "      <td>First of all I have 3 60LB dogs whom are welco...</td>\n",
       "      <td>Design, Quality</td>\n",
       "      <td>None</td>\n",
       "      <td>Quality</td>\n",
       "      <td>Others</td>\n",
       "      <td>5.0</td>\n",
       "    </tr>\n",
       "    <tr>\n",
       "      <th>2</th>\n",
       "      <td>201905</td>\n",
       "      <td>Jennie</td>\n",
       "      <td>shng2</td>\n",
       "      <td>Others</td>\n",
       "      <td>PS-C2824C</td>\n",
       "      <td>3-Step Easy Pet Stairs, Grey, X- Large</td>\n",
       "      <td>5</td>\n",
       "      <td>Worth the price to save your back!</td>\n",
       "      <td>These stairs are the reason my dog can sleep w...</td>\n",
       "      <td>Design, Quality</td>\n",
       "      <td>Jennie) Shining Review? - Marshmallow Mountain...</td>\n",
       "      <td>Design</td>\n",
       "      <td>Others</td>\n",
       "      <td>1.0</td>\n",
       "    </tr>\n",
       "    <tr>\n",
       "      <th>3</th>\n",
       "      <td>201905</td>\n",
       "      <td>Jennie</td>\n",
       "      <td>shng2</td>\n",
       "      <td>Others</td>\n",
       "      <td>PS-C2824C</td>\n",
       "      <td>3-Step Easy Pet Stairs, Grey, X- Large</td>\n",
       "      <td>5</td>\n",
       "      <td>Worth the price to save your back!</td>\n",
       "      <td>These stairs are the reason my dog can sleep w...</td>\n",
       "      <td>Design, Quality</td>\n",
       "      <td>Jennie) Shining Review? - Marshmallow Mountain...</td>\n",
       "      <td>Quality</td>\n",
       "      <td>Others</td>\n",
       "      <td>5.0</td>\n",
       "    </tr>\n",
       "    <tr>\n",
       "      <th>4</th>\n",
       "      <td>201904</td>\n",
       "      <td>Jennie</td>\n",
       "      <td>shng4</td>\n",
       "      <td>Others</td>\n",
       "      <td>PS-D2115S</td>\n",
       "      <td>Pet Stairs Small, Sand</td>\n",
       "      <td>5</td>\n",
       "      <td>Excellent Quality and Price</td>\n",
       "      <td>My chihuahua really loves these steps. He has ...</td>\n",
       "      <td>Value, Quality</td>\n",
       "      <td>None</td>\n",
       "      <td>Value</td>\n",
       "      <td>Others</td>\n",
       "      <td>2.0</td>\n",
       "    </tr>\n",
       "  </tbody>\n",
       "</table>\n",
       "</div>"
      ],
      "text/plain": [
       "     date      by reviewId category        sku  \\\n",
       "0  201905  Sophie    shng0   Others  PS-C2824C   \n",
       "1  201905  Sophie    shng0   Others  PS-C2824C   \n",
       "2  201905  Jennie    shng2   Others  PS-C2824C   \n",
       "3  201905  Jennie    shng2   Others  PS-C2824C   \n",
       "4  201904  Jennie    shng4   Others  PS-D2115S   \n",
       "\n",
       "                      product_description  rating  \\\n",
       "0  3-Step Easy Pet Stairs, Grey, X- Large       5   \n",
       "1  3-Step Easy Pet Stairs, Grey, X- Large       5   \n",
       "2  3-Step Easy Pet Stairs, Grey, X- Large       5   \n",
       "3  3-Step Easy Pet Stairs, Grey, X- Large       5   \n",
       "4                  Pet Stairs Small, Sand       5   \n",
       "\n",
       "                                title  \\\n",
       "0                   Excellent Product   \n",
       "1                   Excellent Product   \n",
       "2  Worth the price to save your back!   \n",
       "3  Worth the price to save your back!   \n",
       "4         Excellent Quality and Price   \n",
       "\n",
       "                                         review_text complimenting_factors  \\\n",
       "0  First of all I have 3 60LB dogs whom are welco...       Design, Quality   \n",
       "1  First of all I have 3 60LB dogs whom are welco...       Design, Quality   \n",
       "2  These stairs are the reason my dog can sleep w...       Design, Quality   \n",
       "3  These stairs are the reason my dog can sleep w...       Design, Quality   \n",
       "4  My chihuahua really loves these steps. He has ...        Value, Quality   \n",
       "\n",
       "                                                 ref complimenting_factor  \\\n",
       "0                                               None               Design   \n",
       "1                                               None              Quality   \n",
       "2  Jennie) Shining Review? - Marshmallow Mountain...               Design   \n",
       "3  Jennie) Shining Review? - Marshmallow Mountain...              Quality   \n",
       "4                                               None                Value   \n",
       "\n",
       "  new_category  class  \n",
       "0       Others    1.0  \n",
       "1       Others    5.0  \n",
       "2       Others    1.0  \n",
       "3       Others    5.0  \n",
       "4       Others    2.0  "
      ]
     },
     "execution_count": 5,
     "metadata": {},
     "output_type": "execute_result"
    }
   ],
   "source": [
    "shn_df = org_shn_df.copy()\n",
    "\n",
    "# set 'rv' columns for temp key-value\n",
    "for i in reversed(range(len(shn_df))) : \n",
    "    shn_df.loc[i, 'rv'] = 'shng'+str( shn_df[(shn_df['rv']==shn_df.loc[i].rv) & (shn_df['reviews']==shn_df.loc[i].reviews)].index[0] )\n",
    "\n",
    "# # Multi-label\n",
    "shn_df.loc[(shn_df['complimenting_factor']=='Design'), 'class'] = 1\n",
    "shn_df.loc[(shn_df['complimenting_factor']=='Value'), 'class'] = 2\n",
    "shn_df.loc[(shn_df['complimenting_factor']=='Assemble'), 'class'] = 3\n",
    "shn_df.loc[(shn_df['complimenting_factor']=='Packaging'), 'class'] = 4\n",
    "shn_df.loc[(shn_df['complimenting_factor']=='Quality'), 'class'] = 5\n",
    "shn_df.loc[(shn_df['complimenting_factor']=='Customer service'), 'class'] = 6\n",
    "shn_df.loc[(shn_df['complimenting_factor']=='Delivery'), 'class'] = 7\n",
    "shn_df.loc[(shn_df['complimenting_factor']=='Brand Comparison'), 'class'] = 8\n",
    "shn_df.loc[(shn_df['complimenting_factor']=='Promised customer'), 'class'] = 9\n",
    "shn_df.loc[(shn_df['complimenting_factor'].str.contains('Others', na=False)), 'class'] = 10\n",
    "shn_df.loc[(shn_df['complimenting_factor']=='Shining Review'), 'class'] = 10 # not specified factor, but shinning, anyway\n",
    "shn_df.loc[(shn_df['complimenting_factor'].isnull()), 'class'] = 10 # null values, but shinning\n",
    "\n",
    "shn_df.rename(columns = {\"rv\": \"reviewId\", \"new_ctgr\": \"new_category\", \"reviews\": \"review_text\"}, inplace=True)\n",
    "\n",
    "print(shn_df.shape)\n",
    "shn_df = shn_df.drop_duplicates()\n",
    "print(shn_df.shape)\n",
    "print(len(shn_df['reviewId'].unique()))\n",
    "\n",
    "shn_df.head()"
   ]
  },
  {
   "cell_type": "markdown",
   "id": "caaf8712-1c19-4f0c-8233-84385fd640ab",
   "metadata": {},
   "source": [
    "## All Review(2019) Data Load"
   ]
  },
  {
   "cell_type": "code",
   "execution_count": 6,
   "id": "3ccaa52c-e1d0-4723-9278-e71aa55d6095",
   "metadata": {
    "execution": {
     "iopub.execute_input": "2021-07-02T01:49:12.901612Z",
     "iopub.status.busy": "2021-07-02T01:49:12.901470Z",
     "iopub.status.idle": "2021-07-02T01:49:16.102030Z",
     "shell.execute_reply": "2021-07-02T01:49:16.101518Z",
     "shell.execute_reply.started": "2021-07-02T01:49:12.901596Z"
    },
    "tags": []
   },
   "outputs": [],
   "source": [
    "# get all review data of 2019 from DB\n",
    "sql2 = '''\n",
    "    SELECT\n",
    "        A.*,\n",
    "        B.prdct_ctgry_4_5 as category,\n",
    "    FROM\n",
    "        taxonomy.amz_rvw_all_2019 A\n",
    "        LEFT JOIN meta.crwl_amz_pdt_mst_all B\n",
    "        ON A.asin = B.asin\n",
    "    WHERE 1=1\n",
    "        AND B.brand = 'Zinus'\n",
    "        AND A.rating BETWEEN 4 and 5\n",
    "'''\n",
    "\n",
    "org_rvw_df = bq.select_query(sql2)"
   ]
  },
  {
   "cell_type": "code",
   "execution_count": 7,
   "id": "efca9d85-c413-4e98-ba0a-554a2edb39c2",
   "metadata": {
    "execution": {
     "iopub.execute_input": "2021-07-02T01:49:16.102970Z",
     "iopub.status.busy": "2021-07-02T01:49:16.102819Z",
     "iopub.status.idle": "2021-07-02T01:49:16.233659Z",
     "shell.execute_reply": "2021-07-02T01:49:16.233268Z",
     "shell.execute_reply.started": "2021-07-02T01:49:16.102954Z"
    },
    "tags": []
   },
   "outputs": [
    {
     "name": "stdout",
     "output_type": "stream",
     "text": [
      "Original Review Count : 91349\n",
      "Drop-duplicates Review Count : 91349\n",
      "Sample Review Count : 300\n"
     ]
    },
    {
     "data": {
      "text/html": [
       "<div>\n",
       "<style scoped>\n",
       "    .dataframe tbody tr th:only-of-type {\n",
       "        vertical-align: middle;\n",
       "    }\n",
       "\n",
       "    .dataframe tbody tr th {\n",
       "        vertical-align: top;\n",
       "    }\n",
       "\n",
       "    .dataframe thead th {\n",
       "        text-align: right;\n",
       "    }\n",
       "</style>\n",
       "<table border=\"1\" class=\"dataframe\">\n",
       "  <thead>\n",
       "    <tr style=\"text-align: right;\">\n",
       "      <th></th>\n",
       "      <th>reviewId</th>\n",
       "      <th>asin</th>\n",
       "      <th>date</th>\n",
       "      <th>rating</th>\n",
       "      <th>title</th>\n",
       "      <th>review_text</th>\n",
       "      <th>category</th>\n",
       "      <th>brand</th>\n",
       "      <th>category_1</th>\n",
       "      <th>class</th>\n",
       "    </tr>\n",
       "  </thead>\n",
       "  <tbody>\n",
       "    <tr>\n",
       "      <th>3233</th>\n",
       "      <td>R1SOSROSYW9KEM</td>\n",
       "      <td>B00K36K78G</td>\n",
       "      <td>2019-03-19 12:00:00</td>\n",
       "      <td>5</td>\n",
       "      <td>Fabulous</td>\n",
       "      <td>I'm really loving this bed. Was so easy to pu...</td>\n",
       "      <td>Beds</td>\n",
       "      <td>Zinus</td>\n",
       "      <td>Beds</td>\n",
       "      <td>0</td>\n",
       "    </tr>\n",
       "    <tr>\n",
       "      <th>19494</th>\n",
       "      <td>R2JVYC3YWPVTZH</td>\n",
       "      <td>B06XGQ66WG</td>\n",
       "      <td>2019-05-08 12:00:00</td>\n",
       "      <td>5</td>\n",
       "      <td>It’s safe and sturdy.</td>\n",
       "      <td>I purchased this so my two Pom’s could get up...</td>\n",
       "      <td>Others</td>\n",
       "      <td>Zinus</td>\n",
       "      <td>Others</td>\n",
       "      <td>0</td>\n",
       "    </tr>\n",
       "    <tr>\n",
       "      <th>36403</th>\n",
       "      <td>RUZYMUWZ3EXRU</td>\n",
       "      <td>B01N0OXMF7</td>\n",
       "      <td>2019-12-15 12:00:00</td>\n",
       "      <td>5</td>\n",
       "      <td>Easy to assemble! Level up to the Elite, it’s ...</td>\n",
       "      <td>Easy assembly, no tools required! I am 5’3” a...</td>\n",
       "      <td>Bed Frames</td>\n",
       "      <td>Zinus</td>\n",
       "      <td>Bed Frames</td>\n",
       "      <td>0</td>\n",
       "    </tr>\n",
       "    <tr>\n",
       "      <th>66281</th>\n",
       "      <td>R1SRJUKF3YP1GP</td>\n",
       "      <td>B077S2CXJH</td>\n",
       "      <td>2019-04-18 12:00:00</td>\n",
       "      <td>5</td>\n",
       "      <td>Love it!!</td>\n",
       "      <td>Really happy with this purchase! The way it i...</td>\n",
       "      <td>Beds</td>\n",
       "      <td>Zinus</td>\n",
       "      <td>Beds</td>\n",
       "      <td>0</td>\n",
       "    </tr>\n",
       "    <tr>\n",
       "      <th>56099</th>\n",
       "      <td>R17IDGPLTKDTD1</td>\n",
       "      <td>B074TVGW44</td>\n",
       "      <td>2019-09-13 12:00:00</td>\n",
       "      <td>5</td>\n",
       "      <td>Well Made! ... Does the job perfectly!!!! LOVE...</td>\n",
       "      <td>This was beyond well made &amp; very stable &amp; so ...</td>\n",
       "      <td>Bases &amp; Foundations</td>\n",
       "      <td>Zinus</td>\n",
       "      <td>Bases &amp; Foundations</td>\n",
       "      <td>0</td>\n",
       "    </tr>\n",
       "  </tbody>\n",
       "</table>\n",
       "</div>"
      ],
      "text/plain": [
       "             reviewId        asin                 date  rating  \\\n",
       "3233   R1SOSROSYW9KEM  B00K36K78G  2019-03-19 12:00:00       5   \n",
       "19494  R2JVYC3YWPVTZH  B06XGQ66WG  2019-05-08 12:00:00       5   \n",
       "36403   RUZYMUWZ3EXRU  B01N0OXMF7  2019-12-15 12:00:00       5   \n",
       "66281  R1SRJUKF3YP1GP  B077S2CXJH  2019-04-18 12:00:00       5   \n",
       "56099  R17IDGPLTKDTD1  B074TVGW44  2019-09-13 12:00:00       5   \n",
       "\n",
       "                                                   title  \\\n",
       "3233                                            Fabulous   \n",
       "19494                              It’s safe and sturdy.   \n",
       "36403  Easy to assemble! Level up to the Elite, it’s ...   \n",
       "66281                                          Love it!!   \n",
       "56099  Well Made! ... Does the job perfectly!!!! LOVE...   \n",
       "\n",
       "                                             review_text             category  \\\n",
       "3233    I'm really loving this bed. Was so easy to pu...                 Beds   \n",
       "19494   I purchased this so my two Pom’s could get up...               Others   \n",
       "36403   Easy assembly, no tools required! I am 5’3” a...           Bed Frames   \n",
       "66281   Really happy with this purchase! The way it i...                 Beds   \n",
       "56099   This was beyond well made & very stable & so ...  Bases & Foundations   \n",
       "\n",
       "       brand           category_1  class  \n",
       "3233   Zinus                 Beds      0  \n",
       "19494  Zinus               Others      0  \n",
       "36403  Zinus           Bed Frames      0  \n",
       "66281  Zinus                 Beds      0  \n",
       "56099  Zinus  Bases & Foundations      0  "
      ]
     },
     "execution_count": 7,
     "metadata": {},
     "output_type": "execute_result"
    }
   ],
   "source": [
    "rvw_df = org_rvw_df.copy()\n",
    "\n",
    "print(\"Original Review Count :\", len(rvw_df))\n",
    "rvw_df = rvw_df.drop_duplicates()\n",
    "print(\"Drop-duplicates Review Count :\", len(rvw_df))\n",
    "rvw_df = rvw_df.sample(n=300)\n",
    "print(\"Sample Review Count :\", len(rvw_df))\n",
    "\n",
    "# multi-label\n",
    "rvw_df['class'] = 0\n",
    "\n",
    "rvw_df.head()"
   ]
  },
  {
   "cell_type": "code",
   "execution_count": 8,
   "id": "a4043bb2-5ba5-47b5-9e85-a8a303b36dac",
   "metadata": {
    "execution": {
     "iopub.execute_input": "2021-07-02T01:49:16.235039Z",
     "iopub.status.busy": "2021-07-02T01:49:16.234898Z",
     "iopub.status.idle": "2021-07-02T01:49:16.236898Z",
     "shell.execute_reply": "2021-07-02T01:49:16.236535Z",
     "shell.execute_reply.started": "2021-07-02T01:49:16.235024Z"
    },
    "tags": []
   },
   "outputs": [],
   "source": [
    "# create table -- done.\n",
    "# bq.insert_query('taxonomy.amz_rvw_all_2019', rvw_df)"
   ]
  },
  {
   "cell_type": "markdown",
   "id": "3d04c2db-61e0-44e0-bcda-71622f0c0ef8",
   "metadata": {},
   "source": [
    "## Data Join"
   ]
  },
  {
   "cell_type": "code",
   "execution_count": 9,
   "id": "f9f83734-c4ae-4824-b44d-e34f11f46a72",
   "metadata": {
    "execution": {
     "iopub.execute_input": "2021-07-02T01:49:16.238196Z",
     "iopub.status.busy": "2021-07-02T01:49:16.238030Z",
     "iopub.status.idle": "2021-07-02T01:49:16.242034Z",
     "shell.execute_reply": "2021-07-02T01:49:16.241615Z",
     "shell.execute_reply.started": "2021-07-02T01:49:16.238177Z"
    },
    "tags": []
   },
   "outputs": [],
   "source": [
    "shn_df = shn_df[['reviewId', 'new_category', 'rating', 'title', 'review_text', 'class']]\n",
    "shn_df.rename(columns = {\"new_category\": \"category\"}, inplace=True)"
   ]
  },
  {
   "cell_type": "code",
   "execution_count": 10,
   "id": "fa166664-1300-4078-b653-55f97057a8e7",
   "metadata": {
    "execution": {
     "iopub.execute_input": "2021-07-02T01:49:16.242770Z",
     "iopub.status.busy": "2021-07-02T01:49:16.242634Z",
     "iopub.status.idle": "2021-07-02T01:49:16.245895Z",
     "shell.execute_reply": "2021-07-02T01:49:16.245490Z",
     "shell.execute_reply.started": "2021-07-02T01:49:16.242754Z"
    },
    "tags": []
   },
   "outputs": [],
   "source": [
    "rvw_df = rvw_df[['reviewId','category', 'rating', 'title', 'review_text', 'asin','class']]"
   ]
  },
  {
   "cell_type": "code",
   "execution_count": 11,
   "id": "587df0c7-2f92-4dcc-86f9-db0c68d58f1b",
   "metadata": {
    "execution": {
     "iopub.execute_input": "2021-07-02T01:49:16.246654Z",
     "iopub.status.busy": "2021-07-02T01:49:16.246504Z",
     "iopub.status.idle": "2021-07-02T01:49:16.257362Z",
     "shell.execute_reply": "2021-07-02T01:49:16.256997Z",
     "shell.execute_reply.started": "2021-07-02T01:49:16.246631Z"
    },
    "tags": []
   },
   "outputs": [
    {
     "name": "stdout",
     "output_type": "stream",
     "text": [
      "(2999, 7)\n"
     ]
    },
    {
     "data": {
      "text/html": [
       "<div>\n",
       "<style scoped>\n",
       "    .dataframe tbody tr th:only-of-type {\n",
       "        vertical-align: middle;\n",
       "    }\n",
       "\n",
       "    .dataframe tbody tr th {\n",
       "        vertical-align: top;\n",
       "    }\n",
       "\n",
       "    .dataframe thead th {\n",
       "        text-align: right;\n",
       "    }\n",
       "</style>\n",
       "<table border=\"1\" class=\"dataframe\">\n",
       "  <thead>\n",
       "    <tr style=\"text-align: right;\">\n",
       "      <th></th>\n",
       "      <th>reviewId</th>\n",
       "      <th>category</th>\n",
       "      <th>rating</th>\n",
       "      <th>title</th>\n",
       "      <th>review_text</th>\n",
       "      <th>class</th>\n",
       "      <th>asin</th>\n",
       "    </tr>\n",
       "  </thead>\n",
       "  <tbody>\n",
       "    <tr>\n",
       "      <th>0</th>\n",
       "      <td>shng0</td>\n",
       "      <td>Others</td>\n",
       "      <td>5</td>\n",
       "      <td>Excellent Product</td>\n",
       "      <td>First of all I have 3 60LB dogs whom are welco...</td>\n",
       "      <td>1</td>\n",
       "      <td>NaN</td>\n",
       "    </tr>\n",
       "    <tr>\n",
       "      <th>1</th>\n",
       "      <td>shng0</td>\n",
       "      <td>Others</td>\n",
       "      <td>5</td>\n",
       "      <td>Excellent Product</td>\n",
       "      <td>First of all I have 3 60LB dogs whom are welco...</td>\n",
       "      <td>5</td>\n",
       "      <td>NaN</td>\n",
       "    </tr>\n",
       "    <tr>\n",
       "      <th>2</th>\n",
       "      <td>shng2</td>\n",
       "      <td>Others</td>\n",
       "      <td>5</td>\n",
       "      <td>Worth the price to save your back!</td>\n",
       "      <td>These stairs are the reason my dog can sleep w...</td>\n",
       "      <td>1</td>\n",
       "      <td>NaN</td>\n",
       "    </tr>\n",
       "    <tr>\n",
       "      <th>3</th>\n",
       "      <td>shng2</td>\n",
       "      <td>Others</td>\n",
       "      <td>5</td>\n",
       "      <td>Worth the price to save your back!</td>\n",
       "      <td>These stairs are the reason my dog can sleep w...</td>\n",
       "      <td>5</td>\n",
       "      <td>NaN</td>\n",
       "    </tr>\n",
       "    <tr>\n",
       "      <th>4</th>\n",
       "      <td>shng4</td>\n",
       "      <td>Others</td>\n",
       "      <td>5</td>\n",
       "      <td>Excellent Quality and Price</td>\n",
       "      <td>My chihuahua really loves these steps. He has ...</td>\n",
       "      <td>2</td>\n",
       "      <td>NaN</td>\n",
       "    </tr>\n",
       "  </tbody>\n",
       "</table>\n",
       "</div>"
      ],
      "text/plain": [
       "  reviewId category  rating                               title  \\\n",
       "0    shng0   Others       5                   Excellent Product   \n",
       "1    shng0   Others       5                   Excellent Product   \n",
       "2    shng2   Others       5  Worth the price to save your back!   \n",
       "3    shng2   Others       5  Worth the price to save your back!   \n",
       "4    shng4   Others       5         Excellent Quality and Price   \n",
       "\n",
       "                                         review_text  class asin  \n",
       "0  First of all I have 3 60LB dogs whom are welco...      1  NaN  \n",
       "1  First of all I have 3 60LB dogs whom are welco...      5  NaN  \n",
       "2  These stairs are the reason my dog can sleep w...      1  NaN  \n",
       "3  These stairs are the reason my dog can sleep w...      5  NaN  \n",
       "4  My chihuahua really loves these steps. He has ...      2  NaN  "
      ]
     },
     "execution_count": 11,
     "metadata": {},
     "output_type": "execute_result"
    }
   ],
   "source": [
    "all_df = pd.concat([shn_df, rvw_df], ignore_index=True)\n",
    "all_df['class'] = all_df['class'].astype(int)\n",
    "print(all_df.shape)\n",
    "all_df.head()"
   ]
  },
  {
   "cell_type": "markdown",
   "id": "5e926e54-b2d3-465e-8eb6-77f1f3da899d",
   "metadata": {},
   "source": [
    "## Feature Engineering"
   ]
  },
  {
   "cell_type": "code",
   "execution_count": 12,
   "id": "cd7540e8-0932-43be-86cf-ecd6a8da35b6",
   "metadata": {
    "execution": {
     "iopub.execute_input": "2021-07-02T01:49:16.258087Z",
     "iopub.status.busy": "2021-07-02T01:49:16.257956Z",
     "iopub.status.idle": "2021-07-02T01:49:16.260968Z",
     "shell.execute_reply": "2021-07-02T01:49:16.260585Z",
     "shell.execute_reply.started": "2021-07-02T01:49:16.258073Z"
    },
    "tags": []
   },
   "outputs": [
    {
     "data": {
      "text/plain": [
       "11"
      ]
     },
     "execution_count": 12,
     "metadata": {},
     "output_type": "execute_result"
    }
   ],
   "source": [
    "class_cnt = len(all_df['class'].unique())\n",
    "class_cnt"
   ]
  },
  {
   "cell_type": "markdown",
   "id": "fa6ed160-c935-4689-a8e7-38e99065de96",
   "metadata": {
    "tags": []
   },
   "source": [
    "### set DF for Multi-Label Model"
   ]
  },
  {
   "cell_type": "code",
   "execution_count": 13,
   "id": "0d0a5a38-6d66-439c-a90b-06705006710c",
   "metadata": {
    "execution": {
     "iopub.execute_input": "2021-07-02T01:49:16.261745Z",
     "iopub.status.busy": "2021-07-02T01:49:16.261530Z",
     "iopub.status.idle": "2021-07-02T01:49:16.295870Z",
     "shell.execute_reply": "2021-07-02T01:49:16.295494Z",
     "shell.execute_reply.started": "2021-07-02T01:49:16.261728Z"
    },
    "tags": []
   },
   "outputs": [
    {
     "data": {
      "text/html": [
       "<div>\n",
       "<style scoped>\n",
       "    .dataframe tbody tr th:only-of-type {\n",
       "        vertical-align: middle;\n",
       "    }\n",
       "\n",
       "    .dataframe tbody tr th {\n",
       "        vertical-align: top;\n",
       "    }\n",
       "\n",
       "    .dataframe thead th {\n",
       "        text-align: right;\n",
       "    }\n",
       "</style>\n",
       "<table border=\"1\" class=\"dataframe\">\n",
       "  <thead>\n",
       "    <tr style=\"text-align: right;\">\n",
       "      <th></th>\n",
       "      <th>reviewId</th>\n",
       "      <th>category</th>\n",
       "      <th>rating</th>\n",
       "      <th>title</th>\n",
       "      <th>review_text</th>\n",
       "      <th>asin</th>\n",
       "      <th>class_0</th>\n",
       "      <th>class_1</th>\n",
       "      <th>class_2</th>\n",
       "      <th>class_3</th>\n",
       "      <th>class_4</th>\n",
       "      <th>class_5</th>\n",
       "      <th>class_6</th>\n",
       "      <th>class_7</th>\n",
       "      <th>class_8</th>\n",
       "      <th>class_9</th>\n",
       "      <th>class_10</th>\n",
       "    </tr>\n",
       "  </thead>\n",
       "  <tbody>\n",
       "    <tr>\n",
       "      <th>0</th>\n",
       "      <td>shng0</td>\n",
       "      <td>Others</td>\n",
       "      <td>5</td>\n",
       "      <td>Excellent Product</td>\n",
       "      <td>First of all I have 3 60LB dogs whom are welco...</td>\n",
       "      <td>NaN</td>\n",
       "      <td>0</td>\n",
       "      <td>1</td>\n",
       "      <td>0</td>\n",
       "      <td>0</td>\n",
       "      <td>0</td>\n",
       "      <td>1</td>\n",
       "      <td>0</td>\n",
       "      <td>0</td>\n",
       "      <td>0</td>\n",
       "      <td>0</td>\n",
       "      <td>0</td>\n",
       "    </tr>\n",
       "    <tr>\n",
       "      <th>1</th>\n",
       "      <td>shng2</td>\n",
       "      <td>Others</td>\n",
       "      <td>5</td>\n",
       "      <td>Worth the price to save your back!</td>\n",
       "      <td>These stairs are the reason my dog can sleep w...</td>\n",
       "      <td>NaN</td>\n",
       "      <td>0</td>\n",
       "      <td>1</td>\n",
       "      <td>0</td>\n",
       "      <td>0</td>\n",
       "      <td>0</td>\n",
       "      <td>1</td>\n",
       "      <td>0</td>\n",
       "      <td>0</td>\n",
       "      <td>0</td>\n",
       "      <td>0</td>\n",
       "      <td>0</td>\n",
       "    </tr>\n",
       "    <tr>\n",
       "      <th>2</th>\n",
       "      <td>shng4</td>\n",
       "      <td>Others</td>\n",
       "      <td>5</td>\n",
       "      <td>Excellent Quality and Price</td>\n",
       "      <td>My chihuahua really loves these steps. He has ...</td>\n",
       "      <td>NaN</td>\n",
       "      <td>0</td>\n",
       "      <td>0</td>\n",
       "      <td>1</td>\n",
       "      <td>0</td>\n",
       "      <td>0</td>\n",
       "      <td>1</td>\n",
       "      <td>0</td>\n",
       "      <td>0</td>\n",
       "      <td>0</td>\n",
       "      <td>0</td>\n",
       "      <td>0</td>\n",
       "    </tr>\n",
       "    <tr>\n",
       "      <th>3</th>\n",
       "      <td>shng6</td>\n",
       "      <td>Others</td>\n",
       "      <td>5</td>\n",
       "      <td>Great product and great company!</td>\n",
       "      <td>EXACTLY what I was looking for. Good quality a...</td>\n",
       "      <td>NaN</td>\n",
       "      <td>0</td>\n",
       "      <td>0</td>\n",
       "      <td>0</td>\n",
       "      <td>0</td>\n",
       "      <td>0</td>\n",
       "      <td>1</td>\n",
       "      <td>1</td>\n",
       "      <td>0</td>\n",
       "      <td>0</td>\n",
       "      <td>0</td>\n",
       "      <td>1</td>\n",
       "    </tr>\n",
       "    <tr>\n",
       "      <th>4</th>\n",
       "      <td>shng12</td>\n",
       "      <td>Others</td>\n",
       "      <td>5</td>\n",
       "      <td>Great Packaging</td>\n",
       "      <td>Came with all the Necessary Hardware, and a ra...</td>\n",
       "      <td>NaN</td>\n",
       "      <td>0</td>\n",
       "      <td>0</td>\n",
       "      <td>0</td>\n",
       "      <td>0</td>\n",
       "      <td>0</td>\n",
       "      <td>0</td>\n",
       "      <td>0</td>\n",
       "      <td>0</td>\n",
       "      <td>0</td>\n",
       "      <td>1</td>\n",
       "      <td>1</td>\n",
       "    </tr>\n",
       "  </tbody>\n",
       "</table>\n",
       "</div>"
      ],
      "text/plain": [
       "  reviewId category  rating                               title  \\\n",
       "0    shng0   Others       5                   Excellent Product   \n",
       "1    shng2   Others       5  Worth the price to save your back!   \n",
       "2    shng4   Others       5         Excellent Quality and Price   \n",
       "3    shng6   Others       5    Great product and great company!   \n",
       "4   shng12   Others       5                     Great Packaging   \n",
       "\n",
       "                                         review_text asin  class_0  class_1  \\\n",
       "0  First of all I have 3 60LB dogs whom are welco...  NaN        0        1   \n",
       "1  These stairs are the reason my dog can sleep w...  NaN        0        1   \n",
       "2  My chihuahua really loves these steps. He has ...  NaN        0        0   \n",
       "3  EXACTLY what I was looking for. Good quality a...  NaN        0        0   \n",
       "4  Came with all the Necessary Hardware, and a ra...  NaN        0        0   \n",
       "\n",
       "   class_2  class_3  class_4  class_5  class_6  class_7  class_8  class_9  \\\n",
       "0        0        0        0        1        0        0        0        0   \n",
       "1        0        0        0        1        0        0        0        0   \n",
       "2        1        0        0        1        0        0        0        0   \n",
       "3        0        0        0        1        1        0        0        0   \n",
       "4        0        0        0        0        0        0        0        1   \n",
       "\n",
       "   class_10  \n",
       "0         0  \n",
       "1         0  \n",
       "2         0  \n",
       "3         1  \n",
       "4         1  "
      ]
     },
     "execution_count": 13,
     "metadata": {},
     "output_type": "execute_result"
    }
   ],
   "source": [
    "tmp_all_df = pd.concat([all_df, pd.get_dummies(all_df['class'])], axis=1)\n",
    "tmp_all_df = tmp_all_df.groupby('reviewId').agg({0:'max', 1:'max', 2:'max', 3:'max', 4:'max', 5:'max', 6:'max', 7:'max', 8:'max', 9:'max', 10:'max'})\n",
    "tmp_all_df.rename(columns = {0:\"class_0\", 1:\"class_1\", 2:\"class_2\", 3:\"class_3\", 4:\"class_4\", 5:\"class_5\", 6:\"class_6\", 7:\"class_7\", 8:\"class_8\", 9:\"class_9\", 10:\"class_10\"}, inplace=True)\n",
    "\n",
    "new_all_df = pd.merge(all_df, tmp_all_df, how='inner', on='reviewId')\n",
    "new_all_df = new_all_df.drop(['class'], axis=1)\n",
    "new_all_df = new_all_df.drop_duplicates(ignore_index=True)\n",
    "new_all_df.head()"
   ]
  },
  {
   "cell_type": "code",
   "execution_count": 14,
   "id": "f50b0ae0-9cd7-409f-8c33-0a84f6d805fd",
   "metadata": {
    "execution": {
     "iopub.execute_input": "2021-07-02T01:49:16.296620Z",
     "iopub.status.busy": "2021-07-02T01:49:16.296486Z",
     "iopub.status.idle": "2021-07-02T01:49:16.303876Z",
     "shell.execute_reply": "2021-07-02T01:49:16.303498Z",
     "shell.execute_reply.started": "2021-07-02T01:49:16.296605Z"
    },
    "tags": []
   },
   "outputs": [
    {
     "data": {
      "text/html": [
       "<div>\n",
       "<style scoped>\n",
       "    .dataframe tbody tr th:only-of-type {\n",
       "        vertical-align: middle;\n",
       "    }\n",
       "\n",
       "    .dataframe tbody tr th {\n",
       "        vertical-align: top;\n",
       "    }\n",
       "\n",
       "    .dataframe thead th {\n",
       "        text-align: right;\n",
       "    }\n",
       "</style>\n",
       "<table border=\"1\" class=\"dataframe\">\n",
       "  <thead>\n",
       "    <tr style=\"text-align: right;\">\n",
       "      <th></th>\n",
       "      <th>class_0</th>\n",
       "      <th>class_1</th>\n",
       "      <th>class_2</th>\n",
       "      <th>class_3</th>\n",
       "      <th>class_4</th>\n",
       "      <th>class_5</th>\n",
       "      <th>class_6</th>\n",
       "      <th>class_7</th>\n",
       "      <th>class_8</th>\n",
       "      <th>class_9</th>\n",
       "      <th>class_10</th>\n",
       "    </tr>\n",
       "  </thead>\n",
       "  <tbody>\n",
       "    <tr>\n",
       "      <th>0</th>\n",
       "      <td>0</td>\n",
       "      <td>1</td>\n",
       "      <td>0</td>\n",
       "      <td>0</td>\n",
       "      <td>0</td>\n",
       "      <td>1</td>\n",
       "      <td>0</td>\n",
       "      <td>0</td>\n",
       "      <td>0</td>\n",
       "      <td>0</td>\n",
       "      <td>0</td>\n",
       "    </tr>\n",
       "    <tr>\n",
       "      <th>1</th>\n",
       "      <td>0</td>\n",
       "      <td>1</td>\n",
       "      <td>0</td>\n",
       "      <td>0</td>\n",
       "      <td>0</td>\n",
       "      <td>1</td>\n",
       "      <td>0</td>\n",
       "      <td>0</td>\n",
       "      <td>0</td>\n",
       "      <td>0</td>\n",
       "      <td>0</td>\n",
       "    </tr>\n",
       "    <tr>\n",
       "      <th>2</th>\n",
       "      <td>0</td>\n",
       "      <td>0</td>\n",
       "      <td>1</td>\n",
       "      <td>0</td>\n",
       "      <td>0</td>\n",
       "      <td>1</td>\n",
       "      <td>0</td>\n",
       "      <td>0</td>\n",
       "      <td>0</td>\n",
       "      <td>0</td>\n",
       "      <td>0</td>\n",
       "    </tr>\n",
       "    <tr>\n",
       "      <th>3</th>\n",
       "      <td>0</td>\n",
       "      <td>0</td>\n",
       "      <td>0</td>\n",
       "      <td>0</td>\n",
       "      <td>0</td>\n",
       "      <td>1</td>\n",
       "      <td>1</td>\n",
       "      <td>0</td>\n",
       "      <td>0</td>\n",
       "      <td>0</td>\n",
       "      <td>1</td>\n",
       "    </tr>\n",
       "    <tr>\n",
       "      <th>4</th>\n",
       "      <td>0</td>\n",
       "      <td>0</td>\n",
       "      <td>0</td>\n",
       "      <td>0</td>\n",
       "      <td>0</td>\n",
       "      <td>0</td>\n",
       "      <td>0</td>\n",
       "      <td>0</td>\n",
       "      <td>0</td>\n",
       "      <td>1</td>\n",
       "      <td>1</td>\n",
       "    </tr>\n",
       "  </tbody>\n",
       "</table>\n",
       "</div>"
      ],
      "text/plain": [
       "   class_0  class_1  class_2  class_3  class_4  class_5  class_6  class_7  \\\n",
       "0        0        1        0        0        0        1        0        0   \n",
       "1        0        1        0        0        0        1        0        0   \n",
       "2        0        0        1        0        0        1        0        0   \n",
       "3        0        0        0        0        0        1        1        0   \n",
       "4        0        0        0        0        0        0        0        0   \n",
       "\n",
       "   class_8  class_9  class_10  \n",
       "0        0        0         0  \n",
       "1        0        0         0  \n",
       "2        0        0         0  \n",
       "3        0        0         1  \n",
       "4        0        1         1  "
      ]
     },
     "execution_count": 14,
     "metadata": {},
     "output_type": "execute_result"
    }
   ],
   "source": [
    "class_label = new_all_df[['class_0', 'class_1', 'class_2', 'class_3', 'class_4', 'class_5', 'class_6', 'class_7', 'class_8', 'class_9', 'class_10']]\n",
    "class_label.head()"
   ]
  },
  {
   "cell_type": "code",
   "execution_count": 15,
   "id": "fe7f6db1-890c-4570-ba62-e79f50519c14",
   "metadata": {
    "execution": {
     "iopub.execute_input": "2021-07-02T01:49:16.304610Z",
     "iopub.status.busy": "2021-07-02T01:49:16.304477Z",
     "iopub.status.idle": "2021-07-02T01:49:16.311592Z",
     "shell.execute_reply": "2021-07-02T01:49:16.311120Z",
     "shell.execute_reply.started": "2021-07-02T01:49:16.304595Z"
    },
    "tags": []
   },
   "outputs": [
    {
     "name": "stdout",
     "output_type": "stream",
     "text": [
      "[1 0]\n",
      "[0 1]\n",
      "[0 1]\n",
      "[0 1]\n",
      "[0 1]\n",
      "[0 1]\n",
      "[0 1]\n",
      "[0 1]\n",
      "[0 1]\n",
      "[0 1]\n",
      "[0 1]\n"
     ]
    }
   ],
   "source": [
    "print(tmp_all_df.class_0.unique())\n",
    "print(tmp_all_df.class_1.unique())\n",
    "print(tmp_all_df.class_2.unique())\n",
    "print(tmp_all_df.class_3.unique())\n",
    "print(tmp_all_df.class_4.unique())\n",
    "print(tmp_all_df.class_5.unique())\n",
    "print(tmp_all_df.class_6.unique())\n",
    "print(tmp_all_df.class_7.unique())\n",
    "print(tmp_all_df.class_8.unique())\n",
    "print(tmp_all_df.class_9.unique())\n",
    "print(tmp_all_df.class_10.unique())"
   ]
  },
  {
   "cell_type": "markdown",
   "id": "e8e268e0-70e7-4cf4-bb3f-f8aa4db1e8ff",
   "metadata": {},
   "source": [
    "## EDA"
   ]
  },
  {
   "cell_type": "markdown",
   "id": "7bf5074e-4402-4f81-8263-14222c308040",
   "metadata": {},
   "source": [
    "### Data Count by Class"
   ]
  },
  {
   "cell_type": "code",
   "execution_count": 16,
   "id": "ec454c49-cc7a-4aed-b035-34ee4120d253",
   "metadata": {
    "execution": {
     "iopub.execute_input": "2021-07-02T01:49:16.312345Z",
     "iopub.status.busy": "2021-07-02T01:49:16.312162Z",
     "iopub.status.idle": "2021-07-02T01:49:16.431745Z",
     "shell.execute_reply": "2021-07-02T01:49:16.431322Z",
     "shell.execute_reply.started": "2021-07-02T01:49:16.312329Z"
    },
    "tags": []
   },
   "outputs": [
    {
     "name": "stdout",
     "output_type": "stream",
     "text": [
      "    class  count\n",
      "0       0    300\n",
      "1       1    200\n",
      "2       2    201\n",
      "3       3    580\n",
      "4       4    176\n",
      "5       5    602\n",
      "6       6     16\n",
      "7       7     31\n",
      "8       8    222\n",
      "9       9    188\n",
      "10     10    483\n"
     ]
    },
    {
     "data": {
      "text/plain": [
       "<AxesSubplot:>"
      ]
     },
     "execution_count": 16,
     "metadata": {},
     "output_type": "execute_result"
    },
    {
     "data": {
      "image/png": "[encoded data removed]",
      "text/plain": [
       "<Figure size 432x288 with 1 Axes>"
      ]
     },
     "metadata": {
      "needs_background": "light"
     },
     "output_type": "display_data"
    }
   ],
   "source": [
    "print(all_df.groupby('class').size().reset_index(name='count'))\n",
    "\n",
    "all_df['class'].value_counts().sort_index().plot(kind='bar')"
   ]
  },
  {
   "cell_type": "markdown",
   "id": "c4317b4a-6e0d-4217-9e7d-304bb73d45f4",
   "metadata": {},
   "source": [
    "### Length of Review_Text"
   ]
  },
  {
   "cell_type": "code",
   "execution_count": 17,
   "id": "13313466-c943-4cbb-aab0-ab636192917c",
   "metadata": {
    "execution": {
     "iopub.execute_input": "2021-07-02T01:49:16.432612Z",
     "iopub.status.busy": "2021-07-02T01:49:16.432467Z",
     "iopub.status.idle": "2021-07-02T01:49:16.607635Z",
     "shell.execute_reply": "2021-07-02T01:49:16.607207Z",
     "shell.execute_reply.started": "2021-07-02T01:49:16.432596Z"
    },
    "tags": []
   },
   "outputs": [
    {
     "data": {
      "image/png": "[encoded data removed]",
      "text/plain": [
       "<Figure size 432x288 with 1 Axes>"
      ]
     },
     "metadata": {
      "needs_background": "light"
     },
     "output_type": "display_data"
    },
    {
     "name": "stdout",
     "output_type": "stream",
     "text": [
      "AVG Length : 530.7929309769924\n"
     ]
    }
   ],
   "source": [
    "plt.hist([len(r) for r in all_df['review_text']], bins=50)\n",
    "plt.xlabel('length of reviews')\n",
    "plt.ylabel('number of reviews')\n",
    "plt.show()\n",
    "\n",
    "# Average Length of Reviews\n",
    "total_len = sum(map(len, all_df['review_text']))\n",
    "cnt_rvw = len(all_df['review_text'])\n",
    "print(\"AVG Length : {}\".format(total_len/cnt_rvw))"
   ]
  },
  {
   "cell_type": "markdown",
   "id": "48196612-13b6-47ce-b474-1b7ff681829d",
   "metadata": {},
   "source": [
    "<br>\n",
    "====================================================================================\n",
    "<br>"
   ]
  },
  {
   "cell_type": "markdown",
   "id": "0349d151-7d19-4a59-82a8-50c75a964ab5",
   "metadata": {},
   "source": [
    "# Pre-processing"
   ]
  },
  {
   "cell_type": "markdown",
   "id": "a371ee5b-602a-440a-ae44-bead902ea0ca",
   "metadata": {},
   "source": [
    "## Set DataFrame for Multi-Class"
   ]
  },
  {
   "cell_type": "code",
   "execution_count": 18,
   "id": "c2d61845-729b-4904-a128-a6f582135f34",
   "metadata": {
    "execution": {
     "iopub.execute_input": "2021-07-02T01:49:16.608482Z",
     "iopub.status.busy": "2021-07-02T01:49:16.608316Z",
     "iopub.status.idle": "2021-07-02T01:49:16.616243Z",
     "shell.execute_reply": "2021-07-02T01:49:16.615860Z",
     "shell.execute_reply.started": "2021-07-02T01:49:16.608465Z"
    },
    "tags": []
   },
   "outputs": [
    {
     "data": {
      "text/html": [
       "<div>\n",
       "<style scoped>\n",
       "    .dataframe tbody tr th:only-of-type {\n",
       "        vertical-align: middle;\n",
       "    }\n",
       "\n",
       "    .dataframe tbody tr th {\n",
       "        vertical-align: top;\n",
       "    }\n",
       "\n",
       "    .dataframe thead th {\n",
       "        text-align: right;\n",
       "    }\n",
       "</style>\n",
       "<table border=\"1\" class=\"dataframe\">\n",
       "  <thead>\n",
       "    <tr style=\"text-align: right;\">\n",
       "      <th></th>\n",
       "      <th>reviewId</th>\n",
       "      <th>category</th>\n",
       "      <th>rating</th>\n",
       "      <th>title</th>\n",
       "      <th>review_text</th>\n",
       "      <th>class</th>\n",
       "      <th>asin</th>\n",
       "    </tr>\n",
       "  </thead>\n",
       "  <tbody>\n",
       "    <tr>\n",
       "      <th>0</th>\n",
       "      <td>shng0</td>\n",
       "      <td>Others</td>\n",
       "      <td>5</td>\n",
       "      <td>Excellent Product</td>\n",
       "      <td>First of all I have 3 60LB dogs whom are welco...</td>\n",
       "      <td>1</td>\n",
       "      <td>NaN</td>\n",
       "    </tr>\n",
       "    <tr>\n",
       "      <th>1</th>\n",
       "      <td>shng0</td>\n",
       "      <td>Others</td>\n",
       "      <td>5</td>\n",
       "      <td>Excellent Product</td>\n",
       "      <td>First of all I have 3 60LB dogs whom are welco...</td>\n",
       "      <td>5</td>\n",
       "      <td>NaN</td>\n",
       "    </tr>\n",
       "    <tr>\n",
       "      <th>2</th>\n",
       "      <td>shng2</td>\n",
       "      <td>Others</td>\n",
       "      <td>5</td>\n",
       "      <td>Worth the price to save your back!</td>\n",
       "      <td>These stairs are the reason my dog can sleep w...</td>\n",
       "      <td>1</td>\n",
       "      <td>NaN</td>\n",
       "    </tr>\n",
       "    <tr>\n",
       "      <th>3</th>\n",
       "      <td>shng2</td>\n",
       "      <td>Others</td>\n",
       "      <td>5</td>\n",
       "      <td>Worth the price to save your back!</td>\n",
       "      <td>These stairs are the reason my dog can sleep w...</td>\n",
       "      <td>5</td>\n",
       "      <td>NaN</td>\n",
       "    </tr>\n",
       "    <tr>\n",
       "      <th>4</th>\n",
       "      <td>shng4</td>\n",
       "      <td>Others</td>\n",
       "      <td>5</td>\n",
       "      <td>Excellent Quality and Price</td>\n",
       "      <td>My chihuahua really loves these steps. He has ...</td>\n",
       "      <td>2</td>\n",
       "      <td>NaN</td>\n",
       "    </tr>\n",
       "  </tbody>\n",
       "</table>\n",
       "</div>"
      ],
      "text/plain": [
       "  reviewId category  rating                               title  \\\n",
       "0    shng0   Others       5                   Excellent Product   \n",
       "1    shng0   Others       5                   Excellent Product   \n",
       "2    shng2   Others       5  Worth the price to save your back!   \n",
       "3    shng2   Others       5  Worth the price to save your back!   \n",
       "4    shng4   Others       5         Excellent Quality and Price   \n",
       "\n",
       "                                         review_text  class asin  \n",
       "0  First of all I have 3 60LB dogs whom are welco...      1  NaN  \n",
       "1  First of all I have 3 60LB dogs whom are welco...      5  NaN  \n",
       "2  These stairs are the reason my dog can sleep w...      1  NaN  \n",
       "3  These stairs are the reason my dog can sleep w...      5  NaN  \n",
       "4  My chihuahua really loves these steps. He has ...      2  NaN  "
      ]
     },
     "execution_count": 18,
     "metadata": {},
     "output_type": "execute_result"
    }
   ],
   "source": [
    "# multi-class\n",
    "all_df_cls = all_df.copy()\n",
    "all_df_cls.head()"
   ]
  },
  {
   "cell_type": "code",
   "execution_count": 19,
   "id": "d4fe8edf-fa15-49ff-bdc9-356f425b6897",
   "metadata": {
    "execution": {
     "iopub.execute_input": "2021-07-02T01:49:16.617053Z",
     "iopub.status.busy": "2021-07-02T01:49:16.616894Z",
     "iopub.status.idle": "2021-07-02T01:49:16.629357Z",
     "shell.execute_reply": "2021-07-02T01:49:16.628964Z",
     "shell.execute_reply.started": "2021-07-02T01:49:16.617030Z"
    },
    "tags": []
   },
   "outputs": [],
   "source": [
    "# Convert All review to lower-case\n",
    "all_df_cls = convert_lowercase(all_df_cls)"
   ]
  },
  {
   "cell_type": "markdown",
   "id": "66f3c144-41f7-4eaf-8b85-d62bd3425131",
   "metadata": {},
   "source": [
    "## Cleansing Review Text"
   ]
  },
  {
   "cell_type": "code",
   "execution_count": 20,
   "id": "36b7125a-e776-472a-b5bc-daa9283fd02e",
   "metadata": {
    "execution": {
     "iopub.execute_input": "2021-07-02T01:49:16.630117Z",
     "iopub.status.busy": "2021-07-02T01:49:16.629983Z",
     "iopub.status.idle": "2021-07-02T01:49:16.805183Z",
     "shell.execute_reply": "2021-07-02T01:49:16.804660Z",
     "shell.execute_reply.started": "2021-07-02T01:49:16.630102Z"
    },
    "tags": []
   },
   "outputs": [],
   "source": [
    "all_df_cls['corpus_list'] = all_df_cls['review_text'].apply(lambda x : preprocess_review(x))"
   ]
  },
  {
   "cell_type": "markdown",
   "id": "d2eddd00-a3e0-42ff-9f9e-882bc72f78c6",
   "metadata": {},
   "source": [
    "## Shiny-Word(Single+Multi)"
   ]
  },
  {
   "cell_type": "code",
   "execution_count": 21,
   "id": "e5638594-40fd-4f15-a53e-ba16c18a4e5f",
   "metadata": {
    "execution": {
     "iopub.execute_input": "2021-07-02T01:49:16.806147Z",
     "iopub.status.busy": "2021-07-02T01:49:16.806000Z",
     "iopub.status.idle": "2021-07-02T01:49:18.920862Z",
     "shell.execute_reply": "2021-07-02T01:49:18.920357Z",
     "shell.execute_reply.started": "2021-07-02T01:49:16.806131Z"
    },
    "tags": []
   },
   "outputs": [
    {
     "name": "stdout",
     "output_type": "stream",
     "text": [
      "Complimenting Factor :  (297, 2)\n",
      "Shiny Express lenth :  296\n"
     ]
    }
   ],
   "source": [
    "factor_sql = '''\n",
    "                SELECT *\n",
    "                FROM `taxonomy.shn_kwd` \n",
    "            '''\n",
    "shiny_factor = bq.select_query(factor_sql)\n",
    "shiny_factor_list = list( set( shiny_factor['keyword'].tolist() ) )\n",
    "shiny_express = list(filter(lambda x: len(x.split(' '))>=1 , shiny_factor_list))\n",
    "shiny_express = [tuple(f.split(' ')) for f in shiny_express]\n",
    "\n",
    "print('Complimenting Factor : ', shiny_factor.shape)\n",
    "print('Shiny Express lenth : ', len(shiny_express))"
   ]
  },
  {
   "cell_type": "markdown",
   "id": "c30c9ce5-16f1-4164-9c73-7111d335847c",
   "metadata": {
    "tags": []
   },
   "source": [
    "## Stopwords"
   ]
  },
  {
   "cell_type": "code",
   "execution_count": 22,
   "id": "88c0e5b6-119b-4d2b-b022-fd1925f664d2",
   "metadata": {
    "execution": {
     "iopub.execute_input": "2021-07-02T01:49:18.921847Z",
     "iopub.status.busy": "2021-07-02T01:49:18.921663Z",
     "iopub.status.idle": "2021-07-02T01:49:21.376148Z",
     "shell.execute_reply": "2021-07-02T01:49:21.375686Z",
     "shell.execute_reply.started": "2021-07-02T01:49:18.921827Z"
    },
    "tags": []
   },
   "outputs": [
    {
     "name": "stdout",
     "output_type": "stream",
     "text": [
      "stop_words : 524\n"
     ]
    }
   ],
   "source": [
    "# Get Stopwords list\n",
    "filter_sql = '''    \n",
    "    SELECT\n",
    "      distinct stopword \n",
    "    FROM\n",
    "      market-analysis-project-91130.taxonomy.stp_wds\n",
    "    WHERE 1=1\n",
    "      AND stopword not in ('by', 'to', 'of', 'put', 'together', 'up', 'keep', 'itself', 'very', 'well', 'again', 'others', 'really', 'myself', 'more', 'another', 'nice', 'do', 'done', 'super', 'one', 'no', 'thank');\n",
    "'''\n",
    "stopword_df = convert_lowercase(bq.select_query(filter_sql))\n",
    "\n",
    "# Get words related parts ... except\n",
    "# part_sql = '''\n",
    "#     SELECT *\n",
    "#     FROM market-analysis-project-91130.taxonomy.prt_wds\n",
    "# '''\n",
    "# parts_df = convert_lowercase(bq.select_query(part_sql))\n",
    "\n",
    "stop_words = stopword_df['stopword'].tolist()\n",
    "print('stop_words :', len(stop_words))\n",
    "\n",
    "# all_df_cls['corpus_list'] = all_df_cls['review_text'].apply(lambda x : preprocess_stpwds(x, stop_words))"
   ]
  },
  {
   "cell_type": "markdown",
   "id": "7933c162-1603-4d9b-a0bd-dd979fb798f4",
   "metadata": {},
   "source": [
    "## Tokenization"
   ]
  },
  {
   "cell_type": "code",
   "execution_count": 23,
   "id": "91988754-7be4-4230-be47-0b2e0b288695",
   "metadata": {
    "execution": {
     "iopub.execute_input": "2021-07-02T01:49:21.378118Z",
     "iopub.status.busy": "2021-07-02T01:49:21.377953Z",
     "iopub.status.idle": "2021-07-02T01:49:21.384734Z",
     "shell.execute_reply": "2021-07-02T01:49:21.384328Z",
     "shell.execute_reply.started": "2021-07-02T01:49:21.378101Z"
    },
    "tags": []
   },
   "outputs": [],
   "source": [
    "N_POS_TAG   = ['CC','CD','DT','EX','FW','LS','PDT','POS','PRP','PRP$','TO','WDT','WP','WRB']\n",
    "Y_POS_TAG   = ['JJ','JJR','JJS','MD','IN','NN','NNS','NNP','NNPS','RB','RBR','RBS','RP','UH','VB','VBG','VBD','VBN','VBP','VBZ', 'TO', 'DT']\n",
    "\n",
    "def tokenized_corpus(df):\n",
    "    corpus = []\n",
    "    reviewid = []\n",
    "    global shiny_word\n",
    "    shiny_word = []\n",
    "    shiny_tokenizer = nltk.tokenize.MWETokenizer(shiny_express, separator=' ')\n",
    "    \n",
    "    # if you wonder that nltk pos tag\n",
    "    # nltk.help.upenn_tagset()\n",
    "    \n",
    "    for i,v in enumerate(tqdm(df['corpus_list'])):\n",
    "        try:\n",
    "            word = []\n",
    "            reviewid.append(str(df.iloc[i].reviewId)) \n",
    "           \n",
    "            for j in pos_tag(regexp_tokenize(v,\"[\\w']+\")) :\n",
    "                if (j[1] in Y_POS_TAG ) & (len(j[0])>1)  & (j[0].isascii()):\n",
    "                    word.append(j[0])\n",
    "            \n",
    "            # Shiny Factors\n",
    "            shiny_tokenizer = nltk.tokenize.MWETokenizer(shiny_express, separator=' ')\n",
    "            tokenized_string = shiny_tokenizer.tokenize(word)\n",
    "            \n",
    "            # Lemmatize\n",
    "            # tokenized_string = [WordNetLemmatizer().lemmatize(x,pos='v') for x in tokenized_string ]\n",
    "            for i, x in enumerate(tokenized_string) : \n",
    "                if len(x.split(' ')) > 1 : # MWE\n",
    "                    tmp_x = x.split(' ')\n",
    "                    tmp_x = [WordNetLemmatizer().lemmatize(y, pos='v') for y in tmp_x ]\n",
    "                    tokenized_string[i] = \" \".join(tmp_x)\n",
    "                else : # Single\n",
    "                    tokenized_string[i] = WordNetLemmatizer().lemmatize(x, pos='v')\n",
    "                    \n",
    "            # Stop Words\n",
    "            tokenized_corpus = [s for s in tokenized_string if s not in stop_words]\n",
    "            \n",
    "            corpus.append(tokenized_corpus)\n",
    "            ## corpus.append(\" \".join(tokenized_string))\n",
    "            \n",
    "            tokenized_shiny = [s for s in tokenized_string if s in shiny_factor_list]\n",
    "            shiny_word.extend(tokenized_shiny)\n",
    "        except : \n",
    "            pass\n",
    "\n",
    "    corpus_df = pd.DataFrame({'corpus_list' : corpus,'reviewId' : reviewid})\n",
    "    \n",
    "    return corpus_df"
   ]
  },
  {
   "cell_type": "code",
   "execution_count": 24,
   "id": "e4ab6345-8e1f-49ca-8e3e-394abb91ead7",
   "metadata": {
    "execution": {
     "iopub.execute_input": "2021-07-02T01:49:21.385743Z",
     "iopub.status.busy": "2021-07-02T01:49:21.385558Z",
     "iopub.status.idle": "2021-07-02T01:49:35.665751Z",
     "shell.execute_reply": "2021-07-02T01:49:35.665286Z",
     "shell.execute_reply.started": "2021-07-02T01:49:21.385701Z"
    },
    "tags": []
   },
   "outputs": [
    {
     "name": "stdout",
     "output_type": "stream",
     "text": [
      "================ Make Corpus ===============\n"
     ]
    },
    {
     "data": {
      "application/vnd.jupyter.widget-view+json": {
       "model_id": "ad45a454e669428a9f10274c8ada7825",
       "version_major": 2,
       "version_minor": 0
      },
      "text/plain": [
       "  0%|          | 0/2999 [00:00<?, ?it/s]"
      ]
     },
     "metadata": {},
     "output_type": "display_data"
    },
    {
     "name": "stdout",
     "output_type": "stream",
     "text": [
      "============================================\n"
     ]
    }
   ],
   "source": [
    "print('================ Make Corpus ===============')\n",
    "corpus_all_df_cls = tokenized_corpus(all_df_cls)\n",
    "\n",
    "print('============================================')\n",
    "all_df_cls['corpus_list'] = corpus_all_df_cls['corpus_list']"
   ]
  },
  {
   "cell_type": "markdown",
   "id": "1d30e40f-0528-4561-a97d-398b5eff38e3",
   "metadata": {},
   "source": [
    "### Keyword Count by Class"
   ]
  },
  {
   "cell_type": "code",
   "execution_count": 25,
   "id": "ea4cd034-ece9-4fde-871c-aa59d700646e",
   "metadata": {
    "execution": {
     "iopub.execute_input": "2021-07-02T01:49:35.666632Z",
     "iopub.status.busy": "2021-07-02T01:49:35.666466Z",
     "iopub.status.idle": "2021-07-02T01:49:35.675251Z",
     "shell.execute_reply": "2021-07-02T01:49:35.674892Z",
     "shell.execute_reply.started": "2021-07-02T01:49:35.666615Z"
    },
    "tags": []
   },
   "outputs": [
    {
     "data": {
      "text/html": [
       "<div>\n",
       "<style scoped>\n",
       "    .dataframe tbody tr th:only-of-type {\n",
       "        vertical-align: middle;\n",
       "    }\n",
       "\n",
       "    .dataframe tbody tr th {\n",
       "        vertical-align: top;\n",
       "    }\n",
       "\n",
       "    .dataframe thead th {\n",
       "        text-align: right;\n",
       "    }\n",
       "</style>\n",
       "<table border=\"1\" class=\"dataframe\">\n",
       "  <thead>\n",
       "    <tr style=\"text-align: right;\">\n",
       "      <th></th>\n",
       "      <th>factor</th>\n",
       "      <th>keyword</th>\n",
       "      <th>count</th>\n",
       "    </tr>\n",
       "  </thead>\n",
       "  <tbody>\n",
       "    <tr>\n",
       "      <th>154</th>\n",
       "      <td>Assemble</td>\n",
       "      <td>put together</td>\n",
       "      <td>615</td>\n",
       "    </tr>\n",
       "    <tr>\n",
       "      <th>96</th>\n",
       "      <td>Assemble</td>\n",
       "      <td>ratchet</td>\n",
       "      <td>460</td>\n",
       "    </tr>\n",
       "    <tr>\n",
       "      <th>111</th>\n",
       "      <td>Assemble</td>\n",
       "      <td>easy to assemble</td>\n",
       "      <td>334</td>\n",
       "    </tr>\n",
       "    <tr>\n",
       "      <th>74</th>\n",
       "      <td>Quality</td>\n",
       "      <td>very sturdy</td>\n",
       "      <td>311</td>\n",
       "    </tr>\n",
       "    <tr>\n",
       "      <th>160</th>\n",
       "      <td>Assemble</td>\n",
       "      <td>easy to put together</td>\n",
       "      <td>304</td>\n",
       "    </tr>\n",
       "    <tr>\n",
       "      <th>141</th>\n",
       "      <td>Assemble</td>\n",
       "      <td>allen wrench</td>\n",
       "      <td>228</td>\n",
       "    </tr>\n",
       "    <tr>\n",
       "      <th>16</th>\n",
       "      <td>Value</td>\n",
       "      <td>for the price</td>\n",
       "      <td>191</td>\n",
       "    </tr>\n",
       "    <tr>\n",
       "      <th>157</th>\n",
       "      <td>Assemble</td>\n",
       "      <td>wrench</td>\n",
       "      <td>153</td>\n",
       "    </tr>\n",
       "    <tr>\n",
       "      <th>126</th>\n",
       "      <td>Assemble</td>\n",
       "      <td>set up</td>\n",
       "      <td>152</td>\n",
       "    </tr>\n",
       "    <tr>\n",
       "      <th>87</th>\n",
       "      <td>Quality</td>\n",
       "      <td>well make</td>\n",
       "      <td>140</td>\n",
       "    </tr>\n",
       "  </tbody>\n",
       "</table>\n",
       "</div>"
      ],
      "text/plain": [
       "       factor               keyword  count\n",
       "154  Assemble          put together    615\n",
       "96   Assemble               ratchet    460\n",
       "111  Assemble      easy to assemble    334\n",
       "74    Quality           very sturdy    311\n",
       "160  Assemble  easy to put together    304\n",
       "141  Assemble          allen wrench    228\n",
       "16      Value         for the price    191\n",
       "157  Assemble                wrench    153\n",
       "126  Assemble                set up    152\n",
       "87    Quality             well make    140"
      ]
     },
     "execution_count": 25,
     "metadata": {},
     "output_type": "execute_result"
    }
   ],
   "source": [
    "# Count Shiny Factor Words\n",
    "shiny_word_dict = collections.Counter(shiny_word)\n",
    "shiny_factor['count'] = shiny_factor['keyword'].apply(lambda x : shiny_word_dict[x])\n",
    "shiny_factor.sort_values(by=['count'], ascending=False).head(10)\n",
    "# print(collections.Counter(shiny_word))"
   ]
  },
  {
   "cell_type": "markdown",
   "id": "12e9edb5-0927-49dd-abf0-0c86cf2dc1ad",
   "metadata": {},
   "source": [
    "### Keyword Count by Class(Multi-Class)"
   ]
  },
  {
   "cell_type": "code",
   "execution_count": 26,
   "id": "5ba6e447-f203-486e-94ab-4196853c92a0",
   "metadata": {
    "execution": {
     "iopub.execute_input": "2021-07-02T01:49:35.676025Z",
     "iopub.status.busy": "2021-07-02T01:49:35.675885Z",
     "iopub.status.idle": "2021-07-02T01:49:35.835748Z",
     "shell.execute_reply": "2021-07-02T01:49:35.835319Z",
     "shell.execute_reply.started": "2021-07-02T01:49:35.676010Z"
    },
    "tags": []
   },
   "outputs": [
    {
     "data": {
      "text/html": [
       "<div>\n",
       "<style scoped>\n",
       "    .dataframe tbody tr th:only-of-type {\n",
       "        vertical-align: middle;\n",
       "    }\n",
       "\n",
       "    .dataframe tbody tr th {\n",
       "        vertical-align: top;\n",
       "    }\n",
       "\n",
       "    .dataframe thead th {\n",
       "        text-align: right;\n",
       "    }\n",
       "</style>\n",
       "<table border=\"1\" class=\"dataframe\">\n",
       "  <thead>\n",
       "    <tr style=\"text-align: right;\">\n",
       "      <th></th>\n",
       "      <th>corpus_list</th>\n",
       "      <th>corpus_set</th>\n",
       "      <th>corpus_list_count</th>\n",
       "      <th>corpus_set_count</th>\n",
       "    </tr>\n",
       "    <tr>\n",
       "      <th>class</th>\n",
       "      <th></th>\n",
       "      <th></th>\n",
       "      <th></th>\n",
       "      <th></th>\n",
       "    </tr>\n",
       "  </thead>\n",
       "  <tbody>\n",
       "    <tr>\n",
       "      <th>0</th>\n",
       "      <td>[really, love, bed, easy, to, put, wheel, bett...</td>\n",
       "      <td>[tubs, crook, wait, write, spruce, gel, pack w...</td>\n",
       "      <td>4419</td>\n",
       "      <td>1098</td>\n",
       "    </tr>\n",
       "    <tr>\n",
       "      <th>1</th>\n",
       "      <td>[of, lb, dog, welcome, bed, older, jump, bed, ...</td>\n",
       "      <td>[wait, halfway, no creak, seriously, ring, con...</td>\n",
       "      <td>9629</td>\n",
       "      <td>1769</td>\n",
       "    </tr>\n",
       "    <tr>\n",
       "      <th>2</th>\n",
       "      <td>[chihuahua, really, love, step, neck, problem,...</td>\n",
       "      <td>[exceptionally, wait, halfway, no creak, wrang...</td>\n",
       "      <td>10030</td>\n",
       "      <td>1844</td>\n",
       "    </tr>\n",
       "    <tr>\n",
       "      <th>3</th>\n",
       "      <td>[look, no, best, buy, zinus, smartbase, use, t...</td>\n",
       "      <td>[integrity, exceptionally, lumber, wait, halfw...</td>\n",
       "      <td>28866</td>\n",
       "      <td>2920</td>\n",
       "    </tr>\n",
       "    <tr>\n",
       "      <th>4</th>\n",
       "      <td>[minnie, small, no, way, to, look, window, ord...</td>\n",
       "      <td>[exceptionally, wait, no creak, seriously, mov...</td>\n",
       "      <td>9504</td>\n",
       "      <td>1645</td>\n",
       "    </tr>\n",
       "    <tr>\n",
       "      <th>5</th>\n",
       "      <td>[of, lb, dog, welcome, bed, older, jump, bed, ...</td>\n",
       "      <td>[integrity, exceptionally, lumber, wait, ezpz,...</td>\n",
       "      <td>29610</td>\n",
       "      <td>3181</td>\n",
       "    </tr>\n",
       "    <tr>\n",
       "      <th>6</th>\n",
       "      <td>[exactly, look, good quality, nice appearance,...</td>\n",
       "      <td>[tubs, wait, write, tons, room, long, dent, la...</td>\n",
       "      <td>1099</td>\n",
       "      <td>508</td>\n",
       "    </tr>\n",
       "    <tr>\n",
       "      <th>7</th>\n",
       "      <td>[inherit, kinda, nice, couch, bed, mom, mattre...</td>\n",
       "      <td>[wait, write, gel, room, long, seriously, come...</td>\n",
       "      <td>1657</td>\n",
       "      <td>642</td>\n",
       "    </tr>\n",
       "    <tr>\n",
       "      <th>8</th>\n",
       "      <td>[do, come, snag, seam, panel, hide, bed, love,...</td>\n",
       "      <td>[wait, halfway, seriously, ring, constantly, w...</td>\n",
       "      <td>8962</td>\n",
       "      <td>1613</td>\n",
       "    </tr>\n",
       "    <tr>\n",
       "      <th>9</th>\n",
       "      <td>[come, necessary hardware, ratchet, ease of in...</td>\n",
       "      <td>[exceptionally, wait, no creak, qualities, ser...</td>\n",
       "      <td>9225</td>\n",
       "      <td>1658</td>\n",
       "    </tr>\n",
       "    <tr>\n",
       "      <th>10</th>\n",
       "      <td>[exactly, look, good quality, nice appearance,...</td>\n",
       "      <td>[integrity, wait, halfway, luck, seriously, ri...</td>\n",
       "      <td>25354</td>\n",
       "      <td>2607</td>\n",
       "    </tr>\n",
       "  </tbody>\n",
       "</table>\n",
       "</div>"
      ],
      "text/plain": [
       "                                             corpus_list  \\\n",
       "class                                                      \n",
       "0      [really, love, bed, easy, to, put, wheel, bett...   \n",
       "1      [of, lb, dog, welcome, bed, older, jump, bed, ...   \n",
       "2      [chihuahua, really, love, step, neck, problem,...   \n",
       "3      [look, no, best, buy, zinus, smartbase, use, t...   \n",
       "4      [minnie, small, no, way, to, look, window, ord...   \n",
       "5      [of, lb, dog, welcome, bed, older, jump, bed, ...   \n",
       "6      [exactly, look, good quality, nice appearance,...   \n",
       "7      [inherit, kinda, nice, couch, bed, mom, mattre...   \n",
       "8      [do, come, snag, seam, panel, hide, bed, love,...   \n",
       "9      [come, necessary hardware, ratchet, ease of in...   \n",
       "10     [exactly, look, good quality, nice appearance,...   \n",
       "\n",
       "                                              corpus_set  corpus_list_count  \\\n",
       "class                                                                         \n",
       "0      [tubs, crook, wait, write, spruce, gel, pack w...               4419   \n",
       "1      [wait, halfway, no creak, seriously, ring, con...               9629   \n",
       "2      [exceptionally, wait, halfway, no creak, wrang...              10030   \n",
       "3      [integrity, exceptionally, lumber, wait, halfw...              28866   \n",
       "4      [exceptionally, wait, no creak, seriously, mov...               9504   \n",
       "5      [integrity, exceptionally, lumber, wait, ezpz,...              29610   \n",
       "6      [tubs, wait, write, tons, room, long, dent, la...               1099   \n",
       "7      [wait, write, gel, room, long, seriously, come...               1657   \n",
       "8      [wait, halfway, seriously, ring, constantly, w...               8962   \n",
       "9      [exceptionally, wait, no creak, qualities, ser...               9225   \n",
       "10     [integrity, wait, halfway, luck, seriously, ri...              25354   \n",
       "\n",
       "       corpus_set_count  \n",
       "class                    \n",
       "0                  1098  \n",
       "1                  1769  \n",
       "2                  1844  \n",
       "3                  2920  \n",
       "4                  1645  \n",
       "5                  3181  \n",
       "6                   508  \n",
       "7                   642  \n",
       "8                  1613  \n",
       "9                  1658  \n",
       "10                 2607  "
      ]
     },
     "execution_count": 26,
     "metadata": {},
     "output_type": "execute_result"
    }
   ],
   "source": [
    "kwd_cnt_all_df = all_df_cls.groupby('class').agg({'corpus_list':'sum'})\n",
    "kwd_cnt_all_df['corpus_set'] = kwd_cnt_all_df['corpus_list'].apply(lambda x : list(set(x)))\n",
    "kwd_cnt_all_df['corpus_list_count'] = kwd_cnt_all_df['corpus_list'].apply(lambda x : len(x))\n",
    "kwd_cnt_all_df['corpus_set_count'] = kwd_cnt_all_df['corpus_set'].apply(lambda x : len(x))\n",
    "kwd_cnt_all_df"
   ]
  },
  {
   "cell_type": "markdown",
   "id": "5306f354-070f-4b2f-ba7d-3e429ced8686",
   "metadata": {},
   "source": [
    "<br>\n",
    "====================================================================================\n",
    "<br>"
   ]
  },
  {
   "cell_type": "markdown",
   "id": "fae50437-87d5-4395-a85b-f48bb4fe5170",
   "metadata": {},
   "source": [
    "# Validation"
   ]
  },
  {
   "cell_type": "markdown",
   "id": "ce78e344-eba1-4172-ab02-684b8fcdfe97",
   "metadata": {},
   "source": [
    "## Load Data"
   ]
  },
  {
   "cell_type": "code",
   "execution_count": 27,
   "id": "32550211-ad1c-47e8-a052-d4026770fed2",
   "metadata": {
    "execution": {
     "iopub.execute_input": "2021-07-02T01:49:35.836564Z",
     "iopub.status.busy": "2021-07-02T01:49:35.836424Z",
     "iopub.status.idle": "2021-07-02T01:49:38.124567Z",
     "shell.execute_reply": "2021-07-02T01:49:38.124037Z",
     "shell.execute_reply.started": "2021-07-02T01:49:35.836548Z"
    },
    "tags": []
   },
   "outputs": [
    {
     "name": "stdout",
     "output_type": "stream",
     "text": [
      "(297, 2)\n"
     ]
    }
   ],
   "source": [
    "factor_sql = '''\n",
    "                SELECT *\n",
    "                FROM `taxonomy.shn_kwd` \n",
    "             '''\n",
    "shn_kwd = bq.select_query(factor_sql)\n",
    "print(shn_kwd.shape)\n",
    "\n",
    "shiny_df_list = list( set( shn_kwd['keyword'].tolist() ) )\n",
    "shiny_express = list(filter(lambda x : len(x.split(' '))>=1 , shiny_df_list))\n",
    "shiny_express = [tuple(f.split(' ')) for f in shiny_express]"
   ]
  },
  {
   "cell_type": "code",
   "execution_count": 28,
   "id": "37d12a71-ab2e-4491-afde-d90428af78b3",
   "metadata": {
    "execution": {
     "iopub.execute_input": "2021-07-02T01:49:38.125449Z",
     "iopub.status.busy": "2021-07-02T01:49:38.125297Z",
     "iopub.status.idle": "2021-07-02T01:49:39.759187Z",
     "shell.execute_reply": "2021-07-02T01:49:39.758705Z",
     "shell.execute_reply.started": "2021-07-02T01:49:38.125432Z"
    },
    "tags": []
   },
   "outputs": [],
   "source": [
    "# Load Data\n",
    "test_df = all_df_cls[:len(shn_df)].copy()\n",
    "\n",
    "test_df['shiny_corpus'] = test_df['corpus_list'].apply(lambda x : [s for s in x if s in shiny_df_list ])\n",
    "\n",
    "test_df['y_class'] = test_df['reviewId'].apply(lambda x : list(test_df[test_df['reviewId']==x]['class']))"
   ]
  },
  {
   "cell_type": "markdown",
   "id": "864db17d-348b-49f9-88de-c046c243cdc7",
   "metadata": {},
   "source": [
    "## Count Keyword"
   ]
  },
  {
   "cell_type": "code",
   "execution_count": 29,
   "id": "f35d423d-0a2e-46f1-b191-f1cfa0b70b9b",
   "metadata": {
    "execution": {
     "iopub.execute_input": "2021-07-02T01:49:39.760104Z",
     "iopub.status.busy": "2021-07-02T01:49:39.759953Z",
     "iopub.status.idle": "2021-07-02T01:49:41.885502Z",
     "shell.execute_reply": "2021-07-02T01:49:41.885001Z",
     "shell.execute_reply.started": "2021-07-02T01:49:39.760087Z"
    },
    "tags": []
   },
   "outputs": [],
   "source": [
    "is_shn_kwd = np.zeros((len(test_df), 10))\n",
    "shiny_fcator = ['Design','Value','Assemble','Packaging','Quality','Customer Service','Delivery','Brand Comparison','Promised Customer','Others']\n",
    "ratchet_list = ['small ratchet', 'wing nuts', 'wrench', 'socket wrench', 'ratchet and wrench', 'ratchet tool', 'ratcheting', 'ratchet', 'hatchet', 'hex tool', 'hex wrench', 'mallet', 'allen key', 'allen wrench', 'allen wrench tools', 'bolts']\n",
    "\n",
    "for i, c_l in enumerate(test_df.corpus_list) :\n",
    "    for c in c_l : \n",
    "        if c in shiny_df_list :\n",
    "            is_shn_kwd[i][shiny_fcator.index(shn_kwd[shn_kwd['keyword']==c].iloc[0]['factor'])] += 1\n",
    "            if c in ratchet_list : is_shn_kwd[i][-1] += 1\n",
    "                \n",
    "    if is_shn_kwd[i].sum() == 0 : is_shn_kwd[i][int(test_df.loc[i, 'class'])-1] = 1\n",
    "        \n",
    "is_shn_kwd = [ np.round(x/x.sum(), 2) for x in is_shn_kwd]"
   ]
  },
  {
   "cell_type": "markdown",
   "id": "2e9fb7fe-65c6-4520-acb7-9d3cea7589d1",
   "metadata": {
    "execution": {
     "iopub.execute_input": "2021-07-02T00:55:33.173386Z",
     "iopub.status.busy": "2021-07-02T00:55:33.173168Z",
     "iopub.status.idle": "2021-07-02T00:55:33.175746Z",
     "shell.execute_reply": "2021-07-02T00:55:33.175237Z",
     "shell.execute_reply.started": "2021-07-02T00:55:33.173366Z"
    },
    "tags": []
   },
   "source": [
    "## Predict and Calcurate Accuracy"
   ]
  },
  {
   "cell_type": "code",
   "execution_count": 30,
   "id": "150c884a-068d-465e-8928-3baabcb13908",
   "metadata": {
    "execution": {
     "iopub.execute_input": "2021-07-02T01:49:41.886395Z",
     "iopub.status.busy": "2021-07-02T01:49:41.886241Z",
     "iopub.status.idle": "2021-07-02T01:49:41.917818Z",
     "shell.execute_reply": "2021-07-02T01:49:41.917388Z",
     "shell.execute_reply.started": "2021-07-02T01:49:41.886378Z"
    },
    "tags": []
   },
   "outputs": [
    {
     "name": "stdout",
     "output_type": "stream",
     "text": [
      "1 : 0.46 \t 92/200\n",
      "2 : 0.52 \t 105/201\n",
      "3 : 0.89 \t 517/580\n",
      "4 : 0.37 \t 65/176\n",
      "5 : 0.61 \t 370/602\n",
      "6 : 0.62 \t 10/16\n",
      "7 : 0.55 \t 17/31\n",
      "8 : 0.44 \t 98/222\n",
      "9 : 0.41 \t 77/188\n",
      "10 : 0.78 \t 377/483\n"
     ]
    }
   ],
   "source": [
    "# predict\n",
    "test_pred_ratio = pd.DataFrame({'pred_ratio':is_shn_kwd})\n",
    "test_pred_df = [ list(np.nonzero(x)[0]+1) for x in is_shn_kwd ]\n",
    "test_pred_class = pd.DataFrame({'pred_class':test_pred_df})\n",
    "\n",
    "# set DF\n",
    "rs_shn_kwd = pd.concat([test_df, test_pred_class, test_pred_ratio], axis=1)\n",
    "\n",
    "# caculate accuracy\n",
    "for i in range(1, class_cnt) : \n",
    "    a = len(rs_shn_kwd[rs_shn_kwd['class']==i])\n",
    "    b = 0\n",
    "    for p in rs_shn_kwd[(rs_shn_kwd['class']==i)]['pred_class'] :\n",
    "        if i in p : b+=1\n",
    "    print(\"{} : {:.2f} \\t {}/{}\".format(i, b/a, b, a))"
   ]
  },
  {
   "cell_type": "markdown",
   "id": "bfa696d8-e6ae-43cf-9ce2-da90290f31c0",
   "metadata": {},
   "source": [
    "## Confusion Matrix"
   ]
  },
  {
   "cell_type": "code",
   "execution_count": 31,
   "id": "981a8ba1-79d0-4740-a320-76c3de920f8d",
   "metadata": {
    "execution": {
     "iopub.execute_input": "2021-07-02T01:49:41.918649Z",
     "iopub.status.busy": "2021-07-02T01:49:41.918507Z",
     "iopub.status.idle": "2021-07-02T01:49:43.659573Z",
     "shell.execute_reply": "2021-07-02T01:49:43.659143Z",
     "shell.execute_reply.started": "2021-07-02T01:49:41.918632Z"
    },
    "tags": []
   },
   "outputs": [
    {
     "name": "stdout",
     "output_type": "stream",
     "text": [
      "                   precision    recall  f1-score   support\n",
      "\n",
      "           Design       0.46      0.54      0.50       169\n",
      "            Value       0.52      0.48      0.50       221\n",
      "         Assemble       0.89      0.48      0.62      1087\n",
      "        Packaging       0.37      0.83      0.51        78\n",
      "          Quality       0.61      0.75      0.68       493\n",
      " Customer Service       0.62      0.71      0.67        14\n",
      "         Delivery       0.55      0.50      0.52        34\n",
      " Brand Comparison       0.44      0.94      0.60       104\n",
      "Promised Customer       0.41      0.80      0.54        96\n",
      "           Others       0.78      0.94      0.85       403\n",
      "\n",
      "         accuracy                           0.64      2699\n",
      "        macro avg       0.57      0.70      0.60      2699\n",
      "     weighted avg       0.71      0.64      0.64      2699\n",
      "\n",
      "[[ 92   8  10   7  20   2   1  11   9   9]\n",
      " [ 11 105  12   7  39   1   1  19  10  16]\n",
      " [ 77  61 517  74 151   3   9  77  65  53]\n",
      " [  3   2   2  65   1   0   0   1   3   1]\n",
      " [ 15  19  25  10 370   0   2  11  20  21]\n",
      " [  1   0   1   0   1  10   0   0   1   0]\n",
      " [  0   1   3   4   5   0  17   1   1   2]\n",
      " [  0   0   3   0   2   0   0  98   0   1]\n",
      " [  0   3   2   0   7   0   0   4  77   3]\n",
      " [  1   2   5   9   6   0   1   0   2 377]]\n"
     ]
    },
    {
     "data": {
      "image/png": "[encoded data removed]",
      "text/plain": [
       "<Figure size 1440x1440 with 1 Axes>"
      ]
     },
     "metadata": {
      "needs_background": "light"
     },
     "output_type": "display_data"
    },
    {
     "data": {
      "text/plain": [
       "0.6402371248610597"
      ]
     },
     "execution_count": 31,
     "metadata": {},
     "output_type": "execute_result"
    }
   ],
   "source": [
    "val_aa = rs_shn_kwd.copy()\n",
    "val_aa['pred_class_cd'] = val_aa['class']\n",
    "for i in range(len(val_aa)) : \n",
    "    if val_aa.loc[i, 'class'] in val_aa.loc[i, 'pred_class'] : \n",
    "        val_aa.loc[i, 'pred_class_cd'] = val_aa.loc[i, 'class']\n",
    "    else : \n",
    "        val_aa.loc[i, 'pred_class_cd'] = is_shn_kwd[i].argmax()+1\n",
    "\n",
    "y_cf_dic = {\n",
    "            'Design' : 1,\n",
    "            'Value' : 2,\n",
    "            'Assemble' : 3,\n",
    "            'Packaging' : 4,\n",
    "            'Quality' : 5,\n",
    "            'Customer Service' : 6,\n",
    "            'Delivery' : 7,\n",
    "            'Brand Comparison' : 8,\n",
    "            'Promised Customer' : 9,\n",
    "            'Others' : 10\n",
    "           }\n",
    "\n",
    "val_df = val_aa.replace({\"class\": y_cf_dic, \"pred_class\": y_cf_dic})\n",
    "\n",
    "y_pred = val_df['class'].tolist()\n",
    "y_true = val_df['pred_class_cd'].tolist()\n",
    "target_name = list(y_cf_dic)\n",
    "\n",
    "print(classification_report(y_true, y_pred, target_names=target_name))\n",
    "\n",
    "cm=confusion_matrix(y_true,y_pred)\n",
    "print(cm)\n",
    "\n",
    "_execute_confusion_matrix(y_true,y_pred)\n",
    "accuracy_score(y_true,y_pred)"
   ]
  },
  {
   "cell_type": "markdown",
   "id": "274211dc-7be3-4d01-b992-2b6398307b26",
   "metadata": {},
   "source": [
    "<br>\n",
    "====================================================================================\n",
    "<br>"
   ]
  },
  {
   "cell_type": "markdown",
   "id": "b0250115-b8fa-4723-ba1f-8d7d09e202eb",
   "metadata": {},
   "source": [
    "# Visualization(Sample)"
   ]
  },
  {
   "cell_type": "markdown",
   "id": "c359c41e-1887-40e8-a222-438e736ebf9e",
   "metadata": {},
   "source": [
    "## Get ASIN & Reviews"
   ]
  },
  {
   "cell_type": "code",
   "execution_count": 32,
   "id": "0d9b7b8a-d216-4a69-9e53-8c22a124f701",
   "metadata": {
    "execution": {
     "iopub.execute_input": "2021-07-02T01:49:43.660422Z",
     "iopub.status.busy": "2021-07-02T01:49:43.660268Z",
     "iopub.status.idle": "2021-07-02T01:49:46.086625Z",
     "shell.execute_reply": "2021-07-02T01:49:46.086164Z",
     "shell.execute_reply.started": "2021-07-02T01:49:43.660406Z"
    },
    "tags": []
   },
   "outputs": [
    {
     "name": "stdout",
     "output_type": "stream",
     "text": [
      "(4492, 2)\n"
     ]
    },
    {
     "data": {
      "text/html": [
       "<div>\n",
       "<style scoped>\n",
       "    .dataframe tbody tr th:only-of-type {\n",
       "        vertical-align: middle;\n",
       "    }\n",
       "\n",
       "    .dataframe tbody tr th {\n",
       "        vertical-align: top;\n",
       "    }\n",
       "\n",
       "    .dataframe thead th {\n",
       "        text-align: right;\n",
       "    }\n",
       "</style>\n",
       "<table border=\"1\" class=\"dataframe\">\n",
       "  <thead>\n",
       "    <tr style=\"text-align: right;\">\n",
       "      <th></th>\n",
       "      <th>asin</th>\n",
       "      <th>cnt</th>\n",
       "    </tr>\n",
       "  </thead>\n",
       "  <tbody>\n",
       "    <tr>\n",
       "      <th>0</th>\n",
       "      <td>B00EYN1NEG</td>\n",
       "      <td>51</td>\n",
       "    </tr>\n",
       "    <tr>\n",
       "      <th>1</th>\n",
       "      <td>B074QWX9V9</td>\n",
       "      <td>43</td>\n",
       "    </tr>\n",
       "    <tr>\n",
       "      <th>2</th>\n",
       "      <td>B01LWT246J</td>\n",
       "      <td>41</td>\n",
       "    </tr>\n",
       "    <tr>\n",
       "      <th>3</th>\n",
       "      <td>B00NPVCPRM</td>\n",
       "      <td>40</td>\n",
       "    </tr>\n",
       "    <tr>\n",
       "      <th>4</th>\n",
       "      <td>B006MISZOC</td>\n",
       "      <td>38</td>\n",
       "    </tr>\n",
       "  </tbody>\n",
       "</table>\n",
       "</div>"
      ],
      "text/plain": [
       "         asin  cnt\n",
       "0  B00EYN1NEG   51\n",
       "1  B074QWX9V9   43\n",
       "2  B01LWT246J   41\n",
       "3  B00NPVCPRM   40\n",
       "4  B006MISZOC   38"
      ]
     },
     "execution_count": 32,
     "metadata": {},
     "output_type": "execute_result"
    }
   ],
   "source": [
    "sample_asin_sql = '''\n",
    "    SELECT asin, count(asin) as cnt\n",
    "    FROM `market-analysis-project-91130`.taxonomy.positive_keyword_anal\n",
    "    WHERE 1=1\n",
    "      AND shiny_factor !=''\n",
    "      AND yearmonth >= '202104'\n",
    "    GROUP BY asin\n",
    "    HAVING COUNT(*) > 0\n",
    "    ORDER BY cnt desc\n",
    "'''\n",
    "sample_asin_df = bq.select_query(sample_asin_sql)\n",
    "\n",
    "print(sample_asin_df.shape)\n",
    "sample_asin_df.head()"
   ]
  },
  {
   "cell_type": "code",
   "execution_count": 33,
   "id": "39a51ff1-e329-443d-93b0-2220b220688a",
   "metadata": {
    "execution": {
     "iopub.execute_input": "2021-07-02T01:49:46.087468Z",
     "iopub.status.busy": "2021-07-02T01:49:46.087312Z",
     "iopub.status.idle": "2021-07-02T01:49:48.400712Z",
     "shell.execute_reply": "2021-07-02T01:49:48.400263Z",
     "shell.execute_reply.started": "2021-07-02T01:49:46.087451Z"
    },
    "tags": []
   },
   "outputs": [
    {
     "name": "stdout",
     "output_type": "stream",
     "text": [
      "(2821, 9)\n"
     ]
    },
    {
     "data": {
      "text/html": [
       "<div>\n",
       "<style scoped>\n",
       "    .dataframe tbody tr th:only-of-type {\n",
       "        vertical-align: middle;\n",
       "    }\n",
       "\n",
       "    .dataframe tbody tr th {\n",
       "        vertical-align: top;\n",
       "    }\n",
       "\n",
       "    .dataframe thead th {\n",
       "        text-align: right;\n",
       "    }\n",
       "</style>\n",
       "<table border=\"1\" class=\"dataframe\">\n",
       "  <thead>\n",
       "    <tr style=\"text-align: right;\">\n",
       "      <th></th>\n",
       "      <th>asin</th>\n",
       "      <th>sku</th>\n",
       "      <th>category</th>\n",
       "      <th>sub_category</th>\n",
       "      <th>reviewId</th>\n",
       "      <th>date</th>\n",
       "      <th>rating</th>\n",
       "      <th>title</th>\n",
       "      <th>review_text</th>\n",
       "    </tr>\n",
       "  </thead>\n",
       "  <tbody>\n",
       "    <tr>\n",
       "      <th>0</th>\n",
       "      <td>B075FFFNX4</td>\n",
       "      <td>OLB-NPDBS-39</td>\n",
       "      <td>frames for mattresses</td>\n",
       "      <td>newport db</td>\n",
       "      <td>R1LUKYN73DNOKC</td>\n",
       "      <td>2021-06-08 12:00:00</td>\n",
       "      <td>5</td>\n",
       "      <td>Great for kids rooms</td>\n",
       "      <td>we debated on getting a bunkbed with a futon ...</td>\n",
       "    </tr>\n",
       "    <tr>\n",
       "      <th>1</th>\n",
       "      <td>B075FFFNX4</td>\n",
       "      <td>OLB-NPDBS-39</td>\n",
       "      <td>frames for mattresses</td>\n",
       "      <td>newport db</td>\n",
       "      <td>R1MS7JRMHKVVMV</td>\n",
       "      <td>2021-06-26 12:00:00</td>\n",
       "      <td>5</td>\n",
       "      <td>Very easy assembly, Sturdy. Very nice. Excelle...</td>\n",
       "      <td>love this bed. as far as assembly, it was the...</td>\n",
       "    </tr>\n",
       "    <tr>\n",
       "      <th>2</th>\n",
       "      <td>B075FFFNX4</td>\n",
       "      <td>OLB-NPDBS-39</td>\n",
       "      <td>frames for mattresses</td>\n",
       "      <td>newport db</td>\n",
       "      <td>R3F42TCIGXETW0</td>\n",
       "      <td>2021-06-22 12:00:00</td>\n",
       "      <td>5</td>\n",
       "      <td>Absolutely Perfect !!!</td>\n",
       "      <td>this is the perfect piece of furniture for th...</td>\n",
       "    </tr>\n",
       "    <tr>\n",
       "      <th>3</th>\n",
       "      <td>B01MXE2XF1</td>\n",
       "      <td>FCPB-F</td>\n",
       "      <td>frames for mattresses</td>\n",
       "      <td>classic faux leather</td>\n",
       "      <td>R1MWGFNFRUNDH</td>\n",
       "      <td>2021-06-02 12:00:00</td>\n",
       "      <td>5</td>\n",
       "      <td>bed frame</td>\n",
       "      <td>wonderful bed frame.</td>\n",
       "    </tr>\n",
       "    <tr>\n",
       "      <th>4</th>\n",
       "      <td>B01MXE2XF1</td>\n",
       "      <td>FCPB-F</td>\n",
       "      <td>frames for mattresses</td>\n",
       "      <td>classic faux leather</td>\n",
       "      <td>R3OKBHG3KR1Q7H</td>\n",
       "      <td>2021-06-09 12:00:00</td>\n",
       "      <td>5</td>\n",
       "      <td>Durable</td>\n",
       "      <td>very easy to assemble and looks great. i got ...</td>\n",
       "    </tr>\n",
       "  </tbody>\n",
       "</table>\n",
       "</div>"
      ],
      "text/plain": [
       "         asin           sku               category          sub_category  \\\n",
       "0  B075FFFNX4  OLB-NPDBS-39  frames for mattresses            newport db   \n",
       "1  B075FFFNX4  OLB-NPDBS-39  frames for mattresses            newport db   \n",
       "2  B075FFFNX4  OLB-NPDBS-39  frames for mattresses            newport db   \n",
       "3  B01MXE2XF1        FCPB-F  frames for mattresses  classic faux leather   \n",
       "4  B01MXE2XF1        FCPB-F  frames for mattresses  classic faux leather   \n",
       "\n",
       "         reviewId                 date  rating  \\\n",
       "0  R1LUKYN73DNOKC  2021-06-08 12:00:00       5   \n",
       "1  R1MS7JRMHKVVMV  2021-06-26 12:00:00       5   \n",
       "2  R3F42TCIGXETW0  2021-06-22 12:00:00       5   \n",
       "3   R1MWGFNFRUNDH  2021-06-02 12:00:00       5   \n",
       "4  R3OKBHG3KR1Q7H  2021-06-09 12:00:00       5   \n",
       "\n",
       "                                               title  \\\n",
       "0                               Great for kids rooms   \n",
       "1  Very easy assembly, Sturdy. Very nice. Excelle...   \n",
       "2                             Absolutely Perfect !!!   \n",
       "3                                          bed frame   \n",
       "4                                            Durable   \n",
       "\n",
       "                                         review_text  \n",
       "0   we debated on getting a bunkbed with a futon ...  \n",
       "1   love this bed. as far as assembly, it was the...  \n",
       "2   this is the perfect piece of furniture for th...  \n",
       "3                              wonderful bed frame.   \n",
       "4   very easy to assemble and looks great. i got ...  "
      ]
     },
     "execution_count": 33,
     "metadata": {},
     "output_type": "execute_result"
    }
   ],
   "source": [
    "sample_review_sql = '''\n",
    "    SELECT\n",
    "        rvw.asin, pdt.sku, pdt.category, pdt.sub_category, rvw.reviewId, rvw.date, rvw.rating, rvw.title, rvw.review_text\n",
    "    FROM \n",
    "        `crwl.amz_rvw_all` rvw\n",
    "        right outer join `taxonomy.zinus_product_master` pdt\n",
    "            on rvw.asin = pdt.asin\n",
    "    WHERE 1=1\n",
    "        and date >= '2021-06-01'\n",
    "        and rating = 5\n",
    "        -- and rvw.asin in {}\n",
    "'''\n",
    "# .format(tuple(top3_asin))\n",
    "\n",
    "sample_review_df = bq.select_query(sample_review_sql)\n",
    "sample_review_df['review_text'] = convert_lowercase(sample_review_df[['review_text']])\n",
    "print(sample_review_df.shape)\n",
    "sample_review_df.head()"
   ]
  },
  {
   "cell_type": "markdown",
   "id": "2d9c7673-137e-42eb-bdb4-9071e1b982aa",
   "metadata": {},
   "source": [
    "## Pre-processing"
   ]
  },
  {
   "cell_type": "code",
   "execution_count": 34,
   "id": "94ee06a5-bf3f-401d-aefe-24d466302d5d",
   "metadata": {
    "execution": {
     "iopub.execute_input": "2021-07-02T01:49:48.401618Z",
     "iopub.status.busy": "2021-07-02T01:49:48.401445Z",
     "iopub.status.idle": "2021-07-02T01:49:54.350145Z",
     "shell.execute_reply": "2021-07-02T01:49:54.349733Z",
     "shell.execute_reply.started": "2021-07-02T01:49:48.401600Z"
    },
    "tags": []
   },
   "outputs": [
    {
     "data": {
      "application/vnd.jupyter.widget-view+json": {
       "model_id": "086c7f259f974e0bb2a9133226b4cb80",
       "version_major": 2,
       "version_minor": 0
      },
      "text/plain": [
       "  0%|          | 0/2821 [00:00<?, ?it/s]"
      ]
     },
     "metadata": {},
     "output_type": "display_data"
    },
    {
     "data": {
      "text/html": [
       "<div>\n",
       "<style scoped>\n",
       "    .dataframe tbody tr th:only-of-type {\n",
       "        vertical-align: middle;\n",
       "    }\n",
       "\n",
       "    .dataframe tbody tr th {\n",
       "        vertical-align: top;\n",
       "    }\n",
       "\n",
       "    .dataframe thead th {\n",
       "        text-align: right;\n",
       "    }\n",
       "</style>\n",
       "<table border=\"1\" class=\"dataframe\">\n",
       "  <thead>\n",
       "    <tr style=\"text-align: right;\">\n",
       "      <th></th>\n",
       "      <th>asin</th>\n",
       "      <th>sku</th>\n",
       "      <th>category</th>\n",
       "      <th>sub_category</th>\n",
       "      <th>reviewId</th>\n",
       "      <th>date</th>\n",
       "      <th>rating</th>\n",
       "      <th>title</th>\n",
       "      <th>review_text</th>\n",
       "      <th>corpus_list</th>\n",
       "    </tr>\n",
       "  </thead>\n",
       "  <tbody>\n",
       "    <tr>\n",
       "      <th>0</th>\n",
       "      <td>B075FFFNX4</td>\n",
       "      <td>OLB-NPDBS-39</td>\n",
       "      <td>frames for mattresses</td>\n",
       "      <td>newport db</td>\n",
       "      <td>R1LUKYN73DNOKC</td>\n",
       "      <td>2021-06-08 12:00:00</td>\n",
       "      <td>5</td>\n",
       "      <td>Great for kids rooms</td>\n",
       "      <td>we debated on getting a bunkbed with a futon ...</td>\n",
       "      <td>[debate, bunkbed, futon, bottom, end, up, inst...</td>\n",
       "    </tr>\n",
       "    <tr>\n",
       "      <th>1</th>\n",
       "      <td>B075FFFNX4</td>\n",
       "      <td>OLB-NPDBS-39</td>\n",
       "      <td>frames for mattresses</td>\n",
       "      <td>newport db</td>\n",
       "      <td>R1MS7JRMHKVVMV</td>\n",
       "      <td>2021-06-26 12:00:00</td>\n",
       "      <td>5</td>\n",
       "      <td>Very easy assembly, Sturdy. Very nice. Excelle...</td>\n",
       "      <td>love this bed. as far as assembly, it was the...</td>\n",
       "      <td>[love, bed, far, assembly, very, best, easiest...</td>\n",
       "    </tr>\n",
       "    <tr>\n",
       "      <th>2</th>\n",
       "      <td>B075FFFNX4</td>\n",
       "      <td>OLB-NPDBS-39</td>\n",
       "      <td>frames for mattresses</td>\n",
       "      <td>newport db</td>\n",
       "      <td>R3F42TCIGXETW0</td>\n",
       "      <td>2021-06-22 12:00:00</td>\n",
       "      <td>5</td>\n",
       "      <td>Absolutely Perfect !!!</td>\n",
       "      <td>this is the perfect piece of furniture for th...</td>\n",
       "      <td>[perfect, piece, of, furniture, small, space, ...</td>\n",
       "    </tr>\n",
       "    <tr>\n",
       "      <th>3</th>\n",
       "      <td>B01MXE2XF1</td>\n",
       "      <td>FCPB-F</td>\n",
       "      <td>frames for mattresses</td>\n",
       "      <td>classic faux leather</td>\n",
       "      <td>R1MWGFNFRUNDH</td>\n",
       "      <td>2021-06-02 12:00:00</td>\n",
       "      <td>5</td>\n",
       "      <td>bed frame</td>\n",
       "      <td>wonderful bed frame.</td>\n",
       "      <td>[wonderful, bed, frame]</td>\n",
       "    </tr>\n",
       "    <tr>\n",
       "      <th>4</th>\n",
       "      <td>B01MXE2XF1</td>\n",
       "      <td>FCPB-F</td>\n",
       "      <td>frames for mattresses</td>\n",
       "      <td>classic faux leather</td>\n",
       "      <td>R3OKBHG3KR1Q7H</td>\n",
       "      <td>2021-06-09 12:00:00</td>\n",
       "      <td>5</td>\n",
       "      <td>Durable</td>\n",
       "      <td>very easy to assemble and looks great. i got ...</td>\n",
       "      <td>[very, easy to assemble, look great, year, old...</td>\n",
       "    </tr>\n",
       "  </tbody>\n",
       "</table>\n",
       "</div>"
      ],
      "text/plain": [
       "         asin           sku               category          sub_category  \\\n",
       "0  B075FFFNX4  OLB-NPDBS-39  frames for mattresses            newport db   \n",
       "1  B075FFFNX4  OLB-NPDBS-39  frames for mattresses            newport db   \n",
       "2  B075FFFNX4  OLB-NPDBS-39  frames for mattresses            newport db   \n",
       "3  B01MXE2XF1        FCPB-F  frames for mattresses  classic faux leather   \n",
       "4  B01MXE2XF1        FCPB-F  frames for mattresses  classic faux leather   \n",
       "\n",
       "         reviewId                 date  rating  \\\n",
       "0  R1LUKYN73DNOKC  2021-06-08 12:00:00       5   \n",
       "1  R1MS7JRMHKVVMV  2021-06-26 12:00:00       5   \n",
       "2  R3F42TCIGXETW0  2021-06-22 12:00:00       5   \n",
       "3   R1MWGFNFRUNDH  2021-06-02 12:00:00       5   \n",
       "4  R3OKBHG3KR1Q7H  2021-06-09 12:00:00       5   \n",
       "\n",
       "                                               title  \\\n",
       "0                               Great for kids rooms   \n",
       "1  Very easy assembly, Sturdy. Very nice. Excelle...   \n",
       "2                             Absolutely Perfect !!!   \n",
       "3                                          bed frame   \n",
       "4                                            Durable   \n",
       "\n",
       "                                         review_text  \\\n",
       "0   we debated on getting a bunkbed with a futon ...   \n",
       "1   love this bed. as far as assembly, it was the...   \n",
       "2   this is the perfect piece of furniture for th...   \n",
       "3                              wonderful bed frame.    \n",
       "4   very easy to assemble and looks great. i got ...   \n",
       "\n",
       "                                         corpus_list  \n",
       "0  [debate, bunkbed, futon, bottom, end, up, inst...  \n",
       "1  [love, bed, far, assembly, very, best, easiest...  \n",
       "2  [perfect, piece, of, furniture, small, space, ...  \n",
       "3                            [wonderful, bed, frame]  \n",
       "4  [very, easy to assemble, look great, year, old...  "
      ]
     },
     "execution_count": 34,
     "metadata": {},
     "output_type": "execute_result"
    }
   ],
   "source": [
    "# cleansing\n",
    "sample_review_df['corpus_list'] = sample_review_df['review_text'].apply(lambda x : preprocess_review(x))\n",
    "\n",
    "# tokenizing\n",
    "corpus_rvw_df = tokenized_corpus(sample_review_df)\n",
    "sample_review_df['corpus_list'] = corpus_rvw_df['corpus_list']\n",
    "\n",
    "sample_review_df.head()"
   ]
  },
  {
   "cell_type": "markdown",
   "id": "746b2991-6ac3-407d-801f-899debe1e5ca",
   "metadata": {},
   "source": [
    "## Get Shiny Factor&Keyword"
   ]
  },
  {
   "cell_type": "code",
   "execution_count": 35,
   "id": "c2ae4c80-029c-4088-aeee-1339705fb613",
   "metadata": {
    "execution": {
     "iopub.execute_input": "2021-07-02T01:49:54.350961Z",
     "iopub.status.busy": "2021-07-02T01:49:54.350815Z",
     "iopub.status.idle": "2021-07-02T01:49:59.011962Z",
     "shell.execute_reply": "2021-07-02T01:49:59.011544Z",
     "shell.execute_reply.started": "2021-07-02T01:49:54.350942Z"
    },
    "tags": []
   },
   "outputs": [
    {
     "name": "stdout",
     "output_type": "stream",
     "text": [
      "(2271, 12)\n"
     ]
    },
    {
     "data": {
      "text/html": [
       "<div>\n",
       "<style scoped>\n",
       "    .dataframe tbody tr th:only-of-type {\n",
       "        vertical-align: middle;\n",
       "    }\n",
       "\n",
       "    .dataframe tbody tr th {\n",
       "        vertical-align: top;\n",
       "    }\n",
       "\n",
       "    .dataframe thead th {\n",
       "        text-align: right;\n",
       "    }\n",
       "</style>\n",
       "<table border=\"1\" class=\"dataframe\">\n",
       "  <thead>\n",
       "    <tr style=\"text-align: right;\">\n",
       "      <th></th>\n",
       "      <th>asin</th>\n",
       "      <th>sku</th>\n",
       "      <th>category</th>\n",
       "      <th>sub_category</th>\n",
       "      <th>reviewId</th>\n",
       "      <th>date</th>\n",
       "      <th>rating</th>\n",
       "      <th>title</th>\n",
       "      <th>review_text</th>\n",
       "      <th>corpus_list</th>\n",
       "      <th>shiny_factor</th>\n",
       "      <th>shiny_keyword</th>\n",
       "    </tr>\n",
       "  </thead>\n",
       "  <tbody>\n",
       "    <tr>\n",
       "      <th>0</th>\n",
       "      <td>B075FFFNX4</td>\n",
       "      <td>OLB-NPDBS-39</td>\n",
       "      <td>frames for mattresses</td>\n",
       "      <td>newport db</td>\n",
       "      <td>R1MS7JRMHKVVMV</td>\n",
       "      <td>2021-06-26 12:00:00</td>\n",
       "      <td>5</td>\n",
       "      <td>Very easy assembly, Sturdy. Very nice. Excelle...</td>\n",
       "      <td>love this bed. as far as assembly, it was the...</td>\n",
       "      <td>[love, bed, far, assembly, very, best, easiest...</td>\n",
       "      <td>Assemble</td>\n",
       "      <td>put together</td>\n",
       "    </tr>\n",
       "    <tr>\n",
       "      <th>1</th>\n",
       "      <td>B075FFFNX4</td>\n",
       "      <td>OLB-NPDBS-39</td>\n",
       "      <td>frames for mattresses</td>\n",
       "      <td>newport db</td>\n",
       "      <td>R3F42TCIGXETW0</td>\n",
       "      <td>2021-06-22 12:00:00</td>\n",
       "      <td>5</td>\n",
       "      <td>Absolutely Perfect !!!</td>\n",
       "      <td>this is the perfect piece of furniture for th...</td>\n",
       "      <td>[perfect, piece, of, furniture, small, space, ...</td>\n",
       "      <td>Quality</td>\n",
       "      <td>very sturdy</td>\n",
       "    </tr>\n",
       "    <tr>\n",
       "      <th>2</th>\n",
       "      <td>B075FFFNX4</td>\n",
       "      <td>OLB-NPDBS-39</td>\n",
       "      <td>frames for mattresses</td>\n",
       "      <td>newport db</td>\n",
       "      <td>R3F42TCIGXETW0</td>\n",
       "      <td>2021-06-22 12:00:00</td>\n",
       "      <td>5</td>\n",
       "      <td>Absolutely Perfect !!!</td>\n",
       "      <td>this is the perfect piece of furniture for th...</td>\n",
       "      <td>[perfect, piece, of, furniture, small, space, ...</td>\n",
       "      <td>Assemble</td>\n",
       "      <td>easy to put together</td>\n",
       "    </tr>\n",
       "    <tr>\n",
       "      <th>3</th>\n",
       "      <td>B01MXE2XF1</td>\n",
       "      <td>FCPB-F</td>\n",
       "      <td>frames for mattresses</td>\n",
       "      <td>classic faux leather</td>\n",
       "      <td>R3OKBHG3KR1Q7H</td>\n",
       "      <td>2021-06-09 12:00:00</td>\n",
       "      <td>5</td>\n",
       "      <td>Durable</td>\n",
       "      <td>very easy to assemble and looks great. i got ...</td>\n",
       "      <td>[very, easy to assemble, look great, year, old...</td>\n",
       "      <td>Assemble</td>\n",
       "      <td>easy to assemble</td>\n",
       "    </tr>\n",
       "    <tr>\n",
       "      <th>4</th>\n",
       "      <td>B01MXE2XF1</td>\n",
       "      <td>FCPB-F</td>\n",
       "      <td>frames for mattresses</td>\n",
       "      <td>classic faux leather</td>\n",
       "      <td>R3OKBHG3KR1Q7H</td>\n",
       "      <td>2021-06-09 12:00:00</td>\n",
       "      <td>5</td>\n",
       "      <td>Durable</td>\n",
       "      <td>very easy to assemble and looks great. i got ...</td>\n",
       "      <td>[very, easy to assemble, look great, year, old...</td>\n",
       "      <td>Design</td>\n",
       "      <td>look great</td>\n",
       "    </tr>\n",
       "  </tbody>\n",
       "</table>\n",
       "</div>"
      ],
      "text/plain": [
       "         asin           sku               category          sub_category  \\\n",
       "0  B075FFFNX4  OLB-NPDBS-39  frames for mattresses            newport db   \n",
       "1  B075FFFNX4  OLB-NPDBS-39  frames for mattresses            newport db   \n",
       "2  B075FFFNX4  OLB-NPDBS-39  frames for mattresses            newport db   \n",
       "3  B01MXE2XF1        FCPB-F  frames for mattresses  classic faux leather   \n",
       "4  B01MXE2XF1        FCPB-F  frames for mattresses  classic faux leather   \n",
       "\n",
       "         reviewId                 date rating  \\\n",
       "0  R1MS7JRMHKVVMV  2021-06-26 12:00:00      5   \n",
       "1  R3F42TCIGXETW0  2021-06-22 12:00:00      5   \n",
       "2  R3F42TCIGXETW0  2021-06-22 12:00:00      5   \n",
       "3  R3OKBHG3KR1Q7H  2021-06-09 12:00:00      5   \n",
       "4  R3OKBHG3KR1Q7H  2021-06-09 12:00:00      5   \n",
       "\n",
       "                                               title  \\\n",
       "0  Very easy assembly, Sturdy. Very nice. Excelle...   \n",
       "1                             Absolutely Perfect !!!   \n",
       "2                             Absolutely Perfect !!!   \n",
       "3                                            Durable   \n",
       "4                                            Durable   \n",
       "\n",
       "                                         review_text  \\\n",
       "0   love this bed. as far as assembly, it was the...   \n",
       "1   this is the perfect piece of furniture for th...   \n",
       "2   this is the perfect piece of furniture for th...   \n",
       "3   very easy to assemble and looks great. i got ...   \n",
       "4   very easy to assemble and looks great. i got ...   \n",
       "\n",
       "                                         corpus_list shiny_factor  \\\n",
       "0  [love, bed, far, assembly, very, best, easiest...     Assemble   \n",
       "1  [perfect, piece, of, furniture, small, space, ...      Quality   \n",
       "2  [perfect, piece, of, furniture, small, space, ...     Assemble   \n",
       "3  [very, easy to assemble, look great, year, old...     Assemble   \n",
       "4  [very, easy to assemble, look great, year, old...       Design   \n",
       "\n",
       "          shiny_keyword  \n",
       "0          put together  \n",
       "1           very sturdy  \n",
       "2  easy to put together  \n",
       "3      easy to assemble  \n",
       "4            look great  "
      ]
     },
     "execution_count": 35,
     "metadata": {},
     "output_type": "execute_result"
    }
   ],
   "source": [
    "new_df = pd.DataFrame(columns=sample_review_df.columns)\n",
    "new_df['shiny_factor'] = pd.Series()\n",
    "new_df['shiny_keyword'] = pd.Series()\n",
    "\n",
    "for i in range(len(sample_review_df)) :\n",
    "    for c in sample_review_df.iloc[i, -1] : \n",
    "        if c in shiny_df_list : \n",
    "            new_df.loc[len(new_df)] = np.nan\n",
    "            new_df.iloc[-1, :-2] = sample_review_df.iloc[i, :]\n",
    "            new_df.iloc[-1, -2] = shn_kwd[shn_kwd['keyword']==c].iloc[0]['factor']\n",
    "            new_df.iloc[-1, -1] = c\n",
    "\n",
    "print(new_df.shape)\n",
    "new_df.head()"
   ]
  },
  {
   "cell_type": "markdown",
   "id": "b998c7bc-ee5e-4073-91f6-6da2f0dc4d4b",
   "metadata": {},
   "source": [
    "## Count Keyword"
   ]
  },
  {
   "cell_type": "code",
   "execution_count": 36,
   "id": "2c249a3d-7df9-46c9-985a-171598776a7f",
   "metadata": {
    "execution": {
     "iopub.execute_input": "2021-07-02T01:49:59.012809Z",
     "iopub.status.busy": "2021-07-02T01:49:59.012659Z",
     "iopub.status.idle": "2021-07-02T01:49:59.020528Z",
     "shell.execute_reply": "2021-07-02T01:49:59.020111Z",
     "shell.execute_reply.started": "2021-07-02T01:49:59.012792Z"
    },
    "tags": []
   },
   "outputs": [
    {
     "data": {
      "text/html": [
       "<div>\n",
       "<style scoped>\n",
       "    .dataframe tbody tr th:only-of-type {\n",
       "        vertical-align: middle;\n",
       "    }\n",
       "\n",
       "    .dataframe tbody tr th {\n",
       "        vertical-align: top;\n",
       "    }\n",
       "\n",
       "    .dataframe thead th {\n",
       "        text-align: right;\n",
       "    }\n",
       "</style>\n",
       "<table border=\"1\" class=\"dataframe\">\n",
       "  <thead>\n",
       "    <tr style=\"text-align: right;\">\n",
       "      <th></th>\n",
       "      <th>asin</th>\n",
       "      <th>counts</th>\n",
       "    </tr>\n",
       "  </thead>\n",
       "  <tbody>\n",
       "    <tr>\n",
       "      <th>0</th>\n",
       "      <td>B074QWVHDJ</td>\n",
       "      <td>59</td>\n",
       "    </tr>\n",
       "    <tr>\n",
       "      <th>1</th>\n",
       "      <td>B00NPVCPRM</td>\n",
       "      <td>57</td>\n",
       "    </tr>\n",
       "    <tr>\n",
       "      <th>2</th>\n",
       "      <td>B06ZZ3XHX5</td>\n",
       "      <td>49</td>\n",
       "    </tr>\n",
       "    <tr>\n",
       "      <th>3</th>\n",
       "      <td>B006MISZOC</td>\n",
       "      <td>42</td>\n",
       "    </tr>\n",
       "    <tr>\n",
       "      <th>4</th>\n",
       "      <td>B006MIUM20</td>\n",
       "      <td>40</td>\n",
       "    </tr>\n",
       "  </tbody>\n",
       "</table>\n",
       "</div>"
      ],
      "text/plain": [
       "         asin  counts\n",
       "0  B074QWVHDJ      59\n",
       "1  B00NPVCPRM      57\n",
       "2  B06ZZ3XHX5      49\n",
       "3  B006MISZOC      42\n",
       "4  B006MIUM20      40"
      ]
     },
     "execution_count": 36,
     "metadata": {},
     "output_type": "execute_result"
    }
   ],
   "source": [
    "tmp_new_df = new_df.groupby(['asin'])\n",
    "tmp_new_df = tmp_new_df.size().reset_index(name='counts').sort_values('counts', ascending=False, ignore_index=True)\n",
    "top_asin = tmp_new_df.loc[0, 'asin']\n",
    "tmp_new_df.head()"
   ]
  },
  {
   "cell_type": "code",
   "execution_count": 37,
   "id": "5f85a861-8eb3-43bd-b237-a3205131cb80",
   "metadata": {
    "execution": {
     "iopub.execute_input": "2021-07-02T01:49:59.021331Z",
     "iopub.status.busy": "2021-07-02T01:49:59.021194Z",
     "iopub.status.idle": "2021-07-02T01:49:59.030033Z",
     "shell.execute_reply": "2021-07-02T01:49:59.029625Z",
     "shell.execute_reply.started": "2021-07-02T01:49:59.021315Z"
    },
    "tags": []
   },
   "outputs": [
    {
     "data": {
      "text/html": [
       "<div>\n",
       "<style scoped>\n",
       "    .dataframe tbody tr th:only-of-type {\n",
       "        vertical-align: middle;\n",
       "    }\n",
       "\n",
       "    .dataframe tbody tr th {\n",
       "        vertical-align: top;\n",
       "    }\n",
       "\n",
       "    .dataframe thead th {\n",
       "        text-align: right;\n",
       "    }\n",
       "</style>\n",
       "<table border=\"1\" class=\"dataframe\">\n",
       "  <thead>\n",
       "    <tr style=\"text-align: right;\">\n",
       "      <th></th>\n",
       "      <th>asin</th>\n",
       "      <th>shiny_factor</th>\n",
       "      <th>counts</th>\n",
       "    </tr>\n",
       "  </thead>\n",
       "  <tbody>\n",
       "    <tr>\n",
       "      <th>581</th>\n",
       "      <td>B074QWVHDJ</td>\n",
       "      <td>Assemble</td>\n",
       "      <td>40</td>\n",
       "    </tr>\n",
       "    <tr>\n",
       "      <th>59</th>\n",
       "      <td>B00NPVCPRM</td>\n",
       "      <td>Assemble</td>\n",
       "      <td>36</td>\n",
       "    </tr>\n",
       "    <tr>\n",
       "      <th>418</th>\n",
       "      <td>B06ZZ3XHX5</td>\n",
       "      <td>Assemble</td>\n",
       "      <td>28</td>\n",
       "    </tr>\n",
       "    <tr>\n",
       "      <th>9</th>\n",
       "      <td>B006MISZOC</td>\n",
       "      <td>Assemble</td>\n",
       "      <td>28</td>\n",
       "    </tr>\n",
       "    <tr>\n",
       "      <th>13</th>\n",
       "      <td>B006MIUM20</td>\n",
       "      <td>Assemble</td>\n",
       "      <td>28</td>\n",
       "    </tr>\n",
       "  </tbody>\n",
       "</table>\n",
       "</div>"
      ],
      "text/plain": [
       "           asin shiny_factor  counts\n",
       "581  B074QWVHDJ     Assemble      40\n",
       "59   B00NPVCPRM     Assemble      36\n",
       "418  B06ZZ3XHX5     Assemble      28\n",
       "9    B006MISZOC     Assemble      28\n",
       "13   B006MIUM20     Assemble      28"
      ]
     },
     "execution_count": 37,
     "metadata": {},
     "output_type": "execute_result"
    }
   ],
   "source": [
    "tmp_new_df = new_df.groupby(['asin', 'shiny_factor'])\n",
    "tmp_new_df.size().reset_index(name='counts').sort_values('counts', ascending=False).head()"
   ]
  },
  {
   "cell_type": "code",
   "execution_count": 38,
   "id": "d4fbf27b-5955-4cc8-af1f-e55dd35c1fb4",
   "metadata": {
    "execution": {
     "iopub.execute_input": "2021-07-02T01:49:59.030802Z",
     "iopub.status.busy": "2021-07-02T01:49:59.030669Z",
     "iopub.status.idle": "2021-07-02T01:49:59.040674Z",
     "shell.execute_reply": "2021-07-02T01:49:59.040312Z",
     "shell.execute_reply.started": "2021-07-02T01:49:59.030787Z"
    },
    "tags": []
   },
   "outputs": [
    {
     "data": {
      "text/html": [
       "<div>\n",
       "<style scoped>\n",
       "    .dataframe tbody tr th:only-of-type {\n",
       "        vertical-align: middle;\n",
       "    }\n",
       "\n",
       "    .dataframe tbody tr th {\n",
       "        vertical-align: top;\n",
       "    }\n",
       "\n",
       "    .dataframe thead th {\n",
       "        text-align: right;\n",
       "    }\n",
       "</style>\n",
       "<table border=\"1\" class=\"dataframe\">\n",
       "  <thead>\n",
       "    <tr style=\"text-align: right;\">\n",
       "      <th></th>\n",
       "      <th>asin</th>\n",
       "      <th>shiny_factor</th>\n",
       "      <th>shiny_keyword</th>\n",
       "      <th>counts</th>\n",
       "    </tr>\n",
       "  </thead>\n",
       "  <tbody>\n",
       "    <tr>\n",
       "      <th>34</th>\n",
       "      <td>B006MIUM20</td>\n",
       "      <td>Assemble</td>\n",
       "      <td>easy to assemble</td>\n",
       "      <td>17</td>\n",
       "    </tr>\n",
       "    <tr>\n",
       "      <th>19</th>\n",
       "      <td>B006MISZOC</td>\n",
       "      <td>Assemble</td>\n",
       "      <td>easy to assemble</td>\n",
       "      <td>17</td>\n",
       "    </tr>\n",
       "    <tr>\n",
       "      <th>139</th>\n",
       "      <td>B00NPVCPRM</td>\n",
       "      <td>Assemble</td>\n",
       "      <td>easy to assemble</td>\n",
       "      <td>16</td>\n",
       "    </tr>\n",
       "    <tr>\n",
       "      <th>1112</th>\n",
       "      <td>B074QWVHDJ</td>\n",
       "      <td>Assemble</td>\n",
       "      <td>easy to assemble</td>\n",
       "      <td>14</td>\n",
       "    </tr>\n",
       "    <tr>\n",
       "      <th>66</th>\n",
       "      <td>B00EYN1NEG</td>\n",
       "      <td>Assemble</td>\n",
       "      <td>easy to assemble</td>\n",
       "      <td>10</td>\n",
       "    </tr>\n",
       "  </tbody>\n",
       "</table>\n",
       "</div>"
      ],
      "text/plain": [
       "            asin shiny_factor     shiny_keyword  counts\n",
       "34    B006MIUM20     Assemble  easy to assemble      17\n",
       "19    B006MISZOC     Assemble  easy to assemble      17\n",
       "139   B00NPVCPRM     Assemble  easy to assemble      16\n",
       "1112  B074QWVHDJ     Assemble  easy to assemble      14\n",
       "66    B00EYN1NEG     Assemble  easy to assemble      10"
      ]
     },
     "execution_count": 38,
     "metadata": {},
     "output_type": "execute_result"
    }
   ],
   "source": [
    "tmp_new_df = new_df.groupby(['asin', 'shiny_factor', 'shiny_keyword'])\n",
    "tmp_new_df.size().reset_index(name='counts').sort_values('counts', ascending=False).head()"
   ]
  },
  {
   "cell_type": "markdown",
   "id": "544781d3-0ef0-4635-b129-e054c9afdce3",
   "metadata": {},
   "source": [
    "## Chart"
   ]
  },
  {
   "cell_type": "markdown",
   "id": "79f4e40e-8d2d-4bed-8272-de366607c714",
   "metadata": {},
   "source": [
    "### Factor Level"
   ]
  },
  {
   "cell_type": "code",
   "execution_count": 39,
   "id": "695bb211-10d3-4de3-bd7f-49b7d3e05b39",
   "metadata": {
    "execution": {
     "iopub.execute_input": "2021-07-02T01:49:59.041406Z",
     "iopub.status.busy": "2021-07-02T01:49:59.041278Z",
     "iopub.status.idle": "2021-07-02T01:49:59.200164Z",
     "shell.execute_reply": "2021-07-02T01:49:59.199719Z",
     "shell.execute_reply.started": "2021-07-02T01:49:59.041392Z"
    },
    "tags": []
   },
   "outputs": [
    {
     "name": "stdout",
     "output_type": "stream",
     "text": [
      "         asin       shiny_factor  fct_counts\n",
      "0  B074QWVHDJ           Assemble          40\n",
      "5  B074QWVHDJ            Quality           9\n",
      "2  B074QWVHDJ             Design           4\n",
      "6  B074QWVHDJ              Value           3\n",
      "1  B074QWVHDJ           Delivery           1\n",
      "3  B074QWVHDJ             Others           1\n",
      "4  B074QWVHDJ  Promised Customer           1\n"
     ]
    },
    {
     "data": {
      "image/png": "[encoded data removed]",
      "text/plain": [
       "<Figure size 720x720 with 1 Axes>"
      ]
     },
     "metadata": {},
     "output_type": "display_data"
    }
   ],
   "source": [
    "tmp_new_df = new_df[new_df['asin']==top_asin].groupby(['asin', 'shiny_factor'])\n",
    "tmp_new_df = tmp_new_df.size().reset_index(name='fct_counts').sort_values('fct_counts', ascending=False)\n",
    "print(tmp_new_df)\n",
    "\n",
    "fig, ax = plt.subplots(facecolor='white', figsize=(10, 10))\n",
    "plt.rcParams['text.color'] = 'black'\n",
    "plt.rcParams['font.size'] = 10\n",
    "labels = tmp_new_df['shiny_factor'].tolist()\n",
    "explode = [0.05]*len(labels)\n",
    "\n",
    "theme = plt.get_cmap('YlGn').reversed() # YlGn, Greens\n",
    "ax.set_prop_cycle(\"color\", [theme(1. * i / len(tmp_new_df['fct_counts'])) for i in range(len(tmp_new_df['fct_counts']))])\n",
    "\n",
    "plt.pie(tmp_new_df['fct_counts'],\n",
    "        explode=explode,\n",
    "        shadow=True,\n",
    "        autopct='%1.1f%%',\n",
    "        startangle=90,\n",
    "        counterclock=False)\n",
    "plt.legend(labels, loc='upper left', bbox_to_anchor=(1.04,1))\n",
    "plt.show()"
   ]
  },
  {
   "cell_type": "markdown",
   "id": "b82e4d1f-1507-4ca2-a093-88edb4fd9a48",
   "metadata": {},
   "source": [
    "### Keyword Level"
   ]
  },
  {
   "cell_type": "code",
   "execution_count": 40,
   "id": "194b4f53-3f54-4d91-8166-6a7e2f630c3c",
   "metadata": {
    "execution": {
     "iopub.execute_input": "2021-07-02T01:49:59.200950Z",
     "iopub.status.busy": "2021-07-02T01:49:59.200811Z",
     "iopub.status.idle": "2021-07-02T01:49:59.409399Z",
     "shell.execute_reply": "2021-07-02T01:49:59.408980Z",
     "shell.execute_reply.started": "2021-07-02T01:49:59.200929Z"
    },
    "tags": []
   },
   "outputs": [
    {
     "name": "stdout",
     "output_type": "stream",
     "text": [
      "          asin shiny_factor         shiny_keyword  kwd_counts\n",
      "3   B074QWVHDJ     Assemble      easy to assemble          14\n",
      "5   B074QWVHDJ     Assemble  easy to put together           7\n",
      "8   B074QWVHDJ     Assemble               ratchet           5\n",
      "1   B074QWVHDJ     Assemble          allen wrench           4\n",
      "4   B074QWVHDJ     Assemble        easy to follow           3\n",
      "7   B074QWVHDJ     Assemble          put together           2\n",
      "0   B074QWVHDJ     Assemble             allen key           1\n",
      "2   B074QWVHDJ     Assemble           easy set up           1\n",
      "6   B074QWVHDJ     Assemble    great instructions           1\n",
      "9   B074QWVHDJ     Assemble    simple to assemble           1\n",
      "10  B074QWVHDJ     Assemble                wrench           1\n"
     ]
    },
    {
     "data": {
      "image/png": "[encoded data removed]",
      "text/plain": [
       "<Figure size 1080x1080 with 1 Axes>"
      ]
     },
     "metadata": {},
     "output_type": "display_data"
    }
   ],
   "source": [
    "tmp_new_df = new_df[(new_df['asin']==top_asin) & (new_df['shiny_factor']=='Assemble')].groupby(['asin', 'shiny_factor', 'shiny_keyword'])\n",
    "tmp_new_df = tmp_new_df.size().reset_index(name='kwd_counts').sort_values('kwd_counts', ascending=False)\n",
    "print(tmp_new_df)\n",
    "\n",
    "labels = tmp_new_df['shiny_keyword'].tolist()\n",
    "explode = [0.05]*len(labels)\n",
    "\n",
    "fig, ax = plt.subplots(facecolor='white', figsize=(15, 15))\n",
    "plt.rcParams['text.color'] = 'black'\n",
    "plt.rcParams['font.size'] = 15\n",
    "\n",
    "theme = plt.get_cmap('Greens').reversed() # YlGn, Greens\n",
    "ax.set_prop_cycle(\"color\", [theme(1. * i / len(tmp_new_df['kwd_counts'])) for i in range(len(tmp_new_df['kwd_counts']))])\n",
    "\n",
    "plt.pie(tmp_new_df['kwd_counts'],\n",
    "        labels=labels,\n",
    "        explode=explode,\n",
    "        shadow=True,\n",
    "        autopct='%1.1f%%',\n",
    "        startangle=90,\n",
    "        counterclock=False)\n",
    "plt.show()"
   ]
  }
 ],
 "metadata": {
  "kernelspec": {
   "display_name": "Python 3",
   "language": "python",
   "name": "python3"
  },
  "language_info": {
   "codemirror_mode": {
    "name": "ipython",
    "version": 3
   },
   "file_extension": ".py",
   "mimetype": "text/x-python",
   "name": "python",
   "nbconvert_exporter": "python",
   "pygments_lexer": "ipython3",
   "version": "3.8.10"
  },
  "toc-autonumbering": true,
  "toc-showmarkdowntxt": false
 },
 "nbformat": 4,
 "nbformat_minor": 5
}
